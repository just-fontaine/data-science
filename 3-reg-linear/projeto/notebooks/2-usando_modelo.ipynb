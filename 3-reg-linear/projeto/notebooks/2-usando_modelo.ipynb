{
 "cells": [
  {
   "cell_type": "code",
   "execution_count": 3,
   "metadata": {},
   "outputs": [],
   "source": [
    "import warnings\n",
    "\n",
    "warnings.filterwarnings('ignore')"
   ]
  },
  {
   "cell_type": "code",
   "execution_count": 5,
   "metadata": {},
   "outputs": [
    {
     "name": "stdout",
     "output_type": "stream",
     "text": [
      "12191.52\n"
     ]
    }
   ],
   "source": [
    "import pickle\n",
    "\n",
    "arquivo = open(\n",
    "    r'C:\\Estudos\\alura\\data-science\\3-reg-linear\\projeto\\modelos\\modelo_consumo_cerveja',\n",
    "    'rb'\n",
    ")\n",
    "\n",
    "modelo = pickle.load(arquivo)\n",
    "arquivo.close()\n",
    "\n",
    "temp_max = 10; chuva = 10; fds = 0\n",
    "\n",
    "entrada = [[temp_max, chuva, fds]]\n",
    "\n",
    "print(f'{modelo.predict(entrada)[0]:.2f}')"
   ]
  }
 ],
 "metadata": {
  "kernelspec": {
   "display_name": "Python 3",
   "language": "python",
   "name": "python3"
  },
  "language_info": {
   "codemirror_mode": {
    "name": "ipython",
    "version": 3
   },
   "file_extension": ".py",
   "mimetype": "text/x-python",
   "name": "python",
   "nbconvert_exporter": "python",
   "pygments_lexer": "ipython3",
   "version": "3.12.8"
  }
 },
 "nbformat": 4,
 "nbformat_minor": 2
}
