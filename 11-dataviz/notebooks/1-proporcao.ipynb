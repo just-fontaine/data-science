{
 "cells": [
  {
   "cell_type": "code",
   "execution_count": 112,
   "metadata": {},
   "outputs": [],
   "source": [
    "# Bibliotecas\n",
    "\n",
    "import pandas as pd\n",
    "import matplotlib.pyplot as plt\n",
    "import seaborn as sns\n",
    "import numpy as np\n",
    "import plotly.graph_objects as go"
   ]
  },
  {
   "cell_type": "code",
   "execution_count": 113,
   "metadata": {},
   "outputs": [],
   "source": [
    "# Paleta\n",
    "\n",
    "AZUL1, AZUL2, AZUL3, AZUL4, AZUL5, AZUL6 = '#174A7E', '#4A81BF', \"#6495ED\", '#2596BE', '#94AFC5', '#CDDBF3'\n",
    "CINZA1, CINZA2, CINZA3, CINZA4, CINZA5, BRANCO = '#231F20', '#414040', '#555655', '#A6A6A5', '#BFBEBE', '#FFFFFF'\n",
    "VERMELHO1, VERMELHO2, LARANJA1 = '#C3514E',\t'#E6BAB7',\t'#F79747'\n",
    "VERDE1, VERDE2, VERDE3 = '#0C8040',\t'#9ABB59', '#9ECCB3'"
   ]
  },
  {
   "cell_type": "code",
   "execution_count": 114,
   "metadata": {},
   "outputs": [],
   "source": [
    "df_pib = pd.read_csv(\n",
    "    r'C:\\Estudos\\alura\\data-science\\11-dataviz\\dados\\pib_br_2002_2020_estados.csv',\n",
    "    encoding='UTF-8' # ISO-8859-1 | latin1 | UTF-8\n",
    ")"
   ]
  },
  {
   "cell_type": "code",
   "execution_count": 115,
   "metadata": {},
   "outputs": [
    {
     "data": {
      "text/html": [
       "<div>\n",
       "<style scoped>\n",
       "    .dataframe tbody tr th:only-of-type {\n",
       "        vertical-align: middle;\n",
       "    }\n",
       "\n",
       "    .dataframe tbody tr th {\n",
       "        vertical-align: top;\n",
       "    }\n",
       "\n",
       "    .dataframe thead th {\n",
       "        text-align: right;\n",
       "    }\n",
       "</style>\n",
       "<table border=\"1\" class=\"dataframe\">\n",
       "  <thead>\n",
       "    <tr style=\"text-align: right;\">\n",
       "      <th></th>\n",
       "      <th>ano</th>\n",
       "      <th>sigla_uf</th>\n",
       "      <th>regiao</th>\n",
       "      <th>pib</th>\n",
       "      <th>impostos_liquidos</th>\n",
       "      <th>va</th>\n",
       "      <th>va_agropecuaria</th>\n",
       "      <th>va_industria</th>\n",
       "      <th>va_servicos</th>\n",
       "      <th>va_adespss</th>\n",
       "    </tr>\n",
       "  </thead>\n",
       "  <tbody>\n",
       "    <tr>\n",
       "      <th>0</th>\n",
       "      <td>2002</td>\n",
       "      <td>RO</td>\n",
       "      <td>Norte</td>\n",
       "      <td>7467629886</td>\n",
       "      <td>839731192</td>\n",
       "      <td>6627898698</td>\n",
       "      <td>715526872</td>\n",
       "      <td>1191090432</td>\n",
       "      <td>2484579193</td>\n",
       "      <td>2236702207</td>\n",
       "    </tr>\n",
       "    <tr>\n",
       "      <th>1</th>\n",
       "      <td>2003</td>\n",
       "      <td>RO</td>\n",
       "      <td>Norte</td>\n",
       "      <td>9425010486</td>\n",
       "      <td>1108434936</td>\n",
       "      <td>8316575548</td>\n",
       "      <td>1278658831</td>\n",
       "      <td>1216605061</td>\n",
       "      <td>3376727040</td>\n",
       "      <td>2444584625</td>\n",
       "    </tr>\n",
       "    <tr>\n",
       "      <th>2</th>\n",
       "      <td>2004</td>\n",
       "      <td>RO</td>\n",
       "      <td>Norte</td>\n",
       "      <td>11004641436</td>\n",
       "      <td>1288806654</td>\n",
       "      <td>9715834778</td>\n",
       "      <td>1288515348</td>\n",
       "      <td>1674933817</td>\n",
       "      <td>3986529419</td>\n",
       "      <td>2765856199</td>\n",
       "    </tr>\n",
       "  </tbody>\n",
       "</table>\n",
       "</div>"
      ],
      "text/plain": [
       "    ano sigla_uf regiao          pib  impostos_liquidos          va  \\\n",
       "0  2002       RO  Norte   7467629886          839731192  6627898698   \n",
       "1  2003       RO  Norte   9425010486         1108434936  8316575548   \n",
       "2  2004       RO  Norte  11004641436         1288806654  9715834778   \n",
       "\n",
       "   va_agropecuaria  va_industria  va_servicos  va_adespss  \n",
       "0        715526872    1191090432   2484579193  2236702207  \n",
       "1       1278658831    1216605061   3376727040  2444584625  \n",
       "2       1288515348    1674933817   3986529419  2765856199  "
      ]
     },
     "execution_count": 115,
     "metadata": {},
     "output_type": "execute_result"
    }
   ],
   "source": [
    "df_pib.head(3)"
   ]
  },
  {
   "cell_type": "code",
   "execution_count": 116,
   "metadata": {},
   "outputs": [
    {
     "name": "stdout",
     "output_type": "stream",
     "text": [
      "<class 'pandas.core.frame.DataFrame'>\n",
      "RangeIndex: 513 entries, 0 to 512\n",
      "Data columns (total 10 columns):\n",
      " #   Column             Non-Null Count  Dtype \n",
      "---  ------             --------------  ----- \n",
      " 0   ano                513 non-null    int64 \n",
      " 1   sigla_uf           513 non-null    object\n",
      " 2   regiao             513 non-null    object\n",
      " 3   pib                513 non-null    int64 \n",
      " 4   impostos_liquidos  513 non-null    int64 \n",
      " 5   va                 513 non-null    int64 \n",
      " 6   va_agropecuaria    513 non-null    int64 \n",
      " 7   va_industria       513 non-null    int64 \n",
      " 8   va_servicos        513 non-null    int64 \n",
      " 9   va_adespss         513 non-null    int64 \n",
      "dtypes: int64(8), object(2)\n",
      "memory usage: 40.2+ KB\n"
     ]
    }
   ],
   "source": [
    "df_pib.info()"
   ]
  },
  {
   "cell_type": "code",
   "execution_count": 117,
   "metadata": {},
   "outputs": [
    {
     "data": {
      "text/html": [
       "<div>\n",
       "<style scoped>\n",
       "    .dataframe tbody tr th:only-of-type {\n",
       "        vertical-align: middle;\n",
       "    }\n",
       "\n",
       "    .dataframe tbody tr th {\n",
       "        vertical-align: top;\n",
       "    }\n",
       "\n",
       "    .dataframe thead th {\n",
       "        text-align: right;\n",
       "    }\n",
       "</style>\n",
       "<table border=\"1\" class=\"dataframe\">\n",
       "  <thead>\n",
       "    <tr style=\"text-align: right;\">\n",
       "      <th></th>\n",
       "      <th>pib</th>\n",
       "    </tr>\n",
       "    <tr>\n",
       "      <th>sigla_uf</th>\n",
       "      <th></th>\n",
       "    </tr>\n",
       "  </thead>\n",
       "  <tbody>\n",
       "    <tr>\n",
       "      <th>SP</th>\n",
       "      <td>2377638979835</td>\n",
       "    </tr>\n",
       "    <tr>\n",
       "      <th>RJ</th>\n",
       "      <td>753823710636</td>\n",
       "    </tr>\n",
       "    <tr>\n",
       "      <th>MG</th>\n",
       "      <td>682786116407</td>\n",
       "    </tr>\n",
       "    <tr>\n",
       "      <th>PR</th>\n",
       "      <td>487930593779</td>\n",
       "    </tr>\n",
       "    <tr>\n",
       "      <th>RS</th>\n",
       "      <td>470941846057</td>\n",
       "    </tr>\n",
       "  </tbody>\n",
       "</table>\n",
       "</div>"
      ],
      "text/plain": [
       "                    pib\n",
       "sigla_uf               \n",
       "SP        2377638979835\n",
       "RJ         753823710636\n",
       "MG         682786116407\n",
       "PR         487930593779\n",
       "RS         470941846057"
      ]
     },
     "execution_count": 117,
     "metadata": {},
     "output_type": "execute_result"
    }
   ],
   "source": [
    "df_pib_2020 = df_pib.copy(deep=True)\n",
    "\n",
    "df_pib_2020 = df_pib_2020.query(\"ano == 2020\").set_index('sigla_uf')\n",
    "df_pib_2020 = df_pib_2020.sort_values(by='pib', ascending=False)[['pib']]\n",
    "\n",
    "df_pib_2020.head(n=5)"
   ]
  },
  {
   "cell_type": "code",
   "execution_count": 118,
   "metadata": {},
   "outputs": [
    {
     "data": {
      "image/png": "[encoded data removed]",
      "text/plain": [
       "<Figure size 600x600 with 1 Axes>"
      ]
     },
     "metadata": {},
     "output_type": "display_data"
    }
   ],
   "source": [
    "fig, ax = plt.subplots(figsize=(6, 6))\n",
    "\n",
    "ax.pie(data=df_pib_2020, x='pib',\n",
    "       labels=df_pib_2020.index,\n",
    "       autopct='%.1f%%', radius=1.1,\n",
    "       pctdistance=0.8, textprops={'size': 12})\n",
    "\n",
    "plt.suptitle('Produto Interno Bruto (PIB) por estado em 2020', size=18, color=CINZA1)\n",
    "plt.title('Em porcentagem (%)', fontsize=14, color=CINZA3, pad=15,\n",
    "          x=0.1, y=0.98)\n",
    "\n",
    "ax.text(1.1, 0.5,\n",
    "         'Um gráfico de pizza, consegue trazer a informação de\\n'\n",
    "         'participação no PIB de forma direta, no entanto, percebemos\\n'\n",
    "         'que o uso de muitas fatias atrapalham na análise dos\\n'\n",
    "         'dados para estados com menor parcela no PIB.\\n'\n",
    "         'Além de gerar incômodo visualmente para quem lê.\\n\\n'\n",
    "         'Percebemos que os estados de São Paulo, Rio de Janeiro e Minas Gerais\\n'\n",
    "         'possuem maior participação no PIB nacional, porém, não conseguimos\\n'\n",
    "         'precisar quais estados tem a menor e quanto seria em percentual.',\n",
    "         fontsize=12,\n",
    "         linespacing=1.45,\n",
    "         color='black', transform= ax.transAxes)\n",
    "\n",
    "plt.show()"
   ]
  },
  {
   "cell_type": "code",
   "execution_count": 119,
   "metadata": {},
   "outputs": [],
   "source": [
    "df_pib_2002 = df_pib.query('ano == 2002')[['regiao', 'pib']]\n",
    "df_pib_2020 = df_pib.query('ano == 2020')[['regiao', 'pib']]\n",
    "\n",
    "df_pib_2002 = df_pib_2002.groupby(\n",
    "    by='regiao'\n",
    ").agg('sum').sort_values(by='pib', ascending=False)\n",
    "\n",
    "df_pib_2020 = df_pib_2020.groupby(\n",
    "    by='regiao'\n",
    ").agg('sum').sort_values(by='pib', ascending=False)\n",
    "\n",
    "# display(df_pib_2002, df_pib_2020)"
   ]
  },
  {
   "cell_type": "code",
   "execution_count": 120,
   "metadata": {},
   "outputs": [],
   "source": [
    "config = {'size': 12, 'fontweight': 'bold', 'color': r'#ffffff'}"
   ]
  },
  {
   "cell_type": "code",
   "execution_count": 121,
   "metadata": {},
   "outputs": [
    {
     "data": {
      "image/png": "[encoded data removed]",
      "text/plain": [
       "<Figure size 1400x600 with 2 Axes>"
      ]
     },
     "metadata": {},
     "output_type": "display_data"
    }
   ],
   "source": [
    "fig, axs = plt.subplots(1, 2, figsize=(14, 6))\n",
    "\n",
    "cores = [AZUL3, LARANJA1, AZUL5, VERDE1, CINZA5]\n",
    "\n",
    "plt.suptitle('Produto Interno Bruto (PIB) por região',\n",
    "             fontsize=18, color=CINZA1, y=1.03)\n",
    "\n",
    "# Gráfico 1\n",
    "\n",
    "ptc, text, _ = axs[0].pie(data=df_pib_2002, x='pib',\n",
    "                          labels=df_pib_2002.index,\n",
    "                          autopct=r'%.1f%%', pctdistance=0.6,\n",
    "                          textprops=config,\n",
    "                          colors=cores)\n",
    "\n",
    "axs[0].annotate(text='Em 2002', xy=(50, 350), xycoords='axes points',\n",
    "                size=12, bbox=dict(boxstyle='round', fc=BRANCO, ec=CINZA3))\n",
    "\n",
    "for i, p in enumerate(ptc):\n",
    "    text[i].set_color(p.get_facecolor())\n",
    "\n",
    "# Gráfico 2\n",
    "\n",
    "ptc, text, _ = axs[1].pie(data=df_pib_2020, x='pib',\n",
    "                          labels=df_pib_2020.index,\n",
    "                          autopct='%.1f%%', pctdistance=0.6,\n",
    "                          textprops=config,\n",
    "                          colors=cores)\n",
    "\n",
    "axs[1].annotate(text='Em 2020', xy=(50, 350), xycoords='axes points',\n",
    "                size=12, bbox=dict(boxstyle='round', fc=BRANCO, ec=CINZA3))\n",
    "\n",
    "for i, p in enumerate(ptc):\n",
    "    text[i].set_color(p.get_facecolor())\n",
    "\n",
    "\n",
    "plt.show()"
   ]
  },
  {
   "cell_type": "code",
   "execution_count": 122,
   "metadata": {},
   "outputs": [
    {
     "data": {
      "text/html": [
       "<div>\n",
       "<style scoped>\n",
       "    .dataframe tbody tr th:only-of-type {\n",
       "        vertical-align: middle;\n",
       "    }\n",
       "\n",
       "    .dataframe tbody tr th {\n",
       "        vertical-align: top;\n",
       "    }\n",
       "\n",
       "    .dataframe thead th {\n",
       "        text-align: right;\n",
       "    }\n",
       "</style>\n",
       "<table border=\"1\" class=\"dataframe\">\n",
       "  <thead>\n",
       "    <tr style=\"text-align: right;\">\n",
       "      <th></th>\n",
       "      <th>pib</th>\n",
       "    </tr>\n",
       "    <tr>\n",
       "      <th>sigla_uf</th>\n",
       "      <th></th>\n",
       "    </tr>\n",
       "  </thead>\n",
       "  <tbody>\n",
       "    <tr>\n",
       "      <th>Minas Gerais</th>\n",
       "      <td>682786116407</td>\n",
       "    </tr>\n",
       "    <tr>\n",
       "      <th>Outros</th>\n",
       "      <td>6926810883612</td>\n",
       "    </tr>\n",
       "  </tbody>\n",
       "</table>\n",
       "</div>"
      ],
      "text/plain": [
       "                        pib\n",
       "sigla_uf                   \n",
       "Minas Gerais   682786116407\n",
       "Outros        6926810883612"
      ]
     },
     "execution_count": 122,
     "metadata": {},
     "output_type": "execute_result"
    }
   ],
   "source": [
    "df_mg_2020 = df_pib.query(\"ano == 2020\")[['sigla_uf', 'pib']]\n",
    "\n",
    "df_mg_2020.loc[df_mg_2020['sigla_uf'] == 'MG', 'sigla_uf'] = 'Minas Gerais'\n",
    "df_mg_2020.loc[df_mg_2020['sigla_uf'] != 'Minas Gerais', 'sigla_uf'] = 'Outros'\n",
    "\n",
    "df_mg_2020 = df_mg_2020.groupby(by='sigla_uf').agg('sum')\n",
    "\n",
    "df_mg_2020"
   ]
  },
  {
   "cell_type": "code",
   "execution_count": 123,
   "metadata": {},
   "outputs": [
    {
     "data": {
      "image/png": "[encoded data removed]",
      "text/plain": [
       "<Figure size 600x600 with 1 Axes>"
      ]
     },
     "metadata": {},
     "output_type": "display_data"
    }
   ],
   "source": [
    "sns.set_style('dark')\n",
    "\n",
    "fig, ax = plt.subplots(figsize=(6, 6))\n",
    "\n",
    "cores = [AZUL3, CINZA4]\n",
    "\n",
    "plt.suptitle('PIB de Minas Gerais em relação ao Brasil em 2020',\n",
    "             fontsize=16, color=CINZA1, y=0.90)\n",
    "\n",
    "ptc, text, _ = ax.pie(data=df_mg_2020,\n",
    "                      x='pib', labels=df_mg_2020.index,\n",
    "                      autopct=r'%.1f%%', startangle=0,\n",
    "                      pctdistance=0.8, wedgeprops={'width': 0.4},\n",
    "                      textprops=dict(size=12, fontweight='bold',\n",
    "                                     color=BRANCO),\n",
    "                      colors=cores)\n",
    "\n",
    "for i, p in enumerate(ptc):\n",
    "    text[i].set_color(p.get_facecolor())\n",
    "\n",
    "plt.show()"
   ]
  },
  {
   "cell_type": "code",
   "execution_count": 124,
   "metadata": {},
   "outputs": [
    {
     "data": {
      "text/html": [
       "<div>\n",
       "<style scoped>\n",
       "    .dataframe tbody tr th:only-of-type {\n",
       "        vertical-align: middle;\n",
       "    }\n",
       "\n",
       "    .dataframe tbody tr th {\n",
       "        vertical-align: top;\n",
       "    }\n",
       "\n",
       "    .dataframe thead th {\n",
       "        text-align: right;\n",
       "    }\n",
       "</style>\n",
       "<table border=\"1\" class=\"dataframe\">\n",
       "  <thead>\n",
       "    <tr style=\"text-align: right;\">\n",
       "      <th></th>\n",
       "      <th>PIB</th>\n",
       "      <th>Impostos Líquidos</th>\n",
       "      <th>Valor Adicionado Bruto</th>\n",
       "    </tr>\n",
       "  </thead>\n",
       "  <tbody>\n",
       "    <tr>\n",
       "      <th>303</th>\n",
       "      <td>305320812691</td>\n",
       "      <td>37094030606</td>\n",
       "      <td>268226782074</td>\n",
       "    </tr>\n",
       "  </tbody>\n",
       "</table>\n",
       "</div>"
      ],
      "text/plain": [
       "              PIB  Impostos Líquidos  Valor Adicionado Bruto\n",
       "303  305320812691        37094030606            268226782074"
      ]
     },
     "execution_count": 124,
     "metadata": {},
     "output_type": "execute_result"
    }
   ],
   "source": [
    "bahia = df_pib.query(\n",
    "    \"sigla_uf == 'BA' and ano == 2020\"\n",
    ")[['pib', 'impostos_liquidos', 'va']]\n",
    "\n",
    "bahia = bahia.rename(columns={'pib': 'PIB',\n",
    "                      'impostos_liquidos': 'Impostos Líquidos',\n",
    "                      'va': 'Valor Adicionado Bruto'})\n",
    "\n",
    "bahia"
   ]
  },
  {
   "cell_type": "code",
   "execution_count": 125,
   "metadata": {},
   "outputs": [
    {
     "data": {
      "text/html": [
       "<div>\n",
       "<style scoped>\n",
       "    .dataframe tbody tr th:only-of-type {\n",
       "        vertical-align: middle;\n",
       "    }\n",
       "\n",
       "    .dataframe tbody tr th {\n",
       "        vertical-align: top;\n",
       "    }\n",
       "\n",
       "    .dataframe thead th {\n",
       "        text-align: right;\n",
       "    }\n",
       "</style>\n",
       "<table border=\"1\" class=\"dataframe\">\n",
       "  <thead>\n",
       "    <tr style=\"text-align: right;\">\n",
       "      <th></th>\n",
       "      <th>Indicadores</th>\n",
       "      <th>Valores</th>\n",
       "    </tr>\n",
       "  </thead>\n",
       "  <tbody>\n",
       "    <tr>\n",
       "      <th>0</th>\n",
       "      <td>PIB</td>\n",
       "      <td>305320812691</td>\n",
       "    </tr>\n",
       "    <tr>\n",
       "      <th>1</th>\n",
       "      <td>Impostos Líquidos</td>\n",
       "      <td>-37094030606</td>\n",
       "    </tr>\n",
       "    <tr>\n",
       "      <th>2</th>\n",
       "      <td>Valor Adicionado Bruto</td>\n",
       "      <td>268226782074</td>\n",
       "    </tr>\n",
       "  </tbody>\n",
       "</table>\n",
       "</div>"
      ],
      "text/plain": [
       "              Indicadores       Valores\n",
       "0                     PIB  305320812691\n",
       "1       Impostos Líquidos  -37094030606\n",
       "2  Valor Adicionado Bruto  268226782074"
      ]
     },
     "execution_count": 125,
     "metadata": {},
     "output_type": "execute_result"
    }
   ],
   "source": [
    "bahia = bahia.melt(var_name='Indicadores', value_name='Valores')\n",
    "\n",
    "bahia.loc[\n",
    "    bahia['Indicadores'] == 'Impostos Líquidos', 'Valores'\n",
    "] = bahia['Valores'] * (-1)\n",
    "\n",
    "bahia"
   ]
  },
  {
   "cell_type": "code",
   "execution_count": 126,
   "metadata": {},
   "outputs": [
    {
     "data": {
      "text/html": [
       "<div>\n",
       "<style scoped>\n",
       "    .dataframe tbody tr th:only-of-type {\n",
       "        vertical-align: middle;\n",
       "    }\n",
       "\n",
       "    .dataframe tbody tr th {\n",
       "        vertical-align: top;\n",
       "    }\n",
       "\n",
       "    .dataframe thead th {\n",
       "        text-align: right;\n",
       "    }\n",
       "</style>\n",
       "<table border=\"1\" class=\"dataframe\">\n",
       "  <thead>\n",
       "    <tr style=\"text-align: right;\">\n",
       "      <th></th>\n",
       "      <th>Indicadores</th>\n",
       "      <th>Valores</th>\n",
       "      <th>Valores_str</th>\n",
       "      <th>Medidas</th>\n",
       "    </tr>\n",
       "  </thead>\n",
       "  <tbody>\n",
       "    <tr>\n",
       "      <th>0</th>\n",
       "      <td>PIB</td>\n",
       "      <td>305320812691</td>\n",
       "      <td>R$ 305.32 Bi</td>\n",
       "      <td>absolute</td>\n",
       "    </tr>\n",
       "    <tr>\n",
       "      <th>1</th>\n",
       "      <td>Impostos Líquidos</td>\n",
       "      <td>-37094030606</td>\n",
       "      <td>R$ -37.09 Bi</td>\n",
       "      <td>relative</td>\n",
       "    </tr>\n",
       "    <tr>\n",
       "      <th>2</th>\n",
       "      <td>Valor Adicionado Bruto</td>\n",
       "      <td>268226782074</td>\n",
       "      <td>R$ 268.23 Bi</td>\n",
       "      <td>total</td>\n",
       "    </tr>\n",
       "  </tbody>\n",
       "</table>\n",
       "</div>"
      ],
      "text/plain": [
       "              Indicadores       Valores   Valores_str   Medidas\n",
       "0                     PIB  305320812691  R$ 305.32 Bi  absolute\n",
       "1       Impostos Líquidos  -37094030606  R$ -37.09 Bi  relative\n",
       "2  Valor Adicionado Bruto  268226782074  R$ 268.23 Bi     total"
      ]
     },
     "execution_count": 126,
     "metadata": {},
     "output_type": "execute_result"
    }
   ],
   "source": [
    "bahia['Valores_str'] = (bahia['Valores'] / 1e9).map('R$ {:,.2f} Bi'.format)\n",
    "bahia['Medidas'] = ['absolute', 'relative', 'total']\n",
    "\n",
    "bahia"
   ]
  },
  {
   "cell_type": "code",
   "execution_count": 127,
   "metadata": {},
   "outputs": [
    {
     "data": {
      "application/vnd.plotly.v1+json": {
       "config": {
        "plotlyServerURL": "https://plot.ly"
       },
       "data": [
        {
         "connector": {
          "line": {
           "color": "#555655"
          }
         },
         "decreasing": {
          "marker": {
           "color": "#C3514E"
          }
         },
         "measure": [
          "absolute",
          "relative",
          "total"
         ],
         "name": "",
         "orientation": "v",
         "textposition": "inside",
         "totals": {
          "marker": {
           "color": "#6495ED"
          }
         },
         "type": "waterfall",
         "x": [
          "PIB",
          "Impostos Líquidos",
          "Valor Adicionado Bruto"
         ],
         "y": [
          305320812691,
          -37094030606,
          268226782074
         ]
        }
       ],
       "layout": {
        "annotations": [
         {
          "font": {
           "color": "white"
          },
          "showarrow": false,
          "text": "R$ 305.32 Bi",
          "x": "PIB",
          "xanchor": "center",
          "y": 305320812691,
          "yanchor": "top"
         },
         {
          "font": {
           "color": "white"
          },
          "showarrow": false,
          "text": "R$ -37.09 Bi",
          "x": "Impostos Líquidos",
          "xanchor": "center",
          "y": 305320812691,
          "yanchor": "top"
         },
         {
          "font": {
           "color": "white"
          },
          "showarrow": false,
          "text": "R$ 268.23 Bi",
          "x": "Valor Adicionado Bruto",
          "xanchor": "center",
          "y": 268226782074,
          "yanchor": "top"
         },
         {
          "align": "left",
          "showarrow": false,
          "text": "Fonte dos dados: <a href=\"https://sidra.ibge.gov.br/pesquisa/pib-munic/tabelas\">Produto Interno Bruto | IBGE</a>",
          "x": 1,
          "xref": "paper",
          "y": -0.2,
          "yref": "paper"
         }
        ],
        "font": {
         "color": "black",
         "family": "DejaVu Sans",
         "size": 15
        },
        "height": 500,
        "hovermode": "closest",
        "plot_bgcolor": "#FFFFFF",
        "template": {
         "data": {
          "bar": [
           {
            "error_x": {
             "color": "#2a3f5f"
            },
            "error_y": {
             "color": "#2a3f5f"
            },
            "marker": {
             "line": {
              "color": "#E5ECF6",
              "width": 0.5
             },
             "pattern": {
              "fillmode": "overlay",
              "size": 10,
              "solidity": 0.2
             }
            },
            "type": "bar"
           }
          ],
          "barpolar": [
           {
            "marker": {
             "line": {
              "color": "#E5ECF6",
              "width": 0.5
             },
             "pattern": {
              "fillmode": "overlay",
              "size": 10,
              "solidity": 0.2
             }
            },
            "type": "barpolar"
           }
          ],
          "carpet": [
           {
            "aaxis": {
             "endlinecolor": "#2a3f5f",
             "gridcolor": "white",
             "linecolor": "white",
             "minorgridcolor": "white",
             "startlinecolor": "#2a3f5f"
            },
            "baxis": {
             "endlinecolor": "#2a3f5f",
             "gridcolor": "white",
             "linecolor": "white",
             "minorgridcolor": "white",
             "startlinecolor": "#2a3f5f"
            },
            "type": "carpet"
           }
          ],
          "choropleth": [
           {
            "colorbar": {
             "outlinewidth": 0,
             "ticks": ""
            },
            "type": "choropleth"
           }
          ],
          "contour": [
           {
            "colorbar": {
             "outlinewidth": 0,
             "ticks": ""
            },
            "colorscale": [
             [
              0,
              "#0d0887"
             ],
             [
              0.1111111111111111,
              "#46039f"
             ],
             [
              0.2222222222222222,
              "#7201a8"
             ],
             [
              0.3333333333333333,
              "#9c179e"
             ],
             [
              0.4444444444444444,
              "#bd3786"
             ],
             [
              0.5555555555555556,
              "#d8576b"
             ],
             [
              0.6666666666666666,
              "#ed7953"
             ],
             [
              0.7777777777777778,
              "#fb9f3a"
             ],
             [
              0.8888888888888888,
              "#fdca26"
             ],
             [
              1,
              "#f0f921"
             ]
            ],
            "type": "contour"
           }
          ],
          "contourcarpet": [
           {
            "colorbar": {
             "outlinewidth": 0,
             "ticks": ""
            },
            "type": "contourcarpet"
           }
          ],
          "heatmap": [
           {
            "colorbar": {
             "outlinewidth": 0,
             "ticks": ""
            },
            "colorscale": [
             [
              0,
              "#0d0887"
             ],
             [
              0.1111111111111111,
              "#46039f"
             ],
             [
              0.2222222222222222,
              "#7201a8"
             ],
             [
              0.3333333333333333,
              "#9c179e"
             ],
             [
              0.4444444444444444,
              "#bd3786"
             ],
             [
              0.5555555555555556,
              "#d8576b"
             ],
             [
              0.6666666666666666,
              "#ed7953"
             ],
             [
              0.7777777777777778,
              "#fb9f3a"
             ],
             [
              0.8888888888888888,
              "#fdca26"
             ],
             [
              1,
              "#f0f921"
             ]
            ],
            "type": "heatmap"
           }
          ],
          "heatmapgl": [
           {
            "colorbar": {
             "outlinewidth": 0,
             "ticks": ""
            },
            "colorscale": [
             [
              0,
              "#0d0887"
             ],
             [
              0.1111111111111111,
              "#46039f"
             ],
             [
              0.2222222222222222,
              "#7201a8"
             ],
             [
              0.3333333333333333,
              "#9c179e"
             ],
             [
              0.4444444444444444,
              "#bd3786"
             ],
             [
              0.5555555555555556,
              "#d8576b"
             ],
             [
              0.6666666666666666,
              "#ed7953"
             ],
             [
              0.7777777777777778,
              "#fb9f3a"
             ],
             [
              0.8888888888888888,
              "#fdca26"
             ],
             [
              1,
              "#f0f921"
             ]
            ],
            "type": "heatmapgl"
           }
          ],
          "histogram": [
           {
            "marker": {
             "pattern": {
              "fillmode": "overlay",
              "size": 10,
              "solidity": 0.2
             }
            },
            "type": "histogram"
           }
          ],
          "histogram2d": [
           {
            "colorbar": {
             "outlinewidth": 0,
             "ticks": ""
            },
            "colorscale": [
             [
              0,
              "#0d0887"
             ],
             [
              0.1111111111111111,
              "#46039f"
             ],
             [
              0.2222222222222222,
              "#7201a8"
             ],
             [
              0.3333333333333333,
              "#9c179e"
             ],
             [
              0.4444444444444444,
              "#bd3786"
             ],
             [
              0.5555555555555556,
              "#d8576b"
             ],
             [
              0.6666666666666666,
              "#ed7953"
             ],
             [
              0.7777777777777778,
              "#fb9f3a"
             ],
             [
              0.8888888888888888,
              "#fdca26"
             ],
             [
              1,
              "#f0f921"
             ]
            ],
            "type": "histogram2d"
           }
          ],
          "histogram2dcontour": [
           {
            "colorbar": {
             "outlinewidth": 0,
             "ticks": ""
            },
            "colorscale": [
             [
              0,
              "#0d0887"
             ],
             [
              0.1111111111111111,
              "#46039f"
             ],
             [
              0.2222222222222222,
              "#7201a8"
             ],
             [
              0.3333333333333333,
              "#9c179e"
             ],
             [
              0.4444444444444444,
              "#bd3786"
             ],
             [
              0.5555555555555556,
              "#d8576b"
             ],
             [
              0.6666666666666666,
              "#ed7953"
             ],
             [
              0.7777777777777778,
              "#fb9f3a"
             ],
             [
              0.8888888888888888,
              "#fdca26"
             ],
             [
              1,
              "#f0f921"
             ]
            ],
            "type": "histogram2dcontour"
           }
          ],
          "mesh3d": [
           {
            "colorbar": {
             "outlinewidth": 0,
             "ticks": ""
            },
            "type": "mesh3d"
           }
          ],
          "parcoords": [
           {
            "line": {
             "colorbar": {
              "outlinewidth": 0,
              "ticks": ""
             }
            },
            "type": "parcoords"
           }
          ],
          "pie": [
           {
            "automargin": true,
            "type": "pie"
           }
          ],
          "scatter": [
           {
            "fillpattern": {
             "fillmode": "overlay",
             "size": 10,
             "solidity": 0.2
            },
            "type": "scatter"
           }
          ],
          "scatter3d": [
           {
            "line": {
             "colorbar": {
              "outlinewidth": 0,
              "ticks": ""
             }
            },
            "marker": {
             "colorbar": {
              "outlinewidth": 0,
              "ticks": ""
             }
            },
            "type": "scatter3d"
           }
          ],
          "scattercarpet": [
           {
            "marker": {
             "colorbar": {
              "outlinewidth": 0,
              "ticks": ""
             }
            },
            "type": "scattercarpet"
           }
          ],
          "scattergeo": [
           {
            "marker": {
             "colorbar": {
              "outlinewidth": 0,
              "ticks": ""
             }
            },
            "type": "scattergeo"
           }
          ],
          "scattergl": [
           {
            "marker": {
             "colorbar": {
              "outlinewidth": 0,
              "ticks": ""
             }
            },
            "type": "scattergl"
           }
          ],
          "scattermapbox": [
           {
            "marker": {
             "colorbar": {
              "outlinewidth": 0,
              "ticks": ""
             }
            },
            "type": "scattermapbox"
           }
          ],
          "scatterpolar": [
           {
            "marker": {
             "colorbar": {
              "outlinewidth": 0,
              "ticks": ""
             }
            },
            "type": "scatterpolar"
           }
          ],
          "scatterpolargl": [
           {
            "marker": {
             "colorbar": {
              "outlinewidth": 0,
              "ticks": ""
             }
            },
            "type": "scatterpolargl"
           }
          ],
          "scatterternary": [
           {
            "marker": {
             "colorbar": {
              "outlinewidth": 0,
              "ticks": ""
             }
            },
            "type": "scatterternary"
           }
          ],
          "surface": [
           {
            "colorbar": {
             "outlinewidth": 0,
             "ticks": ""
            },
            "colorscale": [
             [
              0,
              "#0d0887"
             ],
             [
              0.1111111111111111,
              "#46039f"
             ],
             [
              0.2222222222222222,
              "#7201a8"
             ],
             [
              0.3333333333333333,
              "#9c179e"
             ],
             [
              0.4444444444444444,
              "#bd3786"
             ],
             [
              0.5555555555555556,
              "#d8576b"
             ],
             [
              0.6666666666666666,
              "#ed7953"
             ],
             [
              0.7777777777777778,
              "#fb9f3a"
             ],
             [
              0.8888888888888888,
              "#fdca26"
             ],
             [
              1,
              "#f0f921"
             ]
            ],
            "type": "surface"
           }
          ],
          "table": [
           {
            "cells": {
             "fill": {
              "color": "#EBF0F8"
             },
             "line": {
              "color": "white"
             }
            },
            "header": {
             "fill": {
              "color": "#C8D4E3"
             },
             "line": {
              "color": "white"
             }
            },
            "type": "table"
           }
          ]
         },
         "layout": {
          "annotationdefaults": {
           "arrowcolor": "#2a3f5f",
           "arrowhead": 0,
           "arrowwidth": 1
          },
          "autotypenumbers": "strict",
          "coloraxis": {
           "colorbar": {
            "outlinewidth": 0,
            "ticks": ""
           }
          },
          "colorscale": {
           "diverging": [
            [
             0,
             "#8e0152"
            ],
            [
             0.1,
             "#c51b7d"
            ],
            [
             0.2,
             "#de77ae"
            ],
            [
             0.3,
             "#f1b6da"
            ],
            [
             0.4,
             "#fde0ef"
            ],
            [
             0.5,
             "#f7f7f7"
            ],
            [
             0.6,
             "#e6f5d0"
            ],
            [
             0.7,
             "#b8e186"
            ],
            [
             0.8,
             "#7fbc41"
            ],
            [
             0.9,
             "#4d9221"
            ],
            [
             1,
             "#276419"
            ]
           ],
           "sequential": [
            [
             0,
             "#0d0887"
            ],
            [
             0.1111111111111111,
             "#46039f"
            ],
            [
             0.2222222222222222,
             "#7201a8"
            ],
            [
             0.3333333333333333,
             "#9c179e"
            ],
            [
             0.4444444444444444,
             "#bd3786"
            ],
            [
             0.5555555555555556,
             "#d8576b"
            ],
            [
             0.6666666666666666,
             "#ed7953"
            ],
            [
             0.7777777777777778,
             "#fb9f3a"
            ],
            [
             0.8888888888888888,
             "#fdca26"
            ],
            [
             1,
             "#f0f921"
            ]
           ],
           "sequentialminus": [
            [
             0,
             "#0d0887"
            ],
            [
             0.1111111111111111,
             "#46039f"
            ],
            [
             0.2222222222222222,
             "#7201a8"
            ],
            [
             0.3333333333333333,
             "#9c179e"
            ],
            [
             0.4444444444444444,
             "#bd3786"
            ],
            [
             0.5555555555555556,
             "#d8576b"
            ],
            [
             0.6666666666666666,
             "#ed7953"
            ],
            [
             0.7777777777777778,
             "#fb9f3a"
            ],
            [
             0.8888888888888888,
             "#fdca26"
            ],
            [
             1,
             "#f0f921"
            ]
           ]
          },
          "colorway": [
           "#636efa",
           "#EF553B",
           "#00cc96",
           "#ab63fa",
           "#FFA15A",
           "#19d3f3",
           "#FF6692",
           "#B6E880",
           "#FF97FF",
           "#FECB52"
          ],
          "font": {
           "color": "#2a3f5f"
          },
          "geo": {
           "bgcolor": "white",
           "lakecolor": "white",
           "landcolor": "#E5ECF6",
           "showlakes": true,
           "showland": true,
           "subunitcolor": "white"
          },
          "hoverlabel": {
           "align": "left"
          },
          "hovermode": "closest",
          "mapbox": {
           "style": "light"
          },
          "paper_bgcolor": "white",
          "plot_bgcolor": "#E5ECF6",
          "polar": {
           "angularaxis": {
            "gridcolor": "white",
            "linecolor": "white",
            "ticks": ""
           },
           "bgcolor": "#E5ECF6",
           "radialaxis": {
            "gridcolor": "white",
            "linecolor": "white",
            "ticks": ""
           }
          },
          "scene": {
           "xaxis": {
            "backgroundcolor": "#E5ECF6",
            "gridcolor": "white",
            "gridwidth": 2,
            "linecolor": "white",
            "showbackground": true,
            "ticks": "",
            "zerolinecolor": "white"
           },
           "yaxis": {
            "backgroundcolor": "#E5ECF6",
            "gridcolor": "white",
            "gridwidth": 2,
            "linecolor": "white",
            "showbackground": true,
            "ticks": "",
            "zerolinecolor": "white"
           },
           "zaxis": {
            "backgroundcolor": "#E5ECF6",
            "gridcolor": "white",
            "gridwidth": 2,
            "linecolor": "white",
            "showbackground": true,
            "ticks": "",
            "zerolinecolor": "white"
           }
          },
          "shapedefaults": {
           "line": {
            "color": "#2a3f5f"
           }
          },
          "ternary": {
           "aaxis": {
            "gridcolor": "white",
            "linecolor": "white",
            "ticks": ""
           },
           "baxis": {
            "gridcolor": "white",
            "linecolor": "white",
            "ticks": ""
           },
           "bgcolor": "#E5ECF6",
           "caxis": {
            "gridcolor": "white",
            "linecolor": "white",
            "ticks": ""
           }
          },
          "title": {
           "x": 0.05
          },
          "xaxis": {
           "automargin": true,
           "gridcolor": "white",
           "linecolor": "white",
           "ticks": "",
           "title": {
            "standoff": 15
           },
           "zerolinecolor": "white",
           "zerolinewidth": 2
          },
          "yaxis": {
           "automargin": true,
           "gridcolor": "white",
           "linecolor": "white",
           "ticks": "",
           "title": {
            "standoff": 15
           },
           "zerolinecolor": "white",
           "zerolinewidth": 2
          }
         }
        },
        "title": {
         "font": {
          "color": "#231F20",
          "size": 24
         },
         "text": "Distribuição do Produto interno Bruto (PIB) da Bahia em 2020<br><sup size=1 style=\"color:#555655\">Impostos líquidos e Valores Adicionados Brutos de bens e serviços (em bilhões de reais)</sup>"
        },
        "width": 800,
        "yaxis": {
         "range": [
          0,
          380000000000
         ],
         "showticklabels": false
        }
       }
      }
     },
     "metadata": {},
     "output_type": "display_data"
    }
   ],
   "source": [
    "# Gráfico de cascata\n",
    "\n",
    "fig = go.Figure(go.Waterfall(name='', orientation='v', measure=bahia['Medidas'],\n",
    "                             x=bahia['Indicadores'], y=bahia['Valores'],\n",
    "                             textposition='inside',\n",
    "                             connector_line={'color': CINZA3},\n",
    "                             totals_marker={'color': AZUL3},\n",
    "                             decreasing_marker={'color': VERMELHO1}))\n",
    "\n",
    "# Personalização (perfumaria)\n",
    "\n",
    "fig.add_annotation(x=bahia['Indicadores'][0], y=bahia['Valores'][0],\n",
    "                   text=bahia['Valores_str'][0], showarrow=False,\n",
    "                   xanchor='center', yanchor='top',\n",
    "                   font=dict(color='white'))\n",
    "\n",
    "fig.add_annotation(x=bahia['Indicadores'][1], y=bahia['Valores'][0],\n",
    "                   text=bahia['Valores_str'][1], showarrow=False,\n",
    "                   xanchor='center', yanchor='top',\n",
    "                   font=dict(color='white'))\n",
    "\n",
    "fig.add_annotation(x=bahia['Indicadores'][2], y=bahia['Valores'][2],\n",
    "                   text=bahia['Valores_str'][2], showarrow=False,\n",
    "                   xanchor='center', yanchor='top',\n",
    "                   font=dict(color='white'))\n",
    "\n",
    "fig.update_layout(width=800, height=500, font_family='DejaVu Sans',\n",
    "                  font_size=15, font=dict(color='black'), title_font_color=CINZA1,\n",
    "                  title_font_size=24, title_text='Distribuição do Produto interno Bruto (PIB) da Bahia em 2020' + \n",
    "                  '<br><sup size=1 style=\"color:#555655\">Impostos líquidos e Valores' + ' Adicionados Brutos de bens e serviços (em bilhões de reais)</sup>', plot_bgcolor=BRANCO, yaxis_range=[0, 380e9],\n",
    "                  hovermode='closest')\n",
    "\n",
    "fig.update_yaxes(showticklabels=False)\n",
    "\n",
    "fig.add_annotation(text='Fonte dos dados: <a href=\"https://sidra.ibge.gov.br/pesquisa/pib-munic/tabelas\">Produto Interno Bruto | IBGE</a>',\n",
    "                   align=\"left\", xref=\"paper\", yref = \"paper\", x=1, y=-0.2, showarrow=False)\n",
    "\n",
    "fig.show()"
   ]
  },
  {
   "cell_type": "code",
   "execution_count": 128,
   "metadata": {},
   "outputs": [
    {
     "data": {
      "text/html": [
       "<div>\n",
       "<style scoped>\n",
       "    .dataframe tbody tr th:only-of-type {\n",
       "        vertical-align: middle;\n",
       "    }\n",
       "\n",
       "    .dataframe tbody tr th {\n",
       "        vertical-align: top;\n",
       "    }\n",
       "\n",
       "    .dataframe thead th {\n",
       "        text-align: right;\n",
       "    }\n",
       "</style>\n",
       "<table border=\"1\" class=\"dataframe\">\n",
       "  <thead>\n",
       "    <tr style=\"text-align: right;\">\n",
       "      <th></th>\n",
       "      <th>ano</th>\n",
       "      <th>pib</th>\n",
       "    </tr>\n",
       "  </thead>\n",
       "  <tbody>\n",
       "    <tr>\n",
       "      <th>0</th>\n",
       "      <td>2010</td>\n",
       "      <td>449858101109</td>\n",
       "    </tr>\n",
       "    <tr>\n",
       "      <th>1</th>\n",
       "      <td>2011</td>\n",
       "      <td>512767904769</td>\n",
       "    </tr>\n",
       "    <tr>\n",
       "      <th>2</th>\n",
       "      <td>2012</td>\n",
       "      <td>574884973130</td>\n",
       "    </tr>\n",
       "    <tr>\n",
       "      <th>3</th>\n",
       "      <td>2013</td>\n",
       "      <td>628226069362</td>\n",
       "    </tr>\n",
       "    <tr>\n",
       "      <th>4</th>\n",
       "      <td>2014</td>\n",
       "      <td>671076844311</td>\n",
       "    </tr>\n",
       "    <tr>\n",
       "      <th>5</th>\n",
       "      <td>2015</td>\n",
       "      <td>659138951833</td>\n",
       "    </tr>\n",
       "    <tr>\n",
       "      <th>6</th>\n",
       "      <td>2016</td>\n",
       "      <td>640401206447</td>\n",
       "    </tr>\n",
       "    <tr>\n",
       "      <th>7</th>\n",
       "      <td>2017</td>\n",
       "      <td>671605668055</td>\n",
       "    </tr>\n",
       "    <tr>\n",
       "      <th>8</th>\n",
       "      <td>2018</td>\n",
       "      <td>758859046865</td>\n",
       "    </tr>\n",
       "    <tr>\n",
       "      <th>9</th>\n",
       "      <td>2019</td>\n",
       "      <td>779927917084</td>\n",
       "    </tr>\n",
       "    <tr>\n",
       "      <th>10</th>\n",
       "      <td>2020</td>\n",
       "      <td>753823710636</td>\n",
       "    </tr>\n",
       "  </tbody>\n",
       "</table>\n",
       "</div>"
      ],
      "text/plain": [
       "     ano           pib\n",
       "0   2010  449858101109\n",
       "1   2011  512767904769\n",
       "2   2012  574884973130\n",
       "3   2013  628226069362\n",
       "4   2014  671076844311\n",
       "5   2015  659138951833\n",
       "6   2016  640401206447\n",
       "7   2017  671605668055\n",
       "8   2018  758859046865\n",
       "9   2019  779927917084\n",
       "10  2020  753823710636"
      ]
     },
     "execution_count": 128,
     "metadata": {},
     "output_type": "execute_result"
    }
   ],
   "source": [
    "anos = [x for x in range(2010, 2020 + 1)]\n",
    "\n",
    "rio = df_pib.query(\"sigla_uf == 'RJ' and ano == @anos\")[['ano', 'pib']]\n",
    "rio = rio.reset_index(drop=True)\n",
    "rio"
   ]
  },
  {
   "cell_type": "code",
   "execution_count": 129,
   "metadata": {},
   "outputs": [
    {
     "data": {
      "text/html": [
       "<div>\n",
       "<style scoped>\n",
       "    .dataframe tbody tr th:only-of-type {\n",
       "        vertical-align: middle;\n",
       "    }\n",
       "\n",
       "    .dataframe tbody tr th {\n",
       "        vertical-align: top;\n",
       "    }\n",
       "\n",
       "    .dataframe thead th {\n",
       "        text-align: right;\n",
       "    }\n",
       "</style>\n",
       "<table border=\"1\" class=\"dataframe\">\n",
       "  <thead>\n",
       "    <tr style=\"text-align: right;\">\n",
       "      <th></th>\n",
       "      <th>ano</th>\n",
       "      <th>pib</th>\n",
       "      <th>variacao_pib</th>\n",
       "      <th>Medidas</th>\n",
       "    </tr>\n",
       "  </thead>\n",
       "  <tbody>\n",
       "    <tr>\n",
       "      <th>0</th>\n",
       "      <td>2010</td>\n",
       "      <td>449858101109</td>\n",
       "      <td>449858101109</td>\n",
       "      <td>absolute</td>\n",
       "    </tr>\n",
       "    <tr>\n",
       "      <th>1</th>\n",
       "      <td>2011</td>\n",
       "      <td>512767904769</td>\n",
       "      <td>62909803660</td>\n",
       "      <td>relative</td>\n",
       "    </tr>\n",
       "    <tr>\n",
       "      <th>2</th>\n",
       "      <td>2012</td>\n",
       "      <td>574884973130</td>\n",
       "      <td>62117068361</td>\n",
       "      <td>relative</td>\n",
       "    </tr>\n",
       "    <tr>\n",
       "      <th>3</th>\n",
       "      <td>2013</td>\n",
       "      <td>628226069362</td>\n",
       "      <td>53341096232</td>\n",
       "      <td>relative</td>\n",
       "    </tr>\n",
       "    <tr>\n",
       "      <th>4</th>\n",
       "      <td>2014</td>\n",
       "      <td>671076844311</td>\n",
       "      <td>42850774949</td>\n",
       "      <td>relative</td>\n",
       "    </tr>\n",
       "    <tr>\n",
       "      <th>5</th>\n",
       "      <td>2015</td>\n",
       "      <td>659138951833</td>\n",
       "      <td>-11937892478</td>\n",
       "      <td>relative</td>\n",
       "    </tr>\n",
       "    <tr>\n",
       "      <th>6</th>\n",
       "      <td>2016</td>\n",
       "      <td>640401206447</td>\n",
       "      <td>-18737745386</td>\n",
       "      <td>relative</td>\n",
       "    </tr>\n",
       "    <tr>\n",
       "      <th>7</th>\n",
       "      <td>2017</td>\n",
       "      <td>671605668055</td>\n",
       "      <td>31204461608</td>\n",
       "      <td>relative</td>\n",
       "    </tr>\n",
       "    <tr>\n",
       "      <th>8</th>\n",
       "      <td>2018</td>\n",
       "      <td>758859046865</td>\n",
       "      <td>87253378810</td>\n",
       "      <td>relative</td>\n",
       "    </tr>\n",
       "    <tr>\n",
       "      <th>9</th>\n",
       "      <td>2019</td>\n",
       "      <td>779927917084</td>\n",
       "      <td>21068870219</td>\n",
       "      <td>relative</td>\n",
       "    </tr>\n",
       "    <tr>\n",
       "      <th>10</th>\n",
       "      <td>2020</td>\n",
       "      <td>753823710636</td>\n",
       "      <td>-26104206448</td>\n",
       "      <td>relative</td>\n",
       "    </tr>\n",
       "  </tbody>\n",
       "</table>\n",
       "</div>"
      ],
      "text/plain": [
       "     ano           pib  variacao_pib   Medidas\n",
       "0   2010  449858101109  449858101109  absolute\n",
       "1   2011  512767904769   62909803660  relative\n",
       "2   2012  574884973130   62117068361  relative\n",
       "3   2013  628226069362   53341096232  relative\n",
       "4   2014  671076844311   42850774949  relative\n",
       "5   2015  659138951833  -11937892478  relative\n",
       "6   2016  640401206447  -18737745386  relative\n",
       "7   2017  671605668055   31204461608  relative\n",
       "8   2018  758859046865   87253378810  relative\n",
       "9   2019  779927917084   21068870219  relative\n",
       "10  2020  753823710636  -26104206448  relative"
      ]
     },
     "execution_count": 129,
     "metadata": {},
     "output_type": "execute_result"
    }
   ],
   "source": [
    "rio['variacao_pib'] = rio['pib'].diff().fillna(rio['pib']).astype('Int64')\n",
    "\n",
    "rio['Medidas'] = ['absolute'] + ['relative'] * 10\n",
    "\n",
    "rio"
   ]
  },
  {
   "cell_type": "code",
   "execution_count": null,
   "metadata": {},
   "outputs": [
    {
     "data": {
      "text/html": [
       "<div>\n",
       "<style scoped>\n",
       "    .dataframe tbody tr th:only-of-type {\n",
       "        vertical-align: middle;\n",
       "    }\n",
       "\n",
       "    .dataframe tbody tr th {\n",
       "        vertical-align: top;\n",
       "    }\n",
       "\n",
       "    .dataframe thead th {\n",
       "        text-align: right;\n",
       "    }\n",
       "</style>\n",
       "<table border=\"1\" class=\"dataframe\">\n",
       "  <thead>\n",
       "    <tr style=\"text-align: right;\">\n",
       "      <th></th>\n",
       "      <th>Ano</th>\n",
       "      <th>Variação do PIB</th>\n",
       "      <th>Medidas</th>\n",
       "      <th>Variação do PIB (em texto)</th>\n",
       "    </tr>\n",
       "  </thead>\n",
       "  <tbody>\n",
       "    <tr>\n",
       "      <th>0</th>\n",
       "      <td>2010</td>\n",
       "      <td>449858101109</td>\n",
       "      <td>absolute</td>\n",
       "      <td>R$ 449.86 Bi</td>\n",
       "    </tr>\n",
       "    <tr>\n",
       "      <th>1</th>\n",
       "      <td>2011</td>\n",
       "      <td>62909803660</td>\n",
       "      <td>relative</td>\n",
       "      <td>R$ 62.91 Bi</td>\n",
       "    </tr>\n",
       "    <tr>\n",
       "      <th>2</th>\n",
       "      <td>2012</td>\n",
       "      <td>62117068361</td>\n",
       "      <td>relative</td>\n",
       "      <td>R$ 62.12 Bi</td>\n",
       "    </tr>\n",
       "    <tr>\n",
       "      <th>3</th>\n",
       "      <td>2013</td>\n",
       "      <td>53341096232</td>\n",
       "      <td>relative</td>\n",
       "      <td>R$ 53.34 Bi</td>\n",
       "    </tr>\n",
       "    <tr>\n",
       "      <th>4</th>\n",
       "      <td>2014</td>\n",
       "      <td>42850774949</td>\n",
       "      <td>relative</td>\n",
       "      <td>R$ 42.85 Bi</td>\n",
       "    </tr>\n",
       "    <tr>\n",
       "      <th>5</th>\n",
       "      <td>2015</td>\n",
       "      <td>-11937892478</td>\n",
       "      <td>relative</td>\n",
       "      <td>R$ -11.94 Bi</td>\n",
       "    </tr>\n",
       "    <tr>\n",
       "      <th>6</th>\n",
       "      <td>2016</td>\n",
       "      <td>-18737745386</td>\n",
       "      <td>relative</td>\n",
       "      <td>R$ -18.74 Bi</td>\n",
       "    </tr>\n",
       "    <tr>\n",
       "      <th>7</th>\n",
       "      <td>2017</td>\n",
       "      <td>31204461608</td>\n",
       "      <td>relative</td>\n",
       "      <td>R$ 31.20 Bi</td>\n",
       "    </tr>\n",
       "    <tr>\n",
       "      <th>8</th>\n",
       "      <td>2018</td>\n",
       "      <td>87253378810</td>\n",
       "      <td>relative</td>\n",
       "      <td>R$ 87.25 Bi</td>\n",
       "    </tr>\n",
       "    <tr>\n",
       "      <th>9</th>\n",
       "      <td>2019</td>\n",
       "      <td>21068870219</td>\n",
       "      <td>relative</td>\n",
       "      <td>R$ 21.07 Bi</td>\n",
       "    </tr>\n",
       "    <tr>\n",
       "      <th>10</th>\n",
       "      <td>2020</td>\n",
       "      <td>-26104206448</td>\n",
       "      <td>relative</td>\n",
       "      <td>R$ -26.10 Bi</td>\n",
       "    </tr>\n",
       "    <tr>\n",
       "      <th>11</th>\n",
       "      <td>Total</td>\n",
       "      <td>753823710636</td>\n",
       "      <td>total</td>\n",
       "      <td>R$ 753.82 Bi</td>\n",
       "    </tr>\n",
       "  </tbody>\n",
       "</table>\n",
       "</div>"
      ],
      "text/plain": [
       "      Ano Variação do PIB   Medidas Variação do PIB (em texto)\n",
       "0    2010    449858101109  absolute               R$ 449.86 Bi\n",
       "1    2011     62909803660  relative                R$ 62.91 Bi\n",
       "2    2012     62117068361  relative                R$ 62.12 Bi\n",
       "3    2013     53341096232  relative                R$ 53.34 Bi\n",
       "4    2014     42850774949  relative                R$ 42.85 Bi\n",
       "5    2015    -11937892478  relative               R$ -11.94 Bi\n",
       "6    2016    -18737745386  relative               R$ -18.74 Bi\n",
       "7    2017     31204461608  relative                R$ 31.20 Bi\n",
       "8    2018     87253378810  relative                R$ 87.25 Bi\n",
       "9    2019     21068870219  relative                R$ 21.07 Bi\n",
       "10   2020    -26104206448  relative               R$ -26.10 Bi\n",
       "11  Total    753823710636     total               R$ 753.82 Bi"
      ]
     },
     "execution_count": 130,
     "metadata": {},
     "output_type": "execute_result"
    }
   ],
   "source": [
    "atualizacao = pd.Series({'ano': 'Total',\n",
    "                         'pib': rio['pib'].values[-1],\n",
    "                         'variacao_pib': rio['pib'].values[-1],\n",
    "                         'Medidas': \"total\"}).to_frame().T\n",
    "\n",
    "rio = pd.concat([rio, atualizacao],\n",
    "                axis=0, ignore_index=True)\n",
    "rio = rio.drop(columns=['pib'])\n",
    "\n",
    "rio[\"variacao_pib_texto\"] = (rio[\"variacao_pib\"]/1e9).map('R$ {:,.2f} Bi'.format)\n",
    "\n",
    "rio.rename(columns={\"ano\":\"Ano\", \"variacao_pib\": \"Variação do PIB\", \"variacao_pib_texto\":\"Variação do PIB (em texto)\"}, inplace=True)\n",
    "\n",
    "rio.head()"
   ]
  },
  {
   "cell_type": "code",
   "execution_count": 132,
   "metadata": {},
   "outputs": [
    {
     "data": {
      "application/vnd.plotly.v1+json": {
       "config": {
        "plotlyServerURL": "https://plot.ly"
       },
       "data": [
        {
         "connector": {
          "line": {
           "color": "#555655"
          }
         },
         "decreasing": {
          "marker": {
           "color": "#C3514E"
          }
         },
         "hovertemplate": "<b>%{x}</b> = %{text}",
         "increasing": {
          "marker": {
           "color": "#0C8040"
          }
         },
         "measure": [
          "absolute",
          "relative",
          "relative",
          "relative",
          "relative",
          "relative",
          "relative",
          "relative",
          "relative",
          "relative",
          "relative",
          "total"
         ],
         "name": "",
         "orientation": "v",
         "text": [
          "R$ 449.86 Bi",
          "R$ 62.91 Bi",
          "R$ 62.12 Bi",
          "R$ 53.34 Bi",
          "R$ 42.85 Bi",
          "R$ -11.94 Bi",
          "R$ -18.74 Bi",
          "R$ 31.20 Bi",
          "R$ 87.25 Bi",
          "R$ 21.07 Bi",
          "R$ -26.10 Bi",
          "R$ 753.82 Bi"
         ],
         "textposition": "outside",
         "totals": {
          "marker": {
           "color": "#6495ED"
          }
         },
         "type": "waterfall",
         "y": [
          449858101109,
          62909803660,
          62117068361,
          53341096232,
          42850774949,
          -11937892478,
          -18737745386,
          31204461608,
          87253378810,
          21068870219,
          -26104206448,
          753823710636
         ]
        }
       ],
       "layout": {
        "font": {
         "color": "#414040",
         "family": "DejaVu Sans",
         "size": 15
        },
        "height": 600,
        "plot_bgcolor": "#FFFFFF",
        "template": {
         "data": {
          "bar": [
           {
            "error_x": {
             "color": "#2a3f5f"
            },
            "error_y": {
             "color": "#2a3f5f"
            },
            "marker": {
             "line": {
              "color": "#E5ECF6",
              "width": 0.5
             },
             "pattern": {
              "fillmode": "overlay",
              "size": 10,
              "solidity": 0.2
             }
            },
            "type": "bar"
           }
          ],
          "barpolar": [
           {
            "marker": {
             "line": {
              "color": "#E5ECF6",
              "width": 0.5
             },
             "pattern": {
              "fillmode": "overlay",
              "size": 10,
              "solidity": 0.2
             }
            },
            "type": "barpolar"
           }
          ],
          "carpet": [
           {
            "aaxis": {
             "endlinecolor": "#2a3f5f",
             "gridcolor": "white",
             "linecolor": "white",
             "minorgridcolor": "white",
             "startlinecolor": "#2a3f5f"
            },
            "baxis": {
             "endlinecolor": "#2a3f5f",
             "gridcolor": "white",
             "linecolor": "white",
             "minorgridcolor": "white",
             "startlinecolor": "#2a3f5f"
            },
            "type": "carpet"
           }
          ],
          "choropleth": [
           {
            "colorbar": {
             "outlinewidth": 0,
             "ticks": ""
            },
            "type": "choropleth"
           }
          ],
          "contour": [
           {
            "colorbar": {
             "outlinewidth": 0,
             "ticks": ""
            },
            "colorscale": [
             [
              0,
              "#0d0887"
             ],
             [
              0.1111111111111111,
              "#46039f"
             ],
             [
              0.2222222222222222,
              "#7201a8"
             ],
             [
              0.3333333333333333,
              "#9c179e"
             ],
             [
              0.4444444444444444,
              "#bd3786"
             ],
             [
              0.5555555555555556,
              "#d8576b"
             ],
             [
              0.6666666666666666,
              "#ed7953"
             ],
             [
              0.7777777777777778,
              "#fb9f3a"
             ],
             [
              0.8888888888888888,
              "#fdca26"
             ],
             [
              1,
              "#f0f921"
             ]
            ],
            "type": "contour"
           }
          ],
          "contourcarpet": [
           {
            "colorbar": {
             "outlinewidth": 0,
             "ticks": ""
            },
            "type": "contourcarpet"
           }
          ],
          "heatmap": [
           {
            "colorbar": {
             "outlinewidth": 0,
             "ticks": ""
            },
            "colorscale": [
             [
              0,
              "#0d0887"
             ],
             [
              0.1111111111111111,
              "#46039f"
             ],
             [
              0.2222222222222222,
              "#7201a8"
             ],
             [
              0.3333333333333333,
              "#9c179e"
             ],
             [
              0.4444444444444444,
              "#bd3786"
             ],
             [
              0.5555555555555556,
              "#d8576b"
             ],
             [
              0.6666666666666666,
              "#ed7953"
             ],
             [
              0.7777777777777778,
              "#fb9f3a"
             ],
             [
              0.8888888888888888,
              "#fdca26"
             ],
             [
              1,
              "#f0f921"
             ]
            ],
            "type": "heatmap"
           }
          ],
          "heatmapgl": [
           {
            "colorbar": {
             "outlinewidth": 0,
             "ticks": ""
            },
            "colorscale": [
             [
              0,
              "#0d0887"
             ],
             [
              0.1111111111111111,
              "#46039f"
             ],
             [
              0.2222222222222222,
              "#7201a8"
             ],
             [
              0.3333333333333333,
              "#9c179e"
             ],
             [
              0.4444444444444444,
              "#bd3786"
             ],
             [
              0.5555555555555556,
              "#d8576b"
             ],
             [
              0.6666666666666666,
              "#ed7953"
             ],
             [
              0.7777777777777778,
              "#fb9f3a"
             ],
             [
              0.8888888888888888,
              "#fdca26"
             ],
             [
              1,
              "#f0f921"
             ]
            ],
            "type": "heatmapgl"
           }
          ],
          "histogram": [
           {
            "marker": {
             "pattern": {
              "fillmode": "overlay",
              "size": 10,
              "solidity": 0.2
             }
            },
            "type": "histogram"
           }
          ],
          "histogram2d": [
           {
            "colorbar": {
             "outlinewidth": 0,
             "ticks": ""
            },
            "colorscale": [
             [
              0,
              "#0d0887"
             ],
             [
              0.1111111111111111,
              "#46039f"
             ],
             [
              0.2222222222222222,
              "#7201a8"
             ],
             [
              0.3333333333333333,
              "#9c179e"
             ],
             [
              0.4444444444444444,
              "#bd3786"
             ],
             [
              0.5555555555555556,
              "#d8576b"
             ],
             [
              0.6666666666666666,
              "#ed7953"
             ],
             [
              0.7777777777777778,
              "#fb9f3a"
             ],
             [
              0.8888888888888888,
              "#fdca26"
             ],
             [
              1,
              "#f0f921"
             ]
            ],
            "type": "histogram2d"
           }
          ],
          "histogram2dcontour": [
           {
            "colorbar": {
             "outlinewidth": 0,
             "ticks": ""
            },
            "colorscale": [
             [
              0,
              "#0d0887"
             ],
             [
              0.1111111111111111,
              "#46039f"
             ],
             [
              0.2222222222222222,
              "#7201a8"
             ],
             [
              0.3333333333333333,
              "#9c179e"
             ],
             [
              0.4444444444444444,
              "#bd3786"
             ],
             [
              0.5555555555555556,
              "#d8576b"
             ],
             [
              0.6666666666666666,
              "#ed7953"
             ],
             [
              0.7777777777777778,
              "#fb9f3a"
             ],
             [
              0.8888888888888888,
              "#fdca26"
             ],
             [
              1,
              "#f0f921"
             ]
            ],
            "type": "histogram2dcontour"
           }
          ],
          "mesh3d": [
           {
            "colorbar": {
             "outlinewidth": 0,
             "ticks": ""
            },
            "type": "mesh3d"
           }
          ],
          "parcoords": [
           {
            "line": {
             "colorbar": {
              "outlinewidth": 0,
              "ticks": ""
             }
            },
            "type": "parcoords"
           }
          ],
          "pie": [
           {
            "automargin": true,
            "type": "pie"
           }
          ],
          "scatter": [
           {
            "fillpattern": {
             "fillmode": "overlay",
             "size": 10,
             "solidity": 0.2
            },
            "type": "scatter"
           }
          ],
          "scatter3d": [
           {
            "line": {
             "colorbar": {
              "outlinewidth": 0,
              "ticks": ""
             }
            },
            "marker": {
             "colorbar": {
              "outlinewidth": 0,
              "ticks": ""
             }
            },
            "type": "scatter3d"
           }
          ],
          "scattercarpet": [
           {
            "marker": {
             "colorbar": {
              "outlinewidth": 0,
              "ticks": ""
             }
            },
            "type": "scattercarpet"
           }
          ],
          "scattergeo": [
           {
            "marker": {
             "colorbar": {
              "outlinewidth": 0,
              "ticks": ""
             }
            },
            "type": "scattergeo"
           }
          ],
          "scattergl": [
           {
            "marker": {
             "colorbar": {
              "outlinewidth": 0,
              "ticks": ""
             }
            },
            "type": "scattergl"
           }
          ],
          "scattermapbox": [
           {
            "marker": {
             "colorbar": {
              "outlinewidth": 0,
              "ticks": ""
             }
            },
            "type": "scattermapbox"
           }
          ],
          "scatterpolar": [
           {
            "marker": {
             "colorbar": {
              "outlinewidth": 0,
              "ticks": ""
             }
            },
            "type": "scatterpolar"
           }
          ],
          "scatterpolargl": [
           {
            "marker": {
             "colorbar": {
              "outlinewidth": 0,
              "ticks": ""
             }
            },
            "type": "scatterpolargl"
           }
          ],
          "scatterternary": [
           {
            "marker": {
             "colorbar": {
              "outlinewidth": 0,
              "ticks": ""
             }
            },
            "type": "scatterternary"
           }
          ],
          "surface": [
           {
            "colorbar": {
             "outlinewidth": 0,
             "ticks": ""
            },
            "colorscale": [
             [
              0,
              "#0d0887"
             ],
             [
              0.1111111111111111,
              "#46039f"
             ],
             [
              0.2222222222222222,
              "#7201a8"
             ],
             [
              0.3333333333333333,
              "#9c179e"
             ],
             [
              0.4444444444444444,
              "#bd3786"
             ],
             [
              0.5555555555555556,
              "#d8576b"
             ],
             [
              0.6666666666666666,
              "#ed7953"
             ],
             [
              0.7777777777777778,
              "#fb9f3a"
             ],
             [
              0.8888888888888888,
              "#fdca26"
             ],
             [
              1,
              "#f0f921"
             ]
            ],
            "type": "surface"
           }
          ],
          "table": [
           {
            "cells": {
             "fill": {
              "color": "#EBF0F8"
             },
             "line": {
              "color": "white"
             }
            },
            "header": {
             "fill": {
              "color": "#C8D4E3"
             },
             "line": {
              "color": "white"
             }
            },
            "type": "table"
           }
          ]
         },
         "layout": {
          "annotationdefaults": {
           "arrowcolor": "#2a3f5f",
           "arrowhead": 0,
           "arrowwidth": 1
          },
          "autotypenumbers": "strict",
          "coloraxis": {
           "colorbar": {
            "outlinewidth": 0,
            "ticks": ""
           }
          },
          "colorscale": {
           "diverging": [
            [
             0,
             "#8e0152"
            ],
            [
             0.1,
             "#c51b7d"
            ],
            [
             0.2,
             "#de77ae"
            ],
            [
             0.3,
             "#f1b6da"
            ],
            [
             0.4,
             "#fde0ef"
            ],
            [
             0.5,
             "#f7f7f7"
            ],
            [
             0.6,
             "#e6f5d0"
            ],
            [
             0.7,
             "#b8e186"
            ],
            [
             0.8,
             "#7fbc41"
            ],
            [
             0.9,
             "#4d9221"
            ],
            [
             1,
             "#276419"
            ]
           ],
           "sequential": [
            [
             0,
             "#0d0887"
            ],
            [
             0.1111111111111111,
             "#46039f"
            ],
            [
             0.2222222222222222,
             "#7201a8"
            ],
            [
             0.3333333333333333,
             "#9c179e"
            ],
            [
             0.4444444444444444,
             "#bd3786"
            ],
            [
             0.5555555555555556,
             "#d8576b"
            ],
            [
             0.6666666666666666,
             "#ed7953"
            ],
            [
             0.7777777777777778,
             "#fb9f3a"
            ],
            [
             0.8888888888888888,
             "#fdca26"
            ],
            [
             1,
             "#f0f921"
            ]
           ],
           "sequentialminus": [
            [
             0,
             "#0d0887"
            ],
            [
             0.1111111111111111,
             "#46039f"
            ],
            [
             0.2222222222222222,
             "#7201a8"
            ],
            [
             0.3333333333333333,
             "#9c179e"
            ],
            [
             0.4444444444444444,
             "#bd3786"
            ],
            [
             0.5555555555555556,
             "#d8576b"
            ],
            [
             0.6666666666666666,
             "#ed7953"
            ],
            [
             0.7777777777777778,
             "#fb9f3a"
            ],
            [
             0.8888888888888888,
             "#fdca26"
            ],
            [
             1,
             "#f0f921"
            ]
           ]
          },
          "colorway": [
           "#636efa",
           "#EF553B",
           "#00cc96",
           "#ab63fa",
           "#FFA15A",
           "#19d3f3",
           "#FF6692",
           "#B6E880",
           "#FF97FF",
           "#FECB52"
          ],
          "font": {
           "color": "#2a3f5f"
          },
          "geo": {
           "bgcolor": "white",
           "lakecolor": "white",
           "landcolor": "#E5ECF6",
           "showlakes": true,
           "showland": true,
           "subunitcolor": "white"
          },
          "hoverlabel": {
           "align": "left"
          },
          "hovermode": "closest",
          "mapbox": {
           "style": "light"
          },
          "paper_bgcolor": "white",
          "plot_bgcolor": "#E5ECF6",
          "polar": {
           "angularaxis": {
            "gridcolor": "white",
            "linecolor": "white",
            "ticks": ""
           },
           "bgcolor": "#E5ECF6",
           "radialaxis": {
            "gridcolor": "white",
            "linecolor": "white",
            "ticks": ""
           }
          },
          "scene": {
           "xaxis": {
            "backgroundcolor": "#E5ECF6",
            "gridcolor": "white",
            "gridwidth": 2,
            "linecolor": "white",
            "showbackground": true,
            "ticks": "",
            "zerolinecolor": "white"
           },
           "yaxis": {
            "backgroundcolor": "#E5ECF6",
            "gridcolor": "white",
            "gridwidth": 2,
            "linecolor": "white",
            "showbackground": true,
            "ticks": "",
            "zerolinecolor": "white"
           },
           "zaxis": {
            "backgroundcolor": "#E5ECF6",
            "gridcolor": "white",
            "gridwidth": 2,
            "linecolor": "white",
            "showbackground": true,
            "ticks": "",
            "zerolinecolor": "white"
           }
          },
          "shapedefaults": {
           "line": {
            "color": "#2a3f5f"
           }
          },
          "ternary": {
           "aaxis": {
            "gridcolor": "white",
            "linecolor": "white",
            "ticks": ""
           },
           "baxis": {
            "gridcolor": "white",
            "linecolor": "white",
            "ticks": ""
           },
           "bgcolor": "#E5ECF6",
           "caxis": {
            "gridcolor": "white",
            "linecolor": "white",
            "ticks": ""
           }
          },
          "title": {
           "x": 0.05
          },
          "xaxis": {
           "automargin": true,
           "gridcolor": "white",
           "linecolor": "white",
           "ticks": "",
           "title": {
            "standoff": 15
           },
           "zerolinecolor": "white",
           "zerolinewidth": 2
          },
          "yaxis": {
           "automargin": true,
           "gridcolor": "white",
           "linecolor": "white",
           "ticks": "",
           "title": {
            "standoff": 15
           },
           "zerolinecolor": "white",
           "zerolinewidth": 2
          }
         }
        },
        "title": {
         "font": {
          "color": "#231F20",
          "size": 24
         },
         "text": "Variação do Produto Interno Bruto (PIB) do Rio de Janeiro<br>De 2010 a 2020 (em bilhões de reais)"
        },
        "width": 1300,
        "xaxis": {
         "tickmode": "array",
         "ticktext": [
          2010,
          2011,
          2012,
          2013,
          2014,
          2015,
          2016,
          2017,
          2018,
          2019,
          2020,
          "Total"
         ],
         "tickvals": [
          0,
          1,
          2,
          3,
          4,
          5,
          6,
          7,
          8,
          9,
          10,
          11
         ]
        },
        "yaxis": {
         "range": [
          0,
          850000000000
         ],
         "showticklabels": false
        }
       }
      }
     },
     "metadata": {},
     "output_type": "display_data"
    }
   ],
   "source": [
    "fig = go.Figure(\n",
    "    go.Waterfall(name='', orientation='v', measure=rio['Medidas'],\n",
    "                 y=rio['Variação do PIB'], text=rio['Variação do PIB (em texto)'],\n",
    "                 textposition='outside', connector_line=dict(color=CINZA3),\n",
    "                 totals_marker=dict(color=AZUL3),\n",
    "                 increasing_marker=dict(color=VERDE1),\n",
    "                 decreasing_marker=dict(color=VERMELHO1))\n",
    ")\n",
    "\n",
    "fig.update_layout(width=1300, height=600, font_family='DejaVu Sans',\n",
    "                  font_size=15, font_color=CINZA2, title_font_color=CINZA1,\n",
    "                  title_font_size=24,\n",
    "                  title_text='Variação do Produto Interno Bruto (PIB) do Rio de Janeiro<br>De 2010 a 2020 (em bilhões de reais)',\n",
    "                  plot_bgcolor=BRANCO, yaxis_range=[0, 850e9])\n",
    "\n",
    "fig.update_yaxes(showticklabels=False)\n",
    "\n",
    "fig.update_xaxes(tickmode='array', tickvals=np.arange(0, 12),\n",
    "                 ticktext=rio['Ano'])\n",
    "\n",
    "fig.update_traces(hovertemplate='<b>%{x}</b> = %{text}')\n",
    "\n",
    "fig.show()"
   ]
  }
 ],
 "metadata": {
  "kernelspec": {
   "display_name": "Python 3",
   "language": "python",
   "name": "python3"
  },
  "language_info": {
   "codemirror_mode": {
    "name": "ipython",
    "version": 3
   },
   "file_extension": ".py",
   "mimetype": "text/x-python",
   "name": "python",
   "nbconvert_exporter": "python",
   "pygments_lexer": "ipython3",
   "version": "3.12.9"
  }
 },
 "nbformat": 4,
 "nbformat_minor": 2
}
