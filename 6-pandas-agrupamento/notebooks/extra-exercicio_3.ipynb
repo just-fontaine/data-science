{
 "cells": [
  {
   "cell_type": "code",
   "execution_count": 5,
   "metadata": {},
   "outputs": [],
   "source": [
    "# Importação das bibliotecas\n",
    "\n",
    "from warnings import filterwarnings\n",
    "import pandas as pd"
   ]
  },
  {
   "cell_type": "code",
   "execution_count": 6,
   "metadata": {},
   "outputs": [],
   "source": [
    "# Ignorando avisos\n",
    "\n",
    "filterwarnings('ignore')"
   ]
  },
  {
   "cell_type": "code",
   "execution_count": 8,
   "metadata": {},
   "outputs": [],
   "source": [
    "# Leitura dos dados\n",
    "\n",
    "emissoes_gas = pd.read_excel(\n",
    "    r'C:\\Estudos\\alura\\data-science\\6-pandas-agrupamento\\dados\\1-SEEG10_GERAL-BR_UF_2022.10.27-FINAL-SITE.xlsx',\n",
    "    sheet_name='GEE Estados'\n",
    ")"
   ]
  },
  {
   "cell_type": "code",
   "execution_count": 15,
   "metadata": {},
   "outputs": [],
   "source": [
    "colunas_mantidas = list(\n",
    "    emissoes_gas.loc[\n",
    "        :,\n",
    "        'Nível 1 - Setor' : 'Produto'\n",
    "    ]\n",
    ")"
   ]
  },
  {
   "cell_type": "code",
   "execution_count": 17,
   "metadata": {},
   "outputs": [],
   "source": [
    "colunas_derretidas = list(\n",
    "    emissoes_gas.loc[\n",
    "        :,\n",
    "        1970 : 2021\n",
    "    ]\n",
    ")"
   ]
  },
  {
   "cell_type": "code",
   "execution_count": 18,
   "metadata": {},
   "outputs": [],
   "source": [
    "# Derretimento do dataframe\n",
    "\n",
    "emissoes_por_ano = emissoes_gas.melt(\n",
    "    id_vars=colunas_mantidas,\n",
    "    value_vars=colunas_derretidas,\n",
    "    var_name='Ano',\n",
    "    value_name='Emissão'\n",
    ")"
   ]
  },
  {
   "cell_type": "code",
   "execution_count": 28,
   "metadata": {},
   "outputs": [
    {
     "data": {
      "text/html": [
       "<div>\n",
       "<style scoped>\n",
       "    .dataframe tbody tr th:only-of-type {\n",
       "        vertical-align: middle;\n",
       "    }\n",
       "\n",
       "    .dataframe tbody tr th {\n",
       "        vertical-align: top;\n",
       "    }\n",
       "\n",
       "    .dataframe thead th {\n",
       "        text-align: right;\n",
       "    }\n",
       "</style>\n",
       "<table border=\"1\" class=\"dataframe\">\n",
       "  <thead>\n",
       "    <tr style=\"text-align: right;\">\n",
       "      <th></th>\n",
       "      <th></th>\n",
       "      <th>Emissão</th>\n",
       "    </tr>\n",
       "    <tr>\n",
       "      <th>Estado</th>\n",
       "      <th>Nível 1 - Setor</th>\n",
       "      <th></th>\n",
       "    </tr>\n",
       "  </thead>\n",
       "  <tbody>\n",
       "    <tr>\n",
       "      <th rowspan=\"4\" valign=\"top\">AC</th>\n",
       "      <th>Agropecuária</th>\n",
       "      <td>-3.272006e+08</td>\n",
       "    </tr>\n",
       "    <tr>\n",
       "      <th>Energia</th>\n",
       "      <td>2.071751e+08</td>\n",
       "    </tr>\n",
       "    <tr>\n",
       "      <th>Mudança de Uso da Terra e Floresta</th>\n",
       "      <td>4.704492e+09</td>\n",
       "    </tr>\n",
       "    <tr>\n",
       "      <th>Resíduos</th>\n",
       "      <td>2.928323e+07</td>\n",
       "    </tr>\n",
       "    <tr>\n",
       "      <th>AL</th>\n",
       "      <th>Agropecuária</th>\n",
       "      <td>1.215829e+09</td>\n",
       "    </tr>\n",
       "    <tr>\n",
       "      <th>...</th>\n",
       "      <th>...</th>\n",
       "      <td>...</td>\n",
       "    </tr>\n",
       "    <tr>\n",
       "      <th rowspan=\"5\" valign=\"top\">TO</th>\n",
       "      <th>Agropecuária</th>\n",
       "      <td>2.789108e+09</td>\n",
       "    </tr>\n",
       "    <tr>\n",
       "      <th>Energia</th>\n",
       "      <td>5.130379e+08</td>\n",
       "    </tr>\n",
       "    <tr>\n",
       "      <th>Mudança de Uso da Terra e Floresta</th>\n",
       "      <td>6.486598e+09</td>\n",
       "    </tr>\n",
       "    <tr>\n",
       "      <th>Processos Industriais</th>\n",
       "      <td>2.613905e+07</td>\n",
       "    </tr>\n",
       "    <tr>\n",
       "      <th>Resíduos</th>\n",
       "      <td>6.177003e+07</td>\n",
       "    </tr>\n",
       "  </tbody>\n",
       "</table>\n",
       "<p>133 rows × 1 columns</p>\n",
       "</div>"
      ],
      "text/plain": [
       "                                                Emissão\n",
       "Estado Nível 1 - Setor                                 \n",
       "AC     Agropecuária                       -3.272006e+08\n",
       "       Energia                             2.071751e+08\n",
       "       Mudança de Uso da Terra e Floresta  4.704492e+09\n",
       "       Resíduos                            2.928323e+07\n",
       "AL     Agropecuária                        1.215829e+09\n",
       "...                                                 ...\n",
       "TO     Agropecuária                        2.789108e+09\n",
       "       Energia                             5.130379e+08\n",
       "       Mudança de Uso da Terra e Floresta  6.486598e+09\n",
       "       Processos Industriais               2.613905e+07\n",
       "       Resíduos                            6.177003e+07\n",
       "\n",
       "[133 rows x 1 columns]"
      ]
     },
     "execution_count": 28,
     "metadata": {},
     "output_type": "execute_result"
    }
   ],
   "source": [
    "emissoes_estados_setor = emissoes_por_ano.groupby(\n",
    "    ['Estado', 'Nível 1 - Setor']\n",
    ")[['Emissão']].sum()\n",
    "\n",
    "emissoes_estados_setor"
   ]
  },
  {
   "cell_type": "code",
   "execution_count": 35,
   "metadata": {},
   "outputs": [],
   "source": [
    "'''emissoes_estados_setor.groupby(\n",
    "    level=1\n",
    ").max()''';"
   ]
  },
  {
   "cell_type": "code",
   "execution_count": 56,
   "metadata": {},
   "outputs": [
    {
     "data": {
      "text/plain": [
       "'Agropecuária'"
      ]
     },
     "execution_count": 56,
     "metadata": {},
     "output_type": "execute_result"
    }
   ],
   "source": [
    "emissoes_estados_setor.xs(\n",
    "    'MG',\n",
    "    level=0\n",
    ").idxmax()[0]"
   ]
  },
  {
   "cell_type": "code",
   "execution_count": 67,
   "metadata": {},
   "outputs": [
    {
     "data": {
      "text/html": [
       "<div>\n",
       "<style scoped>\n",
       "    .dataframe tbody tr th:only-of-type {\n",
       "        vertical-align: middle;\n",
       "    }\n",
       "\n",
       "    .dataframe tbody tr th {\n",
       "        vertical-align: top;\n",
       "    }\n",
       "\n",
       "    .dataframe thead th {\n",
       "        text-align: right;\n",
       "    }\n",
       "</style>\n",
       "<table border=\"1\" class=\"dataframe\">\n",
       "  <thead>\n",
       "    <tr style=\"text-align: right;\">\n",
       "      <th></th>\n",
       "      <th>Emissão</th>\n",
       "    </tr>\n",
       "    <tr>\n",
       "      <th>Estado</th>\n",
       "      <th></th>\n",
       "    </tr>\n",
       "  </thead>\n",
       "  <tbody>\n",
       "    <tr>\n",
       "      <th>AC</th>\n",
       "      <td>(AC, Mudança de Uso da Terra e Floresta)</td>\n",
       "    </tr>\n",
       "    <tr>\n",
       "      <th>AL</th>\n",
       "      <td>(AL, Agropecuária)</td>\n",
       "    </tr>\n",
       "    <tr>\n",
       "      <th>AM</th>\n",
       "      <td>(AM, Energia)</td>\n",
       "    </tr>\n",
       "    <tr>\n",
       "      <th>AP</th>\n",
       "      <td>(AP, Energia)</td>\n",
       "    </tr>\n",
       "    <tr>\n",
       "      <th>BA</th>\n",
       "      <td>(BA, Agropecuária)</td>\n",
       "    </tr>\n",
       "  </tbody>\n",
       "</table>\n",
       "</div>"
      ],
      "text/plain": [
       "                                         Emissão\n",
       "Estado                                          \n",
       "AC      (AC, Mudança de Uso da Terra e Floresta)\n",
       "AL                            (AL, Agropecuária)\n",
       "AM                                 (AM, Energia)\n",
       "AP                                 (AP, Energia)\n",
       "BA                            (BA, Agropecuária)"
      ]
     },
     "execution_count": 67,
     "metadata": {},
     "output_type": "execute_result"
    }
   ],
   "source": [
    "emissoes_estados_setor.groupby(\n",
    "    level=0\n",
    ").idxmax().head()"
   ]
  },
  {
   "cell_type": "code",
   "execution_count": 69,
   "metadata": {},
   "outputs": [
    {
     "data": {
      "text/html": [
       "<div>\n",
       "<style scoped>\n",
       "    .dataframe tbody tr th:only-of-type {\n",
       "        vertical-align: middle;\n",
       "    }\n",
       "\n",
       "    .dataframe tbody tr th {\n",
       "        vertical-align: top;\n",
       "    }\n",
       "\n",
       "    .dataframe thead th {\n",
       "        text-align: right;\n",
       "    }\n",
       "</style>\n",
       "<table border=\"1\" class=\"dataframe\">\n",
       "  <thead>\n",
       "    <tr style=\"text-align: right;\">\n",
       "      <th></th>\n",
       "      <th>Emissão</th>\n",
       "    </tr>\n",
       "    <tr>\n",
       "      <th>Nível 1 - Setor</th>\n",
       "      <th></th>\n",
       "    </tr>\n",
       "  </thead>\n",
       "  <tbody>\n",
       "    <tr>\n",
       "      <th>Agropecuária</th>\n",
       "      <td>(MG, Agropecuária)</td>\n",
       "    </tr>\n",
       "    <tr>\n",
       "      <th>Energia</th>\n",
       "      <td>(SP, Energia)</td>\n",
       "    </tr>\n",
       "    <tr>\n",
       "      <th>Mudança de Uso da Terra e Floresta</th>\n",
       "      <td>(MT, Mudança de Uso da Terra e Floresta)</td>\n",
       "    </tr>\n",
       "    <tr>\n",
       "      <th>Processos Industriais</th>\n",
       "      <td>(MG, Processos Industriais)</td>\n",
       "    </tr>\n",
       "    <tr>\n",
       "      <th>Resíduos</th>\n",
       "      <td>(SP, Resíduos )</td>\n",
       "    </tr>\n",
       "  </tbody>\n",
       "</table>\n",
       "</div>"
      ],
      "text/plain": [
       "                                                                     Emissão\n",
       "Nível 1 - Setor                                                             \n",
       "Agropecuária                                              (MG, Agropecuária)\n",
       "Energia                                                        (SP, Energia)\n",
       "Mudança de Uso da Terra e Floresta  (MT, Mudança de Uso da Terra e Floresta)\n",
       "Processos Industriais                            (MG, Processos Industriais)\n",
       "Resíduos                                                     (SP, Resíduos )"
      ]
     },
     "execution_count": 69,
     "metadata": {},
     "output_type": "execute_result"
    }
   ],
   "source": [
    "emissoes_estados_setor.groupby(\n",
    "    level=1\n",
    ").idxmax().head()"
   ]
  }
 ],
 "metadata": {
  "kernelspec": {
   "display_name": "Python 3",
   "language": "python",
   "name": "python3"
  },
  "language_info": {
   "codemirror_mode": {
    "name": "ipython",
    "version": 3
   },
   "file_extension": ".py",
   "mimetype": "text/x-python",
   "name": "python",
   "nbconvert_exporter": "python",
   "pygments_lexer": "ipython3",
   "version": "3.12.8"
  }
 },
 "nbformat": 4,
 "nbformat_minor": 2
}
