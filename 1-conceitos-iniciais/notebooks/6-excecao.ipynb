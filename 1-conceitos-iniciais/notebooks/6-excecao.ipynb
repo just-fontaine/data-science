{
 "cells": [
  {
   "cell_type": "code",
   "execution_count": 1,
   "metadata": {},
   "outputs": [],
   "source": [
    "# Dicionário notas criado\n",
    "\n",
    "notas = {\n",
    "    'João': [8.0, 9.0, 10.0], \n",
    "    'Maria': [9.0, 7.0, 6.0], \n",
    "    'José': [3.4, 7.0, 8.0], \n",
    "    'Cláudia': [5.5, 6.6, 8.0],\n",
    "    'Ana': [6.0, 10.0, 9.5], \n",
    "    'Joaquim': [5.5, 7.5, 9.0], \n",
    "    'Júlia': [6.0, 8.0, 7.0], \n",
    "    'Pedro': [3.0, 4.0, 6.0]\n",
    "}"
   ]
  },
  {
   "cell_type": "code",
   "execution_count": 3,
   "metadata": {},
   "outputs": [
    {
     "name": "stdout",
     "output_type": "stream",
     "text": [
      "[8.0, 9.0, 10.0]\n"
     ]
    }
   ],
   "source": [
    "nome = input('Digite o nome do(a) estudante: ')\n",
    "\n",
    "resultado = notas[nome]\n",
    "\n",
    "print(resultado)"
   ]
  },
  {
   "cell_type": "code",
   "execution_count": 6,
   "metadata": {},
   "outputs": [
    {
     "name": "stdout",
     "output_type": "stream",
     "text": [
      "<class 'KeyError'> Erro: 'Henry'\n"
     ]
    }
   ],
   "source": [
    "# Tenta pegar um input e procurar na lista, caso não encontre lança uma exceção\n",
    "\n",
    "try:\n",
    "    nome = input('Digite o nome do(a) estudante: ')\n",
    "    resultado = notas[nome]\n",
    "    print(resultado)\n",
    "except Exception as e:\n",
    "    print(type(e), f'Erro: {e}')"
   ]
  },
  {
   "cell_type": "code",
   "execution_count": null,
   "metadata": {},
   "outputs": [
    {
     "name": "stdout",
     "output_type": "stream",
     "text": [
      "Estudante não matriculado na turma.\n"
     ]
    }
   ],
   "source": [
    "# Exceção específica para erro de chave não encontrada e mensagem de erro personalizada\n",
    "\n",
    "try:\n",
    "    nome = input('Digite o nome do(a) estudante: ')\n",
    "    resultado = notas[nome]\n",
    "    print(resultado)\n",
    "except KeyError:\n",
    "    print('Estudante não matriculado na turma.')"
   ]
  },
  {
   "cell_type": "code",
   "execution_count": 11,
   "metadata": {},
   "outputs": [
    {
     "name": "stdout",
     "output_type": "stream",
     "text": [
      "Estudante não matriculado na turma.\n"
     ]
    }
   ],
   "source": [
    "try:\n",
    "    # Tenta pegar a chave passada pra variável nome\n",
    "    nome = input('Digite o nome do(a) estudante: ')\n",
    "    resultado = notas[nome]\n",
    "except KeyError:\n",
    "    # Se não encontrar, exibe essa mensagem\n",
    "    print('Estudante não matriculado na turma.')\n",
    "else:\n",
    "    # Se tudo der certo, mostra as notas\n",
    "    print(f'Notas de {nome}: {resultado}')"
   ]
  },
  {
   "cell_type": "code",
   "execution_count": 6,
   "metadata": {},
   "outputs": [
    {
     "name": "stdout",
     "output_type": "stream",
     "text": [
      "Notas de João: [8.0, 9.0, 10.0]\n",
      "Consulta encerrada!\n"
     ]
    }
   ],
   "source": [
    "try:\n",
    "    # Tenta pegar a chave passada pra variável nome\n",
    "    nome = input('Digite o nome do(a) estudante: ').title()\n",
    "    resultado = notas[nome]\n",
    "except KeyError:\n",
    "    # Se não encontrar, exibe essa mensagem\n",
    "    print('Estudante não matriculado na turma.')\n",
    "else:\n",
    "    # Se tudo der certo, mostra as notas\n",
    "    print(f'Notas de {nome}: {resultado}')\n",
    "finally:\n",
    "    # E independentemente se deu certo ou não, mostra consulta encerrada\n",
    "    print('Consulta encerrada!')"
   ]
  },
  {
   "cell_type": "markdown",
   "metadata": {},
   "source": [
    "<h3>\n",
    "    <center>Raise error</center>\n",
    "</h3>"
   ]
  },
  {
   "cell_type": "code",
   "execution_count": 13,
   "metadata": {},
   "outputs": [],
   "source": [
    "def media(lista: list=[0]) -> float:\n",
    "    media = sum(lista) / len(lista)\n",
    "\n",
    "    if len(lista) > 4:\n",
    "        raise ValueError('A lista não pode ter mais de 4 notas')\n",
    "    \n",
    "    return media"
   ]
  },
  {
   "cell_type": "code",
   "execution_count": 15,
   "metadata": {},
   "outputs": [
    {
     "name": "stdout",
     "output_type": "stream",
     "text": [
      "A lista não pode ter mais de 4 notas\n",
      "A consulta foi encerrada.\n"
     ]
    }
   ],
   "source": [
    "try:\n",
    "    notas = [6, 7, 8, 9]\n",
    "    resultado = media(notas)\n",
    "except TypeError:\n",
    "    print('Não foi possível calcular a média, só são aceitos valores numéricos.')\n",
    "except ValueError as e:\n",
    "    print(e)\n",
    "else:\n",
    "    print(resultado)\n",
    "finally:\n",
    "    print('A consulta foi encerrada.')"
   ]
  }
 ],
 "metadata": {
  "kernelspec": {
   "display_name": "Python 3",
   "language": "python",
   "name": "python3"
  },
  "language_info": {
   "codemirror_mode": {
    "name": "ipython",
    "version": 3
   },
   "file_extension": ".py",
   "mimetype": "text/x-python",
   "name": "python",
   "nbconvert_exporter": "python",
   "pygments_lexer": "ipython3",
   "version": "3.12.8"
  }
 },
 "nbformat": 4,
 "nbformat_minor": 2
}
