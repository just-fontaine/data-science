{
 "cells": [
  {
   "cell_type": "markdown",
   "metadata": {},
   "source": [
    "<h3>\n",
    "    <center>\n",
    "        LISTAS\n",
    "    </center>\n",
    "</h3>"
   ]
  },
  {
   "cell_type": "markdown",
   "metadata": {},
   "source": [
    "#### Objetivo: Transformar a lista maior em listas simples"
   ]
  },
  {
   "cell_type": "code",
   "execution_count": 9,
   "metadata": {},
   "outputs": [],
   "source": [
    "notas_turma = [\n",
    "    'João', 8.0, 9.0, 10.0,\n",
    "    'Maria', 9.0, 7.0, 6.0,\n",
    "    'José', 3.4, 7.0, 7.0,\n",
    "    'Cláudia', 5.5, 6.6, 8.0,\n",
    "    'Ana', 6.0, 10.0, 9.5\n",
    "]"
   ]
  },
  {
   "cell_type": "code",
   "execution_count": 10,
   "metadata": {},
   "outputs": [
    {
     "name": "stdout",
     "output_type": "stream",
     "text": [
      "['João', 'Maria', 'José', 'Cláudia', 'Ana'] [8.0, 9.0, 10.0, 9.0, 7.0, 6.0, 3.4, 7.0, 7.0, 5.5, 6.6, 8.0, 6.0, 10.0, 9.5]\n"
     ]
    }
   ],
   "source": [
    "nomes = []; notas_juntas = []\n",
    "\n",
    "for i in range(len(notas_turma)):\n",
    "    if i % 4 == 0:\n",
    "        nomes.append(notas_turma[i])\n",
    "    else:\n",
    "        notas_juntas.append(notas_turma[i])\n",
    "print(nomes, notas_juntas)"
   ]
  },
  {
   "cell_type": "code",
   "execution_count": 11,
   "metadata": {},
   "outputs": [
    {
     "name": "stdout",
     "output_type": "stream",
     "text": [
      "[[8.0, 9.0, 10.0], [9.0, 7.0, 6.0], [3.4, 7.0, 7.0], [5.5, 6.6, 8.0], [6.0, 10.0, 9.5]]\n"
     ]
    }
   ],
   "source": [
    "notas = []\n",
    "\n",
    "for i in range(0, len(notas_juntas), 3):\n",
    "    notas.append([notas_juntas[i], notas_juntas[i+1], notas_juntas[i+2]])\n",
    "print(notas)"
   ]
  },
  {
   "cell_type": "code",
   "execution_count": 12,
   "metadata": {},
   "outputs": [
    {
     "name": "stdout",
     "output_type": "stream",
     "text": [
      "10.0\n"
     ]
    }
   ],
   "source": [
    "print(notas[0][2])"
   ]
  },
  {
   "cell_type": "markdown",
   "metadata": {},
   "source": [
    "<h3>\n",
    "    <center>\n",
    "        TUPLAS\n",
    "    </center>\n",
    "</h3>"
   ]
  },
  {
   "cell_type": "code",
   "execution_count": 13,
   "metadata": {},
   "outputs": [],
   "source": [
    "cadastro = ('Henry', 18, 'São Paulo', 'SP', 'Python para Data Science')"
   ]
  },
  {
   "cell_type": "code",
   "execution_count": 14,
   "metadata": {},
   "outputs": [],
   "source": [
    "nome, idade, cidade, sigla, curso = cadastro"
   ]
  },
  {
   "cell_type": "code",
   "execution_count": 15,
   "metadata": {},
   "outputs": [
    {
     "name": "stdout",
     "output_type": "stream",
     "text": [
      "O estudante Henry, de 18 anos, da cidade de São Paulo-SP está matriculado no curso Python para Data Science.\n"
     ]
    }
   ],
   "source": [
    "print(f'O estudante {nome}, de {idade} anos, da cidade de {cidade}-{sigla} está matriculado no curso {curso}.')"
   ]
  },
  {
   "cell_type": "code",
   "execution_count": 16,
   "metadata": {},
   "outputs": [
    {
     "name": "stdout",
     "output_type": "stream",
     "text": [
      "Nome: Henry\n",
      "Idade: 18\n",
      "Cidade: São Paulo\n",
      "Sigla: SP\n",
      "Curso: Python para Data Science\n"
     ]
    }
   ],
   "source": [
    "print(f'Nome: {nome}\\nIdade: {idade}\\nCidade: {cidade}\\nSigla: {sigla}\\nCurso: {curso}')"
   ]
  },
  {
   "cell_type": "code",
   "execution_count": 17,
   "metadata": {},
   "outputs": [
    {
     "name": "stdout",
     "output_type": "stream",
     "text": [
      "['João', 'Maria', 'José', 'Cláudia', 'Ana']\n"
     ]
    }
   ],
   "source": [
    "estudantes = nomes\n",
    "\n",
    "print(estudantes)"
   ]
  },
  {
   "cell_type": "code",
   "execution_count": 18,
   "metadata": {},
   "outputs": [],
   "source": [
    "from random import randint\n",
    "\n",
    "def gerar_codigo():\n",
    "    return str(randint(0, 999))"
   ]
  },
  {
   "cell_type": "code",
   "execution_count": 19,
   "metadata": {},
   "outputs": [
    {
     "name": "stdout",
     "output_type": "stream",
     "text": [
      "[('João', 'J53'), ('Maria', 'M525'), ('José', 'J986'), ('Cláudia', 'C809'), ('Ana', 'A11')]\n"
     ]
    }
   ],
   "source": [
    "todos_alunos = []\n",
    "\n",
    "for i in estudantes:\n",
    "    aluno_atual = (i, i[0] + gerar_codigo())\n",
    "    todos_alunos.append(aluno_atual)\n",
    "\n",
    "print(todos_alunos)"
   ]
  },
  {
   "cell_type": "markdown",
   "metadata": {},
   "source": [
    "<h3>\n",
    "    <center>\n",
    "        List comprehension\n",
    "    </center>\n",
    "</h3>"
   ]
  },
  {
   "cell_type": "code",
   "execution_count": 20,
   "metadata": {},
   "outputs": [],
   "source": [
    "notas = [[8.0, 9.0, 10.0], [9.0, 7.0, 6.0], [3.4, 7.0, 7.0], [5.5, 6.6, 8.0], [6.0, 10.0, 9.5]]"
   ]
  },
  {
   "cell_type": "code",
   "execution_count": 21,
   "metadata": {},
   "outputs": [],
   "source": [
    "def media(lista: list=[0]) -> float:\n",
    "    calculo = sum(lista) / len(lista)\n",
    "\n",
    "    return calculo"
   ]
  },
  {
   "cell_type": "code",
   "execution_count": 22,
   "metadata": {},
   "outputs": [
    {
     "name": "stdout",
     "output_type": "stream",
     "text": [
      "[[8.0, 9.0, 10.0], [9.0, 7.0, 6.0], [3.4, 7.0, 7.0], [5.5, 6.6, 8.0], [6.0, 10.0, 9.5]]\n",
      "[9.0, 7.33, 5.8, 6.7, 8.5]\n"
     ]
    }
   ],
   "source": [
    "# Formato: [expressão for item in iteravel]\n",
    "\n",
    "medias = [round(media(nota), 2) for nota in notas]\n",
    "\n",
    "print(notas)\n",
    "print(medias)"
   ]
  },
  {
   "cell_type": "code",
   "execution_count": 23,
   "metadata": {},
   "outputs": [
    {
     "name": "stdout",
     "output_type": "stream",
     "text": [
      "[('João', 'J53'), ('Maria', 'M525'), ('José', 'J986'), ('Cláudia', 'C809'), ('Ana', 'A11')]\n",
      "[9.0, 7.33, 5.8, 6.7, 8.5]\n"
     ]
    }
   ],
   "source": [
    "print(todos_alunos)\n",
    "print(medias)"
   ]
  },
  {
   "cell_type": "code",
   "execution_count": 24,
   "metadata": {},
   "outputs": [
    {
     "name": "stdout",
     "output_type": "stream",
     "text": [
      "['João', 'Maria', 'José', 'Cláudia', 'Ana']\n"
     ]
    }
   ],
   "source": [
    "nomes = [aluno[0] for aluno in todos_alunos]\n",
    "\n",
    "print(nomes)"
   ]
  },
  {
   "cell_type": "code",
   "execution_count": 27,
   "metadata": {},
   "outputs": [
    {
     "name": "stdout",
     "output_type": "stream",
     "text": [
      "[('João', 9.0), ('Maria', 7.33), ('José', 5.8), ('Cláudia', 6.7), ('Ana', 8.5)]\n"
     ]
    }
   ],
   "source": [
    "alunos = list(zip(nomes, medias))\n",
    "\n",
    "print(alunos)"
   ]
  },
  {
   "cell_type": "code",
   "execution_count": 31,
   "metadata": {},
   "outputs": [
    {
     "name": "stdout",
     "output_type": "stream",
     "text": [
      "['João', 'Ana']\n"
     ]
    }
   ],
   "source": [
    "nao_aprovados = []\n",
    "candidatos = [aluno[0] for aluno in alunos if aluno[1] >= 8]\n",
    "\n",
    "print(candidatos)"
   ]
  },
  {
   "cell_type": "markdown",
   "metadata": {},
   "source": [
    "#### Estrutura de um list comprehension com if else\n",
    "\n",
    "<code>\n",
    "    [resultado if cond else resultado_else for item in iteravel]\n",
    "</code>"
   ]
  },
  {
   "cell_type": "code",
   "execution_count": 39,
   "metadata": {},
   "outputs": [],
   "source": [
    "nomes_e_codigos = [('João', 'J53'), ('Maria', 'M525'), ('José', 'J986'), ('Cláudia', 'C809'), ('Ana', 'A11')]\n",
    "notas = [[8.0, 9.0, 10.0], [9.0, 7.0, 6.0], [3.4, 7.0, 7.0], [5.5, 6.6, 8.0], [6.0, 10.0, 9.5]]\n",
    "medias = [9.0, 7.33, 5.8, 6.7, 8.5]"
   ]
  },
  {
   "cell_type": "code",
   "execution_count": 41,
   "metadata": {},
   "outputs": [
    {
     "data": {
      "text/plain": [
       "['João', 'Maria', 'José', 'Cláudia', 'Ana']"
      ]
     },
     "execution_count": 41,
     "metadata": {},
     "output_type": "execute_result"
    }
   ],
   "source": [
    "nomes = [nome[0] for nome in nomes_e_codigos]\n",
    "nomes"
   ]
  },
  {
   "cell_type": "code",
   "execution_count": 37,
   "metadata": {},
   "outputs": [
    {
     "name": "stdout",
     "output_type": "stream",
     "text": [
      "['Aprovado(a)', 'Aprovado(a)', 'Reprovado', 'Aprovado(a)', 'Aprovado(a)']\n"
     ]
    }
   ],
   "source": [
    "situacao = ['Aprovado(a)' if media >= 6 else 'Reprovado' for media in medias]\n",
    "\n",
    "print(situacao)"
   ]
  },
  {
   "cell_type": "code",
   "execution_count": 42,
   "metadata": {},
   "outputs": [
    {
     "name": "stdout",
     "output_type": "stream",
     "text": [
      "[('João', 'Aprovado(a)'), ('Maria', 'Aprovado(a)'), ('José', 'Reprovado'), ('Cláudia', 'Aprovado(a)'), ('Ana', 'Aprovado(a)')]\n"
     ]
    }
   ],
   "source": [
    "situacao_alunos = list(zip(nomes, situacao))\n",
    "\n",
    "print(situacao_alunos)"
   ]
  },
  {
   "cell_type": "markdown",
   "metadata": {},
   "source": [
    "<h3>\n",
    "    <center>Dict comprehension</center>\n",
    "</h3>"
   ]
  },
  {
   "cell_type": "markdown",
   "metadata": {},
   "source": [
    "#### Formato:\n",
    "\n",
    "<code>\n",
    "    {chave: valor for item in iteravel}\n",
    "</code>"
   ]
  },
  {
   "cell_type": "code",
   "execution_count": 73,
   "metadata": {},
   "outputs": [],
   "source": [
    "lista_completa = [\n",
    "    [('João', '3720'), ('Maria', 'M205'), ('José', 'J371'), ('Cláudia', 'C546'),  ('Ana', 'A347')],\n",
    "    [[8.0, 9.0, 10.0], [9.0, 7.0, 6.0], [3.4, 7.0, 7.0], [5.5, 6.6, 8.0], [6.0, 10.0, 9.5]],\n",
    "    [9.0, 7.33, 5.8, 6.7, 8.5],\n",
    "    ['Aprovado', 'Aprovado', 'Reprovado', 'Aprovado', 'Aprovado']\n",
    "]"
   ]
  },
  {
   "cell_type": "code",
   "execution_count": 80,
   "metadata": {},
   "outputs": [
    {
     "data": {
      "text/plain": [
       "{'Notas': [[8.0, 9.0, 10.0],\n",
       "  [9.0, 7.0, 6.0],\n",
       "  [3.4, 7.0, 7.0],\n",
       "  [5.5, 6.6, 8.0],\n",
       "  [6.0, 10.0, 9.5]],\n",
       " 'Média Final': [9.0, 7.33, 5.8, 6.7, 8.5],\n",
       " 'Situação': ['Aprovado', 'Aprovado', 'Reprovado', 'Aprovado', 'Aprovado']}"
      ]
     },
     "execution_count": 80,
     "metadata": {},
     "output_type": "execute_result"
    }
   ],
   "source": [
    "colunas = ['Notas', 'Média Final', 'Situação']\n",
    "\n",
    "cadastro = {colunas[i]: lista_completa[i + 1] for i in range(len(colunas))}\n",
    "\n",
    "cadastro"
   ]
  },
  {
   "cell_type": "code",
   "execution_count": 92,
   "metadata": {},
   "outputs": [],
   "source": [
    "import pandas as pd"
   ]
  },
  {
   "cell_type": "code",
   "execution_count": 95,
   "metadata": {},
   "outputs": [
    {
     "data": {
      "text/html": [
       "<div>\n",
       "<style scoped>\n",
       "    .dataframe tbody tr th:only-of-type {\n",
       "        vertical-align: middle;\n",
       "    }\n",
       "\n",
       "    .dataframe tbody tr th {\n",
       "        vertical-align: top;\n",
       "    }\n",
       "\n",
       "    .dataframe thead th {\n",
       "        text-align: right;\n",
       "    }\n",
       "</style>\n",
       "<table border=\"1\" class=\"dataframe\">\n",
       "  <thead>\n",
       "    <tr style=\"text-align: right;\">\n",
       "      <th></th>\n",
       "      <th>Notas</th>\n",
       "      <th>Média Final</th>\n",
       "      <th>Situação</th>\n",
       "      <th>Estudante</th>\n",
       "    </tr>\n",
       "  </thead>\n",
       "  <tbody>\n",
       "    <tr>\n",
       "      <th>0</th>\n",
       "      <td>[8.0, 9.0, 10.0]</td>\n",
       "      <td>9.00</td>\n",
       "      <td>Aprovado</td>\n",
       "      <td>João</td>\n",
       "    </tr>\n",
       "    <tr>\n",
       "      <th>1</th>\n",
       "      <td>[9.0, 7.0, 6.0]</td>\n",
       "      <td>7.33</td>\n",
       "      <td>Aprovado</td>\n",
       "      <td>Maria</td>\n",
       "    </tr>\n",
       "    <tr>\n",
       "      <th>2</th>\n",
       "      <td>[3.4, 7.0, 7.0]</td>\n",
       "      <td>5.80</td>\n",
       "      <td>Reprovado</td>\n",
       "      <td>José</td>\n",
       "    </tr>\n",
       "    <tr>\n",
       "      <th>3</th>\n",
       "      <td>[5.5, 6.6, 8.0]</td>\n",
       "      <td>6.70</td>\n",
       "      <td>Aprovado</td>\n",
       "      <td>Cláudia</td>\n",
       "    </tr>\n",
       "    <tr>\n",
       "      <th>4</th>\n",
       "      <td>[6.0, 10.0, 9.5]</td>\n",
       "      <td>8.50</td>\n",
       "      <td>Aprovado</td>\n",
       "      <td>Ana</td>\n",
       "    </tr>\n",
       "  </tbody>\n",
       "</table>\n",
       "</div>"
      ],
      "text/plain": [
       "              Notas  Média Final   Situação Estudante\n",
       "0  [8.0, 9.0, 10.0]         9.00   Aprovado      João\n",
       "1   [9.0, 7.0, 6.0]         7.33   Aprovado     Maria\n",
       "2   [3.4, 7.0, 7.0]         5.80  Reprovado      José\n",
       "3   [5.5, 6.6, 8.0]         6.70   Aprovado   Cláudia\n",
       "4  [6.0, 10.0, 9.5]         8.50   Aprovado       Ana"
      ]
     },
     "execution_count": 95,
     "metadata": {},
     "output_type": "execute_result"
    }
   ],
   "source": [
    "# criando a coluna de nome\n",
    "\n",
    "cadastro['Estudante'] = [lista_completa[0][i][0] for i in range(len(lista_completa[0]))]\n",
    "\n",
    "cadastro = pd.DataFrame(cadastro)\n",
    "\n",
    "cadastro"
   ]
  }
 ],
 "metadata": {
  "kernelspec": {
   "display_name": "Python 3",
   "language": "python",
   "name": "python3"
  },
  "language_info": {
   "codemirror_mode": {
    "name": "ipython",
    "version": 3
   },
   "file_extension": ".py",
   "mimetype": "text/x-python",
   "name": "python",
   "nbconvert_exporter": "python",
   "pygments_lexer": "ipython3",
   "version": "3.12.8"
  }
 },
 "nbformat": 4,
 "nbformat_minor": 2
}
