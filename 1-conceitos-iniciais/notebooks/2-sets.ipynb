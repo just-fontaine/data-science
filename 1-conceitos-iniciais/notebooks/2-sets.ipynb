{
 "cells": [
  {
   "cell_type": "markdown",
   "metadata": {},
   "source": [
    "<h3>\n",
    "    <center>\n",
    "        SETS EM PYTHON\n",
    "    </center>\n",
    "</h3>"
   ]
  },
  {
   "cell_type": "markdown",
   "metadata": {},
   "source": [
    "<center>\n",
    "    <p>\n",
    "        Sets são conjuntos não ordenados\n",
    "    </p>\n",
    "</center>"
   ]
  },
  {
   "cell_type": "code",
   "execution_count": 11,
   "metadata": {},
   "outputs": [
    {
     "name": "stdout",
     "output_type": "stream",
     "text": [
      "{'Dodge Journey', 'Jetta Variant', 'Crossfox', 'Passat'}\n"
     ]
    }
   ],
   "source": [
    "carros = {'Jetta Variant', 'Passat', 'Crossfox', 'Dodge Journey'}\n",
    "\n",
    "print(carros)"
   ]
  },
  {
   "cell_type": "markdown",
   "metadata": {},
   "source": [
    "<center>\n",
    "    <p>\n",
    "        Portanto um item não pode ser acessado pelo index\n",
    "    </p>\n",
    "</center>"
   ]
  },
  {
   "cell_type": "code",
   "execution_count": 12,
   "metadata": {},
   "outputs": [
    {
     "ename": "TypeError",
     "evalue": "'set' object is not subscriptable",
     "output_type": "error",
     "traceback": [
      "\u001b[1;31m---------------------------------------------------------------------------\u001b[0m",
      "\u001b[1;31mTypeError\u001b[0m                                 Traceback (most recent call last)",
      "Cell \u001b[1;32mIn[12], line 1\u001b[0m\n\u001b[1;32m----> 1\u001b[0m \u001b[43mcarros\u001b[49m\u001b[43m[\u001b[49m\u001b[38;5;241;43m0\u001b[39;49m\u001b[43m]\u001b[49m\n",
      "\u001b[1;31mTypeError\u001b[0m: 'set' object is not subscriptable"
     ]
    }
   ],
   "source": [
    "carros[0]"
   ]
  },
  {
   "cell_type": "code",
   "execution_count": 13,
   "metadata": {},
   "outputs": [
    {
     "name": "stdout",
     "output_type": "stream",
     "text": [
      "{2017, 'Onix', 37123.04, True}\n"
     ]
    }
   ],
   "source": [
    "elementos_diferentes = {2017, 'Onix', 37123.04, True}\n",
    "\n",
    "print(elementos_diferentes)"
   ]
  },
  {
   "cell_type": "code",
   "execution_count": 14,
   "metadata": {},
   "outputs": [
    {
     "name": "stdout",
     "output_type": "stream",
     "text": [
      "Dodge Journey\n",
      "Jetta Variant\n",
      "Crossfox\n",
      "Passat\n"
     ]
    }
   ],
   "source": [
    "for i in carros:\n",
    "    print(i)"
   ]
  },
  {
   "cell_type": "code",
   "execution_count": 15,
   "metadata": {},
   "outputs": [],
   "source": [
    "lista_escolas = [\n",
    "    'Data Science', 'Programação',\n",
    "    'Front-End', 'Mobile',\n",
    "    'DevOps', 'UX & Design',\n",
    "    'Inovação e Gestão'\n",
    "]"
   ]
  },
  {
   "cell_type": "markdown",
   "metadata": {},
   "source": [
    "<center><p>Transformação de uma lista em set()</p><center>"
   ]
  },
  {
   "cell_type": "code",
   "execution_count": 16,
   "metadata": {},
   "outputs": [
    {
     "name": "stdout",
     "output_type": "stream",
     "text": [
      "Mobile\n",
      "Programação\n",
      "Inovação e Gestão\n",
      "UX & Design\n",
      "Data Science\n",
      "DevOps\n",
      "Front-End\n"
     ]
    }
   ],
   "source": [
    "escolas_set = set(lista_escolas)\n",
    "\n",
    "for escola in escolas_set:\n",
    "    print(escola)"
   ]
  },
  {
   "cell_type": "code",
   "execution_count": 24,
   "metadata": {},
   "outputs": [],
   "source": [
    "lista_carros = [\n",
    "    'Jetta Variant', 'Passat',\n",
    "    'Crossfox', 'Passat',\n",
    "    'Crossfox', 'Jetta Variant',\n",
    "    'Dodge Journey'\n",
    "]\n",
    "\n",
    "nova_lista = set(lista_carros)"
   ]
  },
  {
   "cell_type": "code",
   "execution_count": 35,
   "metadata": {},
   "outputs": [
    {
     "name": "stdout",
     "output_type": "stream",
     "text": [
      "['Jetta Variant', 'Passat', 'Crossfox', 'Passat', 'Crossfox', 'Jetta Variant', 'Dodge Journey'] \n",
      "Quantidade de carros: 7\n",
      "\n",
      "{'Dodge Journey', 'Jetta Variant', 'Crossfox', 'Passat'} \n",
      "Quantidade de carros: 4\n"
     ]
    }
   ],
   "source": [
    "print(lista_carros, (f'\\nQuantidade de carros: {len(lista_carros)}\\n'))\n",
    "print(nova_lista, (f'\\nQuantidade de carros: {len(nova_lista)}'))"
   ]
  },
  {
   "cell_type": "markdown",
   "metadata": {},
   "source": [
    "### É possivel também trabalhar com operações:\n",
    "<ul>\n",
    "    <li>Disjunção</li>\n",
    "    <li>União</li>\n",
    "    <li>interseção</li>\n",
    "</ul>   "
   ]
  },
  {
   "cell_type": "code",
   "execution_count": 1,
   "metadata": {},
   "outputs": [
    {
     "name": "stdout",
     "output_type": "stream",
     "text": [
      "{'Piloto Automático', 'Central Multimídia', 'Rodas de Liga', 'Travas Elétricas'}\n"
     ]
    }
   ],
   "source": [
    "acessorios_passat = {\n",
    "    'Rodas de Liga', 'Travas Elétricas',\n",
    "    'Piloto Automático', 'Central Multimídia'\n",
    "}\n",
    "\n",
    "print(acessorios_passat)"
   ]
  },
  {
   "cell_type": "code",
   "execution_count": 3,
   "metadata": {},
   "outputs": [
    {
     "name": "stdout",
     "output_type": "stream",
     "text": [
      "{'4 X 4', 'Piloto Automático', 'Teto Panorâmico', 'Central Multimídia'}\n"
     ]
    }
   ],
   "source": [
    "acessorios_crossfox = {\n",
    "    'Piloto Automático', 'Teto Panorâmico',\n",
    "    '4 X 4', 'Central Multimídia'\n",
    "}\n",
    "\n",
    "print(acessorios_crossfox)"
   ]
  },
  {
   "cell_type": "code",
   "execution_count": 4,
   "metadata": {},
   "outputs": [
    {
     "name": "stdout",
     "output_type": "stream",
     "text": [
      "{'Controle de Estabilidade', 'Rodas de Liga', 'Câmbio Automático', 'Travas Elétricas'}\n"
     ]
    }
   ],
   "source": [
    "acessorios_jetta = {\n",
    "    'Controle de Estabilidade', 'Câmbio Automático',\n",
    "    'Travas Elétricas', 'Rodas de Liga'\n",
    "}\n",
    "\n",
    "print(acessorios_jetta)"
   ]
  },
  {
   "cell_type": "markdown",
   "metadata": {},
   "source": [
    "### Testando Disjunção\n",
    "##### Dois conjuntos são disjuntos se eles não possuem nenhum elemento em comum"
   ]
  },
  {
   "cell_type": "markdown",
   "metadata": {},
   "source": [
    "#### Crossfox e Jetta não tem nenhum elemento em comum"
   ]
  },
  {
   "cell_type": "code",
   "execution_count": 10,
   "metadata": {},
   "outputs": [
    {
     "data": {
      "text/plain": [
       "True"
      ]
     },
     "execution_count": 10,
     "metadata": {},
     "output_type": "execute_result"
    }
   ],
   "source": [
    "# Função para testar se são disjuntos\n",
    "\n",
    "set.isdisjoint(acessorios_crossfox, acessorios_jetta)"
   ]
  },
  {
   "cell_type": "markdown",
   "metadata": {},
   "source": [
    "### Interseção (&)\n",
    "\n",
    "<p>Utilizando \"&\" entre duas variáveis, é possível visualizar quais são os elementos que existe em ambos os conjuntos</p>"
   ]
  },
  {
   "cell_type": "code",
   "execution_count": 13,
   "metadata": {},
   "outputs": [
    {
     "name": "stdout",
     "output_type": "stream",
     "text": [
      "{'Rodas de Liga', 'Travas Elétricas'}\n"
     ]
    }
   ],
   "source": [
    "print(acessorios_jetta & acessorios_passat)"
   ]
  },
  {
   "cell_type": "code",
   "execution_count": 14,
   "metadata": {},
   "outputs": [
    {
     "data": {
      "text/plain": [
       "{'Central Multimídia', 'Piloto Automático'}"
      ]
     },
     "execution_count": 14,
     "metadata": {},
     "output_type": "execute_result"
    }
   ],
   "source": [
    "# Outro jeito de chamar essa função\n",
    "\n",
    "set.intersection(acessorios_crossfox, acessorios_passat)"
   ]
  },
  {
   "cell_type": "code",
   "execution_count": 16,
   "metadata": {},
   "outputs": [
    {
     "data": {
      "text/plain": [
       "set()"
      ]
     },
     "execution_count": 16,
     "metadata": {},
     "output_type": "execute_result"
    }
   ],
   "source": [
    "# Quando não possui nenhum elemento em comum\n",
    "set.intersection(acessorios_crossfox, acessorios_jetta)"
   ]
  },
  {
   "cell_type": "markdown",
   "metadata": {},
   "source": [
    "### União (|)\n",
    "\n",
    "<p>\n",
    "    Utilizando \"|\" entre duas variáveis, ela retorna a união entre os dois conjuntos, nunca deixando nenhum elemento repetir\n",
    "</o>"
   ]
  },
  {
   "cell_type": "code",
   "execution_count": 21,
   "metadata": {},
   "outputs": [
    {
     "name": "stdout",
     "output_type": "stream",
     "text": [
      "{'Rodas de Liga', 'Central Multimídia', 'Câmbio Automático', 'Travas Elétricas', 'Controle de Estabilidade', 'Piloto Automático'}\n",
      "{'Rodas de Liga', 'Travas Elétricas'}\n"
     ]
    }
   ],
   "source": [
    "print(acessorios_jetta | acessorios_passat)\n",
    "print(acessorios_jetta & acessorios_passat)"
   ]
  },
  {
   "cell_type": "code",
   "execution_count": 23,
   "metadata": {},
   "outputs": [
    {
     "data": {
      "text/plain": [
       "{'4 X 4',\n",
       " 'Central Multimídia',\n",
       " 'Controle de Estabilidade',\n",
       " 'Câmbio Automático',\n",
       " 'Piloto Automático',\n",
       " 'Rodas de Liga',\n",
       " 'Teto Panorâmico',\n",
       " 'Teto Solar',\n",
       " 'Travas Elétricas'}"
      ]
     },
     "execution_count": 23,
     "metadata": {},
     "output_type": "execute_result"
    }
   ],
   "source": [
    "set.union(acessorios_crossfox, acessorios_passat, acessorios_jetta, {'Teto Solar'})"
   ]
  },
  {
   "cell_type": "markdown",
   "metadata": {},
   "source": [
    "##### Perfomance"
   ]
  },
  {
   "cell_type": "code",
   "execution_count": 24,
   "metadata": {},
   "outputs": [
    {
     "data": {
      "text/plain": [
       "True"
      ]
     },
     "execution_count": 24,
     "metadata": {},
     "output_type": "execute_result"
    }
   ],
   "source": [
    "carros = {\n",
    "    'Jetta Variant', 'Passat', 'Crossfox', 'Dodge Journey'\n",
    "}\n",
    "\n",
    "'Crossfox' in carros"
   ]
  },
  {
   "cell_type": "code",
   "execution_count": 32,
   "metadata": {},
   "outputs": [],
   "source": [
    "elementos_set = set(range(10**7))\n",
    "elementos_list = list(range(10**7))\n",
    "elementos_tuple = tuple(range(10**7))"
   ]
  },
  {
   "cell_type": "code",
   "execution_count": 33,
   "metadata": {},
   "outputs": [],
   "source": [
    "def verificar_elemento_in(elemento_iteravel):\n",
    "    \"\"\"\n",
    "    Verifica se cada número no intervalo especificado pertence ao iterável `elemento iteravel`\n",
    "    \"\"\"\n",
    "\n",
    "    for i in range(10000):\n",
    "        if i in elemento_iteravel:\n",
    "            pass"
   ]
  },
  {
   "cell_type": "code",
   "execution_count": 35,
   "metadata": {},
   "outputs": [
    {
     "name": "stdout",
     "output_type": "stream",
     "text": [
      "Tempo de execução do lista: \n",
      "CPU times: total: 281 ms\n",
      "Wall time: 283 ms\n",
      "==============================\n",
      "Tempo de execução do tuple: \n",
      "CPU times: total: 359 ms\n",
      "Wall time: 354 ms\n",
      "==============================\n",
      "Tempo de execução do set: \n",
      "CPU times: total: 0 ns\n",
      "Wall time: 1.01 ms\n",
      "==============================\n"
     ]
    }
   ],
   "source": [
    "print('Tempo de execução do lista: ')\n",
    "%time verificar_elemento_in(elementos_list)\n",
    "print('=' * 30)\n",
    "\n",
    "print('Tempo de execução do tuple: ')\n",
    "%time verificar_elemento_in(elementos_tuple)\n",
    "print('=' * 30)\n",
    "\n",
    "print('Tempo de execução do set: ')\n",
    "%time verificar_elemento_in(elementos_set)\n",
    "print('=' * 30)"
   ]
  }
 ],
 "metadata": {
  "kernelspec": {
   "display_name": "Python 3",
   "language": "python",
   "name": "python3"
  },
  "language_info": {
   "codemirror_mode": {
    "name": "ipython",
    "version": 3
   },
   "file_extension": ".py",
   "mimetype": "text/x-python",
   "name": "python",
   "nbconvert_exporter": "python",
   "pygments_lexer": "ipython3",
   "version": "3.12.8"
  }
 },
 "nbformat": 4,
 "nbformat_minor": 2
}
