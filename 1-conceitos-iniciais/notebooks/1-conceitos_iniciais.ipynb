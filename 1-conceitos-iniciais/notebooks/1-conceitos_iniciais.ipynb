{
 "cells": [
  {
   "cell_type": "code",
   "execution_count": 1,
   "metadata": {},
   "outputs": [
    {
     "name": "stdout",
     "output_type": "stream",
     "text": [
      "Henry\n"
     ]
    }
   ],
   "source": [
    "# Função print()\n",
    "\n",
    "print('Henry')"
   ]
  },
  {
   "cell_type": "code",
   "execution_count": 2,
   "metadata": {},
   "outputs": [],
   "source": [
    "# Criação de um dicionário para cada aluno\n",
    "aluno1 = {'Nome': 'Fabricio Daniel',\n",
    "          'Idade': 15,\n",
    "          'Média' : 8.45,\n",
    "          'Situação': 'Aprovado'}\n",
    "\n",
    "aluno2 = {'Nome': 'Henry',\n",
    "          'Idade' : 18,\n",
    "          'Média': 4.5,\n",
    "          'Situação': 'Reprovado'}\n",
    "\n",
    "aluno3 = {'Nome': 'AKEF',\n",
    "          'Idade': 24,\n",
    "          'Média': 7,\n",
    "          'Situação': 'Aprovado'}\n",
    "\n",
    "# Criação de uma lista com apenas os dois primeiros alunos\n",
    "alunos = [aluno1, aluno2]\n",
    "# Adição do terceiro aluno na lista\n",
    "alunos.append(aluno3)"
   ]
  },
  {
   "cell_type": "code",
   "execution_count": 3,
   "metadata": {},
   "outputs": [
    {
     "name": "stdout",
     "output_type": "stream",
     "text": [
      "Nome: Fabricio Daniel\n",
      "Idade: 15\n",
      "Média: 8.45\n",
      "Situação: Aprovado\n",
      "-------------------------\n",
      "Nome: Henry\n",
      "Idade: 18\n",
      "Média: 4.5\n",
      "Situação: Reprovado\n",
      "-------------------------\n",
      "Nome: AKEF\n",
      "Idade: 24\n",
      "Média: 7\n",
      "Situação: Aprovado\n",
      "-------------------------\n"
     ]
    }
   ],
   "source": [
    "# Para cada aluno na lista de alunos\n",
    "for aluno in alunos:\n",
    "    # Para cada chave e valor do aluno em questão\n",
    "    for chave, valor in aluno.items():\n",
    "        # Mostra a chave e o valor na tela\n",
    "        print(f'{chave}: {valor}')\n",
    "    # Uma linha após cada aluno mostrado\n",
    "    print('-' * 25)"
   ]
  },
  {
   "cell_type": "code",
   "execution_count": 4,
   "metadata": {},
   "outputs": [],
   "source": [
    "# Importação da bibilioteca\n",
    "\n",
    "import pandas as pd"
   ]
  },
  {
   "cell_type": "code",
   "execution_count": 5,
   "metadata": {},
   "outputs": [
    {
     "data": {
      "text/html": [
       "<div>\n",
       "<style scoped>\n",
       "    .dataframe tbody tr th:only-of-type {\n",
       "        vertical-align: middle;\n",
       "    }\n",
       "\n",
       "    .dataframe tbody tr th {\n",
       "        vertical-align: top;\n",
       "    }\n",
       "\n",
       "    .dataframe thead th {\n",
       "        text-align: right;\n",
       "    }\n",
       "</style>\n",
       "<table border=\"1\" class=\"dataframe\">\n",
       "  <thead>\n",
       "    <tr style=\"text-align: right;\">\n",
       "      <th></th>\n",
       "      <th>Cargo</th>\n",
       "      <th>Quantidade</th>\n",
       "      <th>Salário</th>\n",
       "    </tr>\n",
       "  </thead>\n",
       "  <tbody>\n",
       "    <tr>\n",
       "      <th>0</th>\n",
       "      <td>Segurança</td>\n",
       "      <td>5</td>\n",
       "      <td>3000</td>\n",
       "    </tr>\n",
       "    <tr>\n",
       "      <th>1</th>\n",
       "      <td>Docente</td>\n",
       "      <td>16</td>\n",
       "      <td>6000</td>\n",
       "    </tr>\n",
       "    <tr>\n",
       "      <th>2</th>\n",
       "      <td>Diretoria</td>\n",
       "      <td>1</td>\n",
       "      <td>12500</td>\n",
       "    </tr>\n",
       "  </tbody>\n",
       "</table>\n",
       "</div>"
      ],
      "text/plain": [
       "       Cargo  Quantidade  Salário\n",
       "0  Segurança           5     3000\n",
       "1    Docente          16     6000\n",
       "2  Diretoria           1    12500"
      ]
     },
     "execution_count": 5,
     "metadata": {},
     "output_type": "execute_result"
    }
   ],
   "source": [
    "# Criação de um dicionário (em formato que seja possível transformar em dataframe)\n",
    "dados = {'Cargo': ['Segurança', 'Docente', 'Diretoria'],\n",
    "         'Quantidade': [5, 16, 1],\n",
    "         'Salário': [3000, 6000, 12500]}\n",
    "\n",
    "# Transformação para dataframe usando o pandas\n",
    "df = pd.DataFrame(dados)\n",
    "\n",
    "df"
   ]
  },
  {
   "cell_type": "markdown",
   "metadata": {},
   "source": [
    "<center>\n",
    "    <p>Desafio 1: Quantidade total de trabalhadores</p>\n",
    "    <p>Desafio 2: Diferença entre o maior e menor salário</p>\n",
    "    <p>Desafio 3: Média ponderada dos salários</p>\n",
    "</center>"
   ]
  },
  {
   "cell_type": "code",
   "execution_count": 6,
   "metadata": {},
   "outputs": [],
   "source": [
    "quantidade_seguranca = 5\n",
    "salario_seguranca = 3000\n",
    "\n",
    "quantidade_docente = 16\n",
    "salario_docente = 6000\n",
    "\n",
    "quantidade_diretoria = 1\n",
    "salario_diretoria = 12500"
   ]
  },
  {
   "cell_type": "code",
   "execution_count": 7,
   "metadata": {},
   "outputs": [
    {
     "data": {
      "text/plain": [
       "22"
      ]
     },
     "execution_count": 7,
     "metadata": {},
     "output_type": "execute_result"
    }
   ],
   "source": [
    "quantidade_total = quantidade_seguranca + quantidade_docente + quantidade_diretoria\n",
    "\n",
    "quantidade_total"
   ]
  },
  {
   "cell_type": "code",
   "execution_count": 8,
   "metadata": {},
   "outputs": [
    {
     "data": {
      "text/plain": [
       "9500"
      ]
     },
     "execution_count": 8,
     "metadata": {},
     "output_type": "execute_result"
    }
   ],
   "source": [
    "diferenca_maior_e_menor_salario = salario_diretoria - salario_seguranca\n",
    "diferenca_maior_e_menor_salario"
   ]
  },
  {
   "cell_type": "code",
   "execution_count": 9,
   "metadata": {},
   "outputs": [
    {
     "name": "stdout",
     "output_type": "stream",
     "text": [
      "5613.64\n"
     ]
    }
   ],
   "source": [
    "media = (quantidade_seguranca * salario_seguranca + quantidade_docente * salario_docente + quantidade_diretoria * salario_diretoria) / (quantidade_diretoria + quantidade_docente + quantidade_seguranca)\n",
    "\n",
    "print(f'{media:.2f}')"
   ]
  },
  {
   "cell_type": "code",
   "execution_count": 10,
   "metadata": {},
   "outputs": [
    {
     "name": "stdout",
     "output_type": "stream",
     "text": [
      "Nome: Fabricio | Idade: 15 | Média: 7.5\n"
     ]
    }
   ],
   "source": [
    "nome = 'Fabricio'; idade = 15; media = 7.5\n",
    "\n",
    "print('Nome: %s | Idade: %s | Média: %.1f' %(nome, idade, media))"
   ]
  },
  {
   "cell_type": "code",
   "execution_count": 101,
   "metadata": {},
   "outputs": [
    {
     "name": "stdout",
     "output_type": "stream",
     "text": [
      "\n",
      "Minha professora uma vez disse: 'Estudar é a chave do sucesso.' \n"
     ]
    }
   ],
   "source": [
    "print('\\nMinha professora uma vez disse: \\'Estudar é a chave do sucesso.\\' ')"
   ]
  },
  {
   "cell_type": "markdown",
   "metadata": {},
   "source": [
    "<center>\n",
    "    <p>Condição para ver se o aluno foi aprovado</p>\n",
    "</center>"
   ]
  },
  {
   "cell_type": "code",
   "execution_count": 125,
   "metadata": {},
   "outputs": [
    {
     "name": "stdout",
     "output_type": "stream",
     "text": [
      "Aprovado!\n"
     ]
    }
   ],
   "source": [
    "media = float(input('Digite a média do aluno (0 a 10): '))\n",
    "\n",
    "# Se a media tiver entre 0 e 5\n",
    "if 0 <= media <= 5:\n",
    "    print('Reprovado!')\n",
    "# Se a media tiver entre 6 e 10\n",
    "elif 6 <= media <= 10:\n",
    "    print('Aprovado!')\n",
    "# Se não tiver entre 0 e 5 ou entre 6 e 10\n",
    "else:\n",
    "    print('Nota inválida.')"
   ]
  },
  {
   "cell_type": "markdown",
   "metadata": {},
   "source": [
    "<center>\n",
    "    <p>Outro jeito de fazer</p>\n",
    "</center>"
   ]
  },
  {
   "cell_type": "code",
   "execution_count": 5,
   "metadata": {},
   "outputs": [
    {
     "name": "stdout",
     "output_type": "stream",
     "text": [
      "Reprovado :(\n"
     ]
    }
   ],
   "source": [
    "media = float(input('Digite a média do aluno (0 a 10): '))\n",
    "\n",
    "if media >= 0 and media <= 5:\n",
    "    print('Reprovado :(')\n",
    "else:\n",
    "    if media >= 6 and media <= 10:\n",
    "        print('Aprovado!')\n",
    "    else:\n",
    "        print('Nota inválida.')"
   ]
  },
  {
   "cell_type": "markdown",
   "metadata": {},
   "source": [
    "<center>\n",
    "    <h3>Estruturas de repetição</h3>\n",
    "</center>"
   ]
  },
  {
   "cell_type": "markdown",
   "metadata": {},
   "source": [
    "<center>\n",
    "    <p>WHILE</p>\n",
    "</center>"
   ]
  },
  {
   "cell_type": "code",
   "execution_count": 10,
   "metadata": {},
   "outputs": [],
   "source": [
    "def LeiaFloat(string):\n",
    "    while True:\n",
    "        try:\n",
    "            valor = float(input(string))\n",
    "            return valor\n",
    "        except ValueError:\n",
    "            print(\"Valor inválido. Tente novamente.\")"
   ]
  },
  {
   "cell_type": "code",
   "execution_count": 12,
   "metadata": {},
   "outputs": [
    {
     "name": "stdout",
     "output_type": "stream",
     "text": [
      "Nota 1: 2.0 | Nota 2: 5.0 | Média: 3.5\n",
      "Nota 1: 10.0 | Nota 2: 0.0 | Média: 5.0\n",
      "Nota 1: 7.0 | Nota 2: 2.0 | Média: 4.5\n"
     ]
    }
   ],
   "source": [
    "contador = 1\n",
    "while contador <= 3:\n",
    "    nota1 = LeiaFloat('Digite a primeira nota: ')\n",
    "    nota2 = LeiaFloat('Digite a segunda nota: ')\n",
    "    contador += 1 \n",
    "    print(f'Nota 1: {nota1} | Nota 2: {nota2} | Média: {(nota1 + nota2) / 2}')\n"
   ]
  },
  {
   "cell_type": "markdown",
   "metadata": {},
   "source": [
    "<center>\n",
    "    <p>FOR LOOP</p>\n",
    "</center>"
   ]
  },
  {
   "cell_type": "code",
   "execution_count": 14,
   "metadata": {},
   "outputs": [
    {
     "name": "stdout",
     "output_type": "stream",
     "text": [
      "Nota 1: 2.0 | Nota 2: 3.0 | Média: 2.5\n",
      "Nota 1: 5.0 | Nota 2: 2.0 | Média: 3.5\n",
      "Nota 1: 9.0 | Nota 2: 1.0 | Média: 5.0\n"
     ]
    }
   ],
   "source": [
    "for contador in range(1, 3 + 1):\n",
    "    nota1 = LeiaFloat('Digite a primeira nota: ')\n",
    "    nota2 = LeiaFloat('Digite a segunda nota: ')\n",
    "    print(f'Nota 1: {nota1} | Nota 2: {nota2} | Média: {(nota1 + nota2) / 2}')"
   ]
  },
  {
   "cell_type": "code",
   "execution_count": null,
   "metadata": {},
   "outputs": [],
   "source": [
    "colonia_A = 4; colonia_B = 10\n",
    "contador_dias = 0\n",
    "\n",
    "while colonia_A <= colonia_B:\n",
    "    colonia_A += colonia_A * (3 / 100)\n",
    "    colonia_B += colonia_B * (1.5 / 100)\n",
    "\n",
    "    contador_dias += 1\n",
    "    print(f'Dia: {contador_dias:.0f} | Colônia-A: {colonia_A:.2f} | Colônia-B: {colonia_B:.2f}.')\n",
    "print()\n",
    "\n",
    "print(f'A Colônia-A demorou {contador_dias} dias para chegar na Colônia-B.')"
   ]
  }
 ],
 "metadata": {
  "kernelspec": {
   "display_name": "Python 3",
   "language": "python",
   "name": "python3"
  },
  "language_info": {
   "codemirror_mode": {
    "name": "ipython",
    "version": 3
   },
   "file_extension": ".py",
   "mimetype": "text/x-python",
   "name": "python",
   "nbconvert_exporter": "python",
   "pygments_lexer": "ipython3",
   "version": "3.12.8"
  }
 },
 "nbformat": 4,
 "nbformat_minor": 2
}
