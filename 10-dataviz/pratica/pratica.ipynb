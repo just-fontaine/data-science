{
 "cells": [
  {
   "cell_type": "markdown",
   "metadata": {
    "id": "qxah03ikONCD"
   },
   "source": [
    "# Sobre o notebook\n",
    "\n",
    "A \"hora da prática\" é uma atividade do curso de Data Visualization: gráficos de comparação e distribuição da Alura para a escrita e teste dos códigos dos diversos desafios envolvendo os aprendizados de cada aula.\n",
    "\n",
    "O notebook \"hora da prática\" é um notebook construído com espaço para as células dos desafios propostos no curso, com ele você tem espaço para construir e executar suas soluções\n"
   ]
  },
  {
   "cell_type": "markdown",
   "metadata": {
    "id": "Lmwx5MXzDfph"
   },
   "source": [
    "## Paleta de Cores"
   ]
  },
  {
   "cell_type": "markdown",
   "metadata": {
    "id": "sqHkQmHADkcM"
   },
   "source": [
    "Vamos compartilhar aqui a paleta de cores que usamos durante o curso pra você executar e usar em seu projeto, mas sinta-se livre para construir a sua propria."
   ]
  },
  {
   "cell_type": "code",
   "execution_count": 2,
   "metadata": {
    "executionInfo": {
     "elapsed": 11,
     "status": "ok",
     "timestamp": 1686681655853,
     "user": {
      "displayName": "Afonso Augusto Rios",
      "userId": "05972796828124452071"
     },
     "user_tz": 180
    },
    "id": "lhhxYooWD3Nt"
   },
   "outputs": [],
   "source": [
    "# Definindo a paleta de cores\n",
    "AZUL1, AZUL2, AZUL3, AZUL4, AZUL5 = '#03045e', '#0077b6', \"#00b4d8\", '#90e0ef', '#CDDBF3'\n",
    "CINZA1, CINZA2, CINZA3, CINZA4, CINZA5 = '#212529', '#495057', '#adb5bd', '#dee2e6', '#f8f9fa'\n",
    "VERMELHO1, LARANJA1, AMARELO1, VERDE1, VERDE2 = '#e76f51', '#f4a261',\t'#e9c46a', '#4c956c', '#2a9d8f'"
   ]
  },
  {
   "cell_type": "code",
   "execution_count": 3,
   "metadata": {},
   "outputs": [],
   "source": [
    "import matplotlib.pyplot as plt\n",
    "import pandas as pd\n",
    "import seaborn as sns\n",
    "import matplotlib.ticker as ticker\n",
    "from warnings import filterwarnings\n",
    "import plotly.express as px"
   ]
  },
  {
   "cell_type": "code",
   "execution_count": 4,
   "metadata": {},
   "outputs": [],
   "source": [
    "filterwarnings('ignore')"
   ]
  },
  {
   "cell_type": "markdown",
   "metadata": {
    "id": "IA3M1eso_L2Z"
   },
   "source": [
    "## Aula 01 - Comparando dados"
   ]
  },
  {
   "cell_type": "markdown",
   "metadata": {
    "id": "AmpR_VE4CImQ"
   },
   "source": [
    "### Desafio 1"
   ]
  },
  {
   "cell_type": "markdown",
   "metadata": {},
   "source": [
    "#### Quais são os lucros das vendas por ano? Em qual ano obtivemos o maior lucro?"
   ]
  },
  {
   "cell_type": "code",
   "execution_count": 5,
   "metadata": {
    "id": "9EvWTU6HO6qo"
   },
   "outputs": [],
   "source": [
    "vendas = pd.read_csv(\n",
    "    r\"https://raw.githubusercontent.com/alura-cursos/dataviz-graficos/master/dados/relatorio_vendas.csv\")"
   ]
  },
  {
   "cell_type": "code",
   "execution_count": 6,
   "metadata": {},
   "outputs": [
    {
     "data": {
      "text/html": [
       "<div>\n",
       "<style scoped>\n",
       "    .dataframe tbody tr th:only-of-type {\n",
       "        vertical-align: middle;\n",
       "    }\n",
       "\n",
       "    .dataframe tbody tr th {\n",
       "        vertical-align: top;\n",
       "    }\n",
       "\n",
       "    .dataframe thead th {\n",
       "        text-align: right;\n",
       "    }\n",
       "</style>\n",
       "<table border=\"1\" class=\"dataframe\">\n",
       "  <thead>\n",
       "    <tr style=\"text-align: right;\">\n",
       "      <th></th>\n",
       "      <th>data_pedido</th>\n",
       "      <th>data_envio</th>\n",
       "      <th>modo_envio</th>\n",
       "      <th>nome_cliente</th>\n",
       "      <th>segmento_cliente</th>\n",
       "      <th>cidade</th>\n",
       "      <th>estado</th>\n",
       "      <th>regiao</th>\n",
       "      <th>departamento</th>\n",
       "      <th>tipo_produto</th>\n",
       "      <th>preco_base</th>\n",
       "      <th>preco_unit_sem_desc</th>\n",
       "      <th>desconto</th>\n",
       "      <th>preco_unit_venda</th>\n",
       "      <th>quantidade</th>\n",
       "      <th>vendas</th>\n",
       "      <th>lucro</th>\n",
       "    </tr>\n",
       "  </thead>\n",
       "  <tbody>\n",
       "    <tr>\n",
       "      <th>0</th>\n",
       "      <td>2018-11-09</td>\n",
       "      <td>2018-11-12</td>\n",
       "      <td>Econômica</td>\n",
       "      <td>Thiago Silveira</td>\n",
       "      <td>B2C</td>\n",
       "      <td>Ribeirão Preto</td>\n",
       "      <td>São Paulo</td>\n",
       "      <td>Sudeste</td>\n",
       "      <td>Materiais de construção</td>\n",
       "      <td>encanamentos</td>\n",
       "      <td>409.7</td>\n",
       "      <td>445.33</td>\n",
       "      <td>0.0</td>\n",
       "      <td>445.33</td>\n",
       "      <td>2</td>\n",
       "      <td>890.66</td>\n",
       "      <td>71.26</td>\n",
       "    </tr>\n",
       "  </tbody>\n",
       "</table>\n",
       "</div>"
      ],
      "text/plain": [
       "  data_pedido  data_envio modo_envio     nome_cliente segmento_cliente  \\\n",
       "0  2018-11-09  2018-11-12  Econômica  Thiago Silveira              B2C   \n",
       "\n",
       "           cidade     estado   regiao             departamento  tipo_produto  \\\n",
       "0  Ribeirão Preto  São Paulo  Sudeste  Materiais de construção  encanamentos   \n",
       "\n",
       "   preco_base  preco_unit_sem_desc  desconto  preco_unit_venda  quantidade  \\\n",
       "0       409.7               445.33       0.0            445.33           2   \n",
       "\n",
       "   vendas  lucro  \n",
       "0  890.66  71.26  "
      ]
     },
     "execution_count": 6,
     "metadata": {},
     "output_type": "execute_result"
    }
   ],
   "source": [
    "vendas.head(1)"
   ]
  },
  {
   "cell_type": "code",
   "execution_count": 7,
   "metadata": {},
   "outputs": [],
   "source": [
    "vendas[['data_pedido', 'data_envio']] = vendas[['data_pedido', 'data_envio']].astype('datetime64[ns]')"
   ]
  },
  {
   "cell_type": "code",
   "execution_count": 8,
   "metadata": {},
   "outputs": [],
   "source": [
    "# vendas.info()"
   ]
  },
  {
   "cell_type": "code",
   "execution_count": 9,
   "metadata": {},
   "outputs": [],
   "source": [
    "# Variáveis de interesse: Ano, Lucro\n",
    "\n",
    "vendas_ano = vendas.copy(deep=True)\n",
    "vendas_ano['ano'] = vendas_ano['data_pedido'].dt.year\n",
    "vendas_final = vendas_ano.copy(deep=True)\n",
    "vendas_final = vendas_final[['lucro', 'ano']]"
   ]
  },
  {
   "cell_type": "code",
   "execution_count": 10,
   "metadata": {},
   "outputs": [],
   "source": [
    "vendas_final_agrupado = vendas_final.groupby(by='ano').agg('sum')\n",
    "vendas_final_agrupado = vendas_final_agrupado.reset_index()"
   ]
  },
  {
   "cell_type": "code",
   "execution_count": 11,
   "metadata": {
    "id": "NgKfiEqnO56P"
   },
   "outputs": [
    {
     "data": {
      "text/html": [
       "<div>\n",
       "<style scoped>\n",
       "    .dataframe tbody tr th:only-of-type {\n",
       "        vertical-align: middle;\n",
       "    }\n",
       "\n",
       "    .dataframe tbody tr th {\n",
       "        vertical-align: top;\n",
       "    }\n",
       "\n",
       "    .dataframe thead th {\n",
       "        text-align: right;\n",
       "    }\n",
       "</style>\n",
       "<table border=\"1\" class=\"dataframe\">\n",
       "  <thead>\n",
       "    <tr style=\"text-align: right;\">\n",
       "      <th></th>\n",
       "      <th>ano</th>\n",
       "      <th>lucro</th>\n",
       "    </tr>\n",
       "  </thead>\n",
       "  <tbody>\n",
       "    <tr>\n",
       "      <th>0</th>\n",
       "      <td>2016</td>\n",
       "      <td>75033.63</td>\n",
       "    </tr>\n",
       "    <tr>\n",
       "      <th>1</th>\n",
       "      <td>2017</td>\n",
       "      <td>101265.15</td>\n",
       "    </tr>\n",
       "    <tr>\n",
       "      <th>2</th>\n",
       "      <td>2018</td>\n",
       "      <td>129862.44</td>\n",
       "    </tr>\n",
       "    <tr>\n",
       "      <th>3</th>\n",
       "      <td>2019</td>\n",
       "      <td>148097.30</td>\n",
       "    </tr>\n",
       "  </tbody>\n",
       "</table>\n",
       "</div>"
      ],
      "text/plain": [
       "    ano      lucro\n",
       "0  2016   75033.63\n",
       "1  2017  101265.15\n",
       "2  2018  129862.44\n",
       "3  2019  148097.30"
      ]
     },
     "execution_count": 11,
     "metadata": {},
     "output_type": "execute_result"
    }
   ],
   "source": [
    "vendas_final_agrupado"
   ]
  },
  {
   "cell_type": "code",
   "execution_count": 12,
   "metadata": {},
   "outputs": [
    {
     "data": {
      "image/png": "[encoded data removed]",
      "text/plain": [
       "<Figure size 1000x500 with 1 Axes>"
      ]
     },
     "metadata": {},
     "output_type": "display_data"
    }
   ],
   "source": [
    "cores = [AZUL1, AZUL2, AZUL3, AZUL4]\n",
    "\n",
    "fig, ax = plt.subplots(figsize=(10, 5))\n",
    "\n",
    "vendas_final_agrupado.plot(\n",
    "    kind='bar', x='ano', y='lucro', ax=ax, legend=False, color=cores\n",
    ")\n",
    "\n",
    "ax.set_title('Lucro (2016-2019)', fontsize=16, y=1.05)\n",
    "ax.tick_params(axis='x', rotation=0, labelsize=11)\n",
    "ax.set_yticks([])\n",
    "ax.set_yticklabels([])\n",
    "ax.set_frame_on(False)\n",
    "\n",
    "for pos, valor in enumerate(vendas_final_agrupado['lucro']):\n",
    "    qtd = f'R$ {valor:,.0f}'.replace(',', '.')\n",
    "    offset = 5e3\n",
    "    ax.text(pos, valor + offset, qtd, ha='center', va='center')\n",
    "\n",
    "\n",
    "plt.xlabel('Ano', fontsize=14)\n",
    "plt.show()"
   ]
  },
  {
   "cell_type": "markdown",
   "metadata": {
    "id": "4pJxly3lCImU"
   },
   "source": [
    "### Desafio 2"
   ]
  },
  {
   "cell_type": "markdown",
   "metadata": {},
   "source": [
    "#### Qual foi o faturamento (vendas) dos top 10 produtos durante o período de 2016 a 2019 do nosso conjunto de dados? Adicione um pequeno texto falando dos 3 produtos que mais venderam."
   ]
  },
  {
   "cell_type": "code",
   "execution_count": 13,
   "metadata": {
    "id": "rjCC4LwGO8F4"
   },
   "outputs": [],
   "source": [
    "# Variáveis de interesse: vendas, tipo do produto\n",
    "\n",
    "faturamento = vendas.copy(deep=True)\n",
    "faturamento['ano'] = faturamento['data_pedido'].dt.year\n",
    "faturamento = faturamento[['vendas', 'tipo_produto']]"
   ]
  },
  {
   "cell_type": "code",
   "execution_count": 14,
   "metadata": {},
   "outputs": [],
   "source": [
    "faturamento_agrupado = faturamento.groupby(by='tipo_produto').agg('sum')\n",
    "\n",
    "faturamento_top_10 = faturamento_agrupado.sort_values(by='vendas',\n",
    "                                                      ascending=False).head(10)"
   ]
  },
  {
   "cell_type": "code",
   "execution_count": 15,
   "metadata": {},
   "outputs": [
    {
     "data": {
      "text/html": [
       "<div>\n",
       "<style scoped>\n",
       "    .dataframe tbody tr th:only-of-type {\n",
       "        vertical-align: middle;\n",
       "    }\n",
       "\n",
       "    .dataframe tbody tr th {\n",
       "        vertical-align: top;\n",
       "    }\n",
       "\n",
       "    .dataframe thead th {\n",
       "        text-align: right;\n",
       "    }\n",
       "</style>\n",
       "<table border=\"1\" class=\"dataframe\">\n",
       "  <thead>\n",
       "    <tr style=\"text-align: right;\">\n",
       "      <th></th>\n",
       "      <th>tipo_produto</th>\n",
       "      <th>vendas</th>\n",
       "    </tr>\n",
       "  </thead>\n",
       "  <tbody>\n",
       "    <tr>\n",
       "      <th>0</th>\n",
       "      <td>pneus</td>\n",
       "      <td>1022428.97</td>\n",
       "    </tr>\n",
       "    <tr>\n",
       "      <th>1</th>\n",
       "      <td>ferramentas</td>\n",
       "      <td>995158.41</td>\n",
       "    </tr>\n",
       "    <tr>\n",
       "      <th>2</th>\n",
       "      <td>vasos</td>\n",
       "      <td>696044.18</td>\n",
       "    </tr>\n",
       "    <tr>\n",
       "      <th>3</th>\n",
       "      <td>ferramentas de jardinagem</td>\n",
       "      <td>648879.72</td>\n",
       "    </tr>\n",
       "    <tr>\n",
       "      <th>4</th>\n",
       "      <td>materiais de revestimento</td>\n",
       "      <td>629656.36</td>\n",
       "    </tr>\n",
       "    <tr>\n",
       "      <th>5</th>\n",
       "      <td>equipamentos de limpeza</td>\n",
       "      <td>542304.58</td>\n",
       "    </tr>\n",
       "    <tr>\n",
       "      <th>6</th>\n",
       "      <td>ferramentas automotivas</td>\n",
       "      <td>502109.29</td>\n",
       "    </tr>\n",
       "    <tr>\n",
       "      <th>7</th>\n",
       "      <td>peças de reposição</td>\n",
       "      <td>486907.94</td>\n",
       "    </tr>\n",
       "    <tr>\n",
       "      <th>8</th>\n",
       "      <td>encanamentos</td>\n",
       "      <td>373223.88</td>\n",
       "    </tr>\n",
       "    <tr>\n",
       "      <th>9</th>\n",
       "      <td>mobiliário de exterior</td>\n",
       "      <td>328932.27</td>\n",
       "    </tr>\n",
       "  </tbody>\n",
       "</table>\n",
       "</div>"
      ],
      "text/plain": [
       "                tipo_produto      vendas\n",
       "0                      pneus  1022428.97\n",
       "1                ferramentas   995158.41\n",
       "2                      vasos   696044.18\n",
       "3  ferramentas de jardinagem   648879.72\n",
       "4  materiais de revestimento   629656.36\n",
       "5    equipamentos de limpeza   542304.58\n",
       "6    ferramentas automotivas   502109.29\n",
       "7         peças de reposição   486907.94\n",
       "8               encanamentos   373223.88\n",
       "9     mobiliário de exterior   328932.27"
      ]
     },
     "execution_count": 15,
     "metadata": {},
     "output_type": "execute_result"
    }
   ],
   "source": [
    "faturamento_top_10.reset_index()"
   ]
  },
  {
   "cell_type": "code",
   "execution_count": 16,
   "metadata": {},
   "outputs": [
    {
     "data": {
      "image/png": "[encoded data removed]",
      "text/plain": [
       "<Figure size 700x600 with 1 Axes>"
      ]
     },
     "metadata": {},
     "output_type": "display_data"
    }
   ],
   "source": [
    "fig, ax = plt.subplots(figsize=(7, 6))\n",
    "\n",
    "faturamento_top_10.plot(kind='barh', ax=ax, legend=False)\n",
    "\n",
    "sns.set_theme(style='darkgrid')\n",
    "\n",
    "ax.set_frame_on(False)\n",
    "\n",
    "plt.ylabel('')\n",
    "plt.xticks([])\n",
    "\n",
    "for i, valor in enumerate(faturamento_top_10['vendas']):\n",
    "        qtd = f'R$ {valor:,.0f}'.replace(',', '.')\n",
    "        offset = 1.5e4 # offset de 1000\n",
    "        ax.text(x=valor - offset, y=i, s=qtd, color='white', fontsize=10,\n",
    "                fontweight='bold', ha='right', va='center')\n",
    "\n",
    "plt.title('10 produtos com maior faturamento no catálogo (2016-2019)', loc='left',\n",
    "          fontsize=16, x=-0.25, pad=20)\n",
    "\n",
    "plt.show()"
   ]
  },
  {
   "cell_type": "markdown",
   "metadata": {
    "id": "ix1N_JAH_T1C"
   },
   "source": [
    "## Aula 02 - Agrupando dados"
   ]
  },
  {
   "cell_type": "markdown",
   "metadata": {
    "id": "1sZUt4Nk_scq"
   },
   "source": [
    "### Desafio 1"
   ]
  },
  {
   "cell_type": "markdown",
   "metadata": {},
   "source": [
    "#### Como estão divididas as vendas das lojas de departamentos na Região Centro-Oeste nos anos de 2017 e 2018? O mesmo estado permaneceu como o que mais vendeu nesta região?"
   ]
  },
  {
   "cell_type": "code",
   "execution_count": 17,
   "metadata": {
    "id": "EQ2k1j6f_scv"
   },
   "outputs": [],
   "source": [
    "# Variáveis de interesse: vendas, departamento, região['Centro-Oeste'], ano[['2017', '2018']]\n",
    "\n",
    "# Criando uma cópia profunda dos dados originais\n",
    "\n",
    "vendas_centro_oeste = vendas.copy(deep=True)\n",
    "\n",
    "# Separando apenas a região centro-oeste\n",
    "\n",
    "vendas_centro_oeste = vendas_centro_oeste.query(\n",
    "    \"regiao == 'Centro-Oeste'\"\n",
    ")\n",
    "\n",
    "# Pegando as variáveis de interesse\n",
    "\n",
    "vendas_centro_oeste = vendas_centro_oeste[['data_pedido',\n",
    "                                           'departamento',\n",
    "                                           'vendas']]\n",
    "\n",
    "# Criando a coluna de ano\n",
    "\n",
    "vendas_centro_oeste['ano'] = vendas_centro_oeste['data_pedido'].dt.year\n",
    "\n",
    "# Removendo a coluna de data completa\n",
    "\n",
    "vendas_centro_oeste = vendas_centro_oeste.drop(columns='data_pedido')\n",
    "\n",
    "# Seleção apenas dos anos necessários\n",
    "\n",
    "centro_oeste_final = vendas_centro_oeste[\n",
    "    (vendas_centro_oeste['ano'] == 2017) | (vendas_centro_oeste['ano'] == 2018)\n",
    "]\n",
    "\n",
    "# Agrupamento por ano e departamento\n",
    "\n",
    "centro_oeste_final = centro_oeste_final.groupby(by=['ano', 'departamento']).agg('sum')"
   ]
  },
  {
   "cell_type": "code",
   "execution_count": 18,
   "metadata": {},
   "outputs": [],
   "source": [
    "centro_oeste_pivot = centro_oeste_final.reset_index().pivot(index='ano',\n",
    "                                              columns='departamento',\n",
    "                                              values='vendas')"
   ]
  },
  {
   "cell_type": "code",
   "execution_count": 19,
   "metadata": {},
   "outputs": [
    {
     "data": {
      "text/html": [
       "<div>\n",
       "<style scoped>\n",
       "    .dataframe tbody tr th:only-of-type {\n",
       "        vertical-align: middle;\n",
       "    }\n",
       "\n",
       "    .dataframe tbody tr th {\n",
       "        vertical-align: top;\n",
       "    }\n",
       "\n",
       "    .dataframe thead th {\n",
       "        text-align: right;\n",
       "    }\n",
       "</style>\n",
       "<table border=\"1\" class=\"dataframe\">\n",
       "  <thead>\n",
       "    <tr style=\"text-align: right;\">\n",
       "      <th>departamento</th>\n",
       "      <th>Automotivo</th>\n",
       "      <th>Jardinagem e paisagismo</th>\n",
       "      <th>Materiais de construção</th>\n",
       "    </tr>\n",
       "    <tr>\n",
       "      <th>ano</th>\n",
       "      <th></th>\n",
       "      <th></th>\n",
       "      <th></th>\n",
       "    </tr>\n",
       "  </thead>\n",
       "  <tbody>\n",
       "    <tr>\n",
       "      <th>2017</th>\n",
       "      <td>51100.96</td>\n",
       "      <td>39201.96</td>\n",
       "      <td>58912.08</td>\n",
       "    </tr>\n",
       "    <tr>\n",
       "      <th>2018</th>\n",
       "      <td>86540.18</td>\n",
       "      <td>52617.42</td>\n",
       "      <td>68911.11</td>\n",
       "    </tr>\n",
       "  </tbody>\n",
       "</table>\n",
       "</div>"
      ],
      "text/plain": [
       "departamento  Automotivo  Jardinagem e paisagismo  Materiais de construção\n",
       "ano                                                                       \n",
       "2017            51100.96                 39201.96                 58912.08\n",
       "2018            86540.18                 52617.42                 68911.11"
      ]
     },
     "execution_count": 19,
     "metadata": {},
     "output_type": "execute_result"
    }
   ],
   "source": [
    "centro_oeste_pivot"
   ]
  },
  {
   "cell_type": "code",
   "execution_count": 20,
   "metadata": {},
   "outputs": [
    {
     "data": {
      "image/png": "[encoded data removed]",
      "text/plain": [
       "<Figure size 900x600 with 1 Axes>"
      ]
     },
     "metadata": {},
     "output_type": "display_data"
    }
   ],
   "source": [
    "fig, ax = plt.subplots(figsize=(9, 6))\n",
    "\n",
    "\n",
    "centro_oeste_pivot.plot(kind='bar', stacked=True, ax=ax, color=cores)\n",
    "ax.tick_params(axis='x', rotation=0, labelsize=12)\n",
    "\n",
    "ax.legend(title='Departamento')\n",
    "ax.set_xlabel('')\n",
    "ax.set_ylabel('')\n",
    "ax.set_yticklabels([])\n",
    "ax.xaxis.set_tick_params(labelsize=14, labelcolor=CINZA2, rotation=0)\n",
    "ax.set_frame_on(False)\n",
    "\n",
    "plt.xlabel('Ano', fontsize=15)\n",
    "\n",
    "for container in ax.containers:\n",
    "        labels = [\n",
    "            f'R$ {valor.get_height()/1000:,.0f}k'.replace(',', '.') for valor in container\n",
    "        ]\n",
    "        ax.bar_label(container, label_type='center', labels=labels,\n",
    "                     color='#fff', fontweight='bold')\n",
    "\n",
    "plt.title('Divisão de vendas por departamento na Região Centro-Oeste\\n(2017-2018)')\n",
    "\n",
    "plt.show()"
   ]
  },
  {
   "cell_type": "markdown",
   "metadata": {
    "id": "YC6ZOI6d_scw"
   },
   "source": [
    "### Desafio 2"
   ]
  },
  {
   "cell_type": "markdown",
   "metadata": {},
   "source": [
    "#### Analisando cada departamento, como estão divididos os modos de envio em cada um deles percentualmente?"
   ]
  },
  {
   "cell_type": "code",
   "execution_count": 21,
   "metadata": {
    "id": "kUI6BcwO_scw"
   },
   "outputs": [],
   "source": [
    "# Variáveis de interesse: modo de envio, departamento\n",
    "\n",
    "modo_envio = vendas.copy(deep=True)\n",
    "modo_envio = modo_envio[['departamento', 'modo_envio']]\n",
    "\n",
    "df_envio_normalizado = pd.crosstab(index=modo_envio['departamento'],\n",
    "                           columns=modo_envio['modo_envio'],\n",
    "                           normalize='index')"
   ]
  },
  {
   "cell_type": "code",
   "execution_count": 22,
   "metadata": {},
   "outputs": [
    {
     "data": {
      "text/html": [
       "<div>\n",
       "<style scoped>\n",
       "    .dataframe tbody tr th:only-of-type {\n",
       "        vertical-align: middle;\n",
       "    }\n",
       "\n",
       "    .dataframe tbody tr th {\n",
       "        vertical-align: top;\n",
       "    }\n",
       "\n",
       "    .dataframe thead th {\n",
       "        text-align: right;\n",
       "    }\n",
       "</style>\n",
       "<table border=\"1\" class=\"dataframe\">\n",
       "  <thead>\n",
       "    <tr style=\"text-align: right;\">\n",
       "      <th>modo_envio</th>\n",
       "      <th>24 horas</th>\n",
       "      <th>Econômica</th>\n",
       "      <th>Entrega padrão</th>\n",
       "      <th>Envio rápido</th>\n",
       "    </tr>\n",
       "    <tr>\n",
       "      <th>departamento</th>\n",
       "      <th></th>\n",
       "      <th></th>\n",
       "      <th></th>\n",
       "      <th></th>\n",
       "    </tr>\n",
       "  </thead>\n",
       "  <tbody>\n",
       "    <tr>\n",
       "      <th>Automotivo</th>\n",
       "      <td>0.051766</td>\n",
       "      <td>0.195493</td>\n",
       "      <td>0.593179</td>\n",
       "      <td>0.159562</td>\n",
       "    </tr>\n",
       "    <tr>\n",
       "      <th>Jardinagem e paisagismo</th>\n",
       "      <td>0.055504</td>\n",
       "      <td>0.190854</td>\n",
       "      <td>0.605569</td>\n",
       "      <td>0.148073</td>\n",
       "    </tr>\n",
       "    <tr>\n",
       "      <th>Materiais de construção</th>\n",
       "      <td>0.058133</td>\n",
       "      <td>0.202133</td>\n",
       "      <td>0.588267</td>\n",
       "      <td>0.151467</td>\n",
       "    </tr>\n",
       "  </tbody>\n",
       "</table>\n",
       "</div>"
      ],
      "text/plain": [
       "modo_envio               24 horas  Econômica  Entrega padrão  Envio rápido\n",
       "departamento                                                              \n",
       "Automotivo               0.051766   0.195493        0.593179      0.159562\n",
       "Jardinagem e paisagismo  0.055504   0.190854        0.605569      0.148073\n",
       "Materiais de construção  0.058133   0.202133        0.588267      0.151467"
      ]
     },
     "execution_count": 22,
     "metadata": {},
     "output_type": "execute_result"
    }
   ],
   "source": [
    "df_envio_normalizado"
   ]
  },
  {
   "cell_type": "code",
   "execution_count": 23,
   "metadata": {},
   "outputs": [
    {
     "data": {
      "image/png": "[encoded data removed]",
      "text/plain": [
       "<Figure size 1400x800 with 1 Axes>"
      ]
     },
     "metadata": {},
     "output_type": "display_data"
    }
   ],
   "source": [
    "import matplotlib.pyplot as plt\n",
    "\n",
    "fig, ax = plt.subplots(figsize=(14, 8))\n",
    "\n",
    "df_envio_normalizado.plot(kind='barh', stacked=True, color=cores, ax=ax)\n",
    "\n",
    "ax.set_xlabel('\\n100%', color='black', fontsize=18, loc='center', fontweight='bold')\n",
    "ax.set_ylabel('', fontsize=18)\n",
    "ax.tick_params(axis='both', which='both', length=0)\n",
    "ax.legend(loc='center left',\n",
    "          bbox_to_anchor=(1, 0.5),\n",
    "          title='Modo de Envio',\n",
    "          fontsize=14, title_fontsize=16) \n",
    "\n",
    "plt.title('\\nPorcentagem dos modos de envio por departamento\\n', fontsize=20)\n",
    "plt.yticks(fontsize=15)\n",
    "plt.xticks([])\n",
    "\n",
    "for container in ax.containers:\n",
    "    labels = [f'{valor.get_width()*100:.1f}%' for valor in container]\n",
    "    ax.bar_label(container, label_type='center', labels=labels, fontsize=15, color='white', fontweight='bold')\n",
    "\n",
    "plt.show()"
   ]
  },
  {
   "cell_type": "markdown",
   "metadata": {
    "id": "1uTAdILB_T6m"
   },
   "source": [
    "## Aula 03 - Séries de tempo"
   ]
  },
  {
   "cell_type": "markdown",
   "metadata": {
    "id": "SsQ3DvzR_t-L"
   },
   "source": [
    "### Desafio 1"
   ]
  },
  {
   "cell_type": "markdown",
   "metadata": {},
   "source": [
    "#### Como estão as vendas por semestre no estado em que você mora ou que deseja conhecer? Destaque os valores máximos e mínimos de venda para apresentá-los ao seu público."
   ]
  },
  {
   "cell_type": "code",
   "execution_count": 24,
   "metadata": {
    "id": "bIoMVk5r_t-Q"
   },
   "outputs": [],
   "source": [
    "# Variáveis de interesse: Estado, Vendas, Tempo.\n",
    "\n",
    "df_sp = vendas.copy(deep=True)\n",
    "df_sp = df_sp[['data_pedido', 'vendas', 'estado']]\n",
    "df_sp = df_sp.query(\"estado == 'São Paulo'\")[['data_pedido', 'vendas']]\n",
    "df_sp['data_pedido'] = pd.to_datetime(vendas['data_pedido'], format=r'%Y-%m-%d')\n",
    "df_sp = df_sp.set_index('data_pedido')\n",
    "df_sp = df_sp.resample('6MS').agg('sum')"
   ]
  },
  {
   "cell_type": "code",
   "execution_count": 25,
   "metadata": {
    "id": "wcdivkfa_t-Q"
   },
   "outputs": [
    {
     "data": {
      "text/html": [
       "<div>\n",
       "<style scoped>\n",
       "    .dataframe tbody tr th:only-of-type {\n",
       "        vertical-align: middle;\n",
       "    }\n",
       "\n",
       "    .dataframe tbody tr th {\n",
       "        vertical-align: top;\n",
       "    }\n",
       "\n",
       "    .dataframe thead th {\n",
       "        text-align: right;\n",
       "    }\n",
       "</style>\n",
       "<table border=\"1\" class=\"dataframe\">\n",
       "  <thead>\n",
       "    <tr style=\"text-align: right;\">\n",
       "      <th></th>\n",
       "      <th>vendas</th>\n",
       "    </tr>\n",
       "    <tr>\n",
       "      <th>data_pedido</th>\n",
       "      <th></th>\n",
       "    </tr>\n",
       "  </thead>\n",
       "  <tbody>\n",
       "    <tr>\n",
       "      <th>2016-01-01</th>\n",
       "      <td>85659.21</td>\n",
       "    </tr>\n",
       "    <tr>\n",
       "      <th>2016-07-01</th>\n",
       "      <td>299731.77</td>\n",
       "    </tr>\n",
       "    <tr>\n",
       "      <th>2017-01-01</th>\n",
       "      <td>112995.00</td>\n",
       "    </tr>\n",
       "    <tr>\n",
       "      <th>2017-07-01</th>\n",
       "      <td>327701.31</td>\n",
       "    </tr>\n",
       "    <tr>\n",
       "      <th>2018-01-01</th>\n",
       "      <td>153899.35</td>\n",
       "    </tr>\n",
       "    <tr>\n",
       "      <th>2018-07-01</th>\n",
       "      <td>397168.69</td>\n",
       "    </tr>\n",
       "    <tr>\n",
       "      <th>2019-01-01</th>\n",
       "      <td>150177.61</td>\n",
       "    </tr>\n",
       "    <tr>\n",
       "      <th>2019-07-01</th>\n",
       "      <td>483585.08</td>\n",
       "    </tr>\n",
       "  </tbody>\n",
       "</table>\n",
       "</div>"
      ],
      "text/plain": [
       "                vendas\n",
       "data_pedido           \n",
       "2016-01-01    85659.21\n",
       "2016-07-01   299731.77\n",
       "2017-01-01   112995.00\n",
       "2017-07-01   327701.31\n",
       "2018-01-01   153899.35\n",
       "2018-07-01   397168.69\n",
       "2019-01-01   150177.61\n",
       "2019-07-01   483585.08"
      ]
     },
     "execution_count": 25,
     "metadata": {},
     "output_type": "execute_result"
    }
   ],
   "source": [
    "df_sp"
   ]
  },
  {
   "cell_type": "code",
   "execution_count": 26,
   "metadata": {
    "id": "0lEwT00p_t-Q"
   },
   "outputs": [
    {
     "data": {
      "image/png": "[encoded data removed]",
      "text/plain": [
       "<Figure size 1100x600 with 1 Axes>"
      ]
     },
     "metadata": {},
     "output_type": "display_data"
    }
   ],
   "source": [
    "fig, ax = plt.subplots(figsize=(11, 6))\n",
    "\n",
    "ax.plot(df_sp.index,\n",
    "        df_sp['vendas'],\n",
    "        color=AZUL1,\n",
    "        marker='o',\n",
    "        markersize=6)\n",
    "\n",
    "ax.set_title('Vendas por semestre no estado de São Paulo\\n(2016-2019)',\n",
    "             fontsize=15)\n",
    "\n",
    "texto = [15 * ' ' + str(i) + 22 * ' ' for i in range(2016, 2020)]\n",
    "ax.text(ax.get_xbound()[0] + 35, -7e4, f'{texto[0]}|{texto[1]}|{texto[2]}|{texto[3]}')\n",
    "\n",
    "ax.set_xlabel('')\n",
    "ax.set_ylabel('')\n",
    "ax.set_xticklabels(['Jan', 'Jul',\n",
    "                    'Jan', 'Jul',\n",
    "                    'Jan', 'Jul',\n",
    "                    'Jan', 'Jul',])\n",
    "\n",
    "ax.set_yticklabels(['0', '100 mil',\n",
    "                    '200 mil', '300 mil',\n",
    "                    '400 mil', '500 mil'])\n",
    "\n",
    "\n",
    "plt.ylim(0, 5.5e5)\n",
    "\n",
    "\n",
    "plt.show()"
   ]
  },
  {
   "cell_type": "markdown",
   "metadata": {
    "id": "Yp_qiA4v_t-R"
   },
   "source": [
    "### Desafio 2"
   ]
  },
  {
   "cell_type": "markdown",
   "metadata": {},
   "source": [
    "#### Compare os lucros anuais dos estados da região Nordeste por meio de um gráfico de linhas."
   ]
  },
  {
   "cell_type": "code",
   "execution_count": 27,
   "metadata": {
    "id": "iH1gyn0h_t-R"
   },
   "outputs": [
    {
     "data": {
      "text/html": [
       "<div>\n",
       "<style scoped>\n",
       "    .dataframe tbody tr th:only-of-type {\n",
       "        vertical-align: middle;\n",
       "    }\n",
       "\n",
       "    .dataframe tbody tr th {\n",
       "        vertical-align: top;\n",
       "    }\n",
       "\n",
       "    .dataframe thead th {\n",
       "        text-align: right;\n",
       "    }\n",
       "</style>\n",
       "<table border=\"1\" class=\"dataframe\">\n",
       "  <thead>\n",
       "    <tr style=\"text-align: right;\">\n",
       "      <th>estado</th>\n",
       "      <th>Ceará</th>\n",
       "      <th>Bahia</th>\n",
       "      <th>Pernambuco</th>\n",
       "      <th>Maranhão</th>\n",
       "      <th>Alagoas</th>\n",
       "      <th>Piauí</th>\n",
       "      <th>Rio Grande do Norte</th>\n",
       "      <th>Sergipe</th>\n",
       "      <th>Paraíba</th>\n",
       "    </tr>\n",
       "    <tr>\n",
       "      <th>data_pedido</th>\n",
       "      <th></th>\n",
       "      <th></th>\n",
       "      <th></th>\n",
       "      <th></th>\n",
       "      <th></th>\n",
       "      <th></th>\n",
       "      <th></th>\n",
       "      <th></th>\n",
       "      <th></th>\n",
       "    </tr>\n",
       "  </thead>\n",
       "  <tbody>\n",
       "    <tr>\n",
       "      <th>2016-12-31</th>\n",
       "      <td>10.25</td>\n",
       "      <td>9.98</td>\n",
       "      <td>11.73</td>\n",
       "      <td>1.88</td>\n",
       "      <td>1.20</td>\n",
       "      <td>0.02</td>\n",
       "      <td>0.27</td>\n",
       "      <td>0.89</td>\n",
       "      <td>-0.27</td>\n",
       "    </tr>\n",
       "    <tr>\n",
       "      <th>2017-12-31</th>\n",
       "      <td>9.88</td>\n",
       "      <td>6.89</td>\n",
       "      <td>4.24</td>\n",
       "      <td>1.60</td>\n",
       "      <td>3.77</td>\n",
       "      <td>1.43</td>\n",
       "      <td>0.65</td>\n",
       "      <td>0.98</td>\n",
       "      <td>-2.20</td>\n",
       "    </tr>\n",
       "    <tr>\n",
       "      <th>2018-12-31</th>\n",
       "      <td>6.40</td>\n",
       "      <td>8.59</td>\n",
       "      <td>9.18</td>\n",
       "      <td>2.69</td>\n",
       "      <td>3.13</td>\n",
       "      <td>5.43</td>\n",
       "      <td>1.44</td>\n",
       "      <td>0.55</td>\n",
       "      <td>0.15</td>\n",
       "    </tr>\n",
       "    <tr>\n",
       "      <th>2019-12-31</th>\n",
       "      <td>30.26</td>\n",
       "      <td>14.09</td>\n",
       "      <td>6.98</td>\n",
       "      <td>5.07</td>\n",
       "      <td>1.45</td>\n",
       "      <td>1.34</td>\n",
       "      <td>2.09</td>\n",
       "      <td>1.95</td>\n",
       "      <td>1.60</td>\n",
       "    </tr>\n",
       "  </tbody>\n",
       "</table>\n",
       "</div>"
      ],
      "text/plain": [
       "estado       Ceará  Bahia  Pernambuco  Maranhão  Alagoas  Piauí  \\\n",
       "data_pedido                                                       \n",
       "2016-12-31   10.25   9.98       11.73      1.88     1.20   0.02   \n",
       "2017-12-31    9.88   6.89        4.24      1.60     3.77   1.43   \n",
       "2018-12-31    6.40   8.59        9.18      2.69     3.13   5.43   \n",
       "2019-12-31   30.26  14.09        6.98      5.07     1.45   1.34   \n",
       "\n",
       "estado       Rio Grande do Norte  Sergipe  Paraíba  \n",
       "data_pedido                                         \n",
       "2016-12-31                  0.27     0.89    -0.27  \n",
       "2017-12-31                  0.65     0.98    -2.20  \n",
       "2018-12-31                  1.44     0.55     0.15  \n",
       "2019-12-31                  2.09     1.95     1.60  "
      ]
     },
     "execution_count": 27,
     "metadata": {},
     "output_type": "execute_result"
    }
   ],
   "source": [
    "# Variáveis de interesse: Lucro, Estados, Região, Tempo\n",
    "\n",
    "lucro_nordeste = vendas.copy(deep=True)\n",
    "lucro_nordeste = lucro_nordeste[['lucro', 'data_pedido',\n",
    "                                 'estado', 'regiao']]\n",
    "lucro_nordeste = lucro_nordeste.query(\"regiao == 'Nordeste'\")\n",
    "lucro_nordeste = lucro_nordeste.drop(columns='regiao')\n",
    "lucro_nordeste = pd.crosstab(index=lucro_nordeste['data_pedido'],\n",
    "                             columns=lucro_nordeste['estado'],\n",
    "                             values=lucro_nordeste['lucro'],\n",
    "                             aggfunc='sum')\n",
    "lucro_nordeste = lucro_nordeste[['Ceará', 'Bahia', 'Pernambuco',\n",
    "                                 'Maranhão', 'Alagoas', 'Piauí',\n",
    "                                 'Rio Grande do Norte', 'Sergipe',\n",
    "                                 'Paraíba']]\n",
    "lucro_nordeste = lucro_nordeste.resample('Y').agg('sum')\n",
    "lucro_nordeste = round(lucro_nordeste / 1e3, 2)\n",
    "lucro_nordeste"
   ]
  },
  {
   "cell_type": "code",
   "execution_count": 28,
   "metadata": {},
   "outputs": [
    {
     "data": {
      "application/vnd.plotly.v1+json": {
       "config": {
        "plotlyServerURL": "https://plot.ly"
       },
       "data": [
        {
         "hovertemplate": "<b>Período:</b> %{x} <br> <b>Lucro:</b> %{y}",
         "legendgroup": "Ceará",
         "line": {
          "color": "#0077b6",
          "dash": "solid"
         },
         "marker": {
          "symbol": "circle"
         },
         "mode": "markers+lines",
         "name": "Ceará",
         "orientation": "v",
         "showlegend": true,
         "type": "scatter",
         "x": [
          "2016-12-31T00:00:00",
          "2017-12-31T00:00:00",
          "2018-12-31T00:00:00",
          "2019-12-31T00:00:00"
         ],
         "xaxis": "x",
         "y": [
          10.25,
          9.88,
          6.4,
          30.26
         ],
         "yaxis": "y"
        },
        {
         "hovertemplate": "<b>Período:</b> %{x} <br> <b>Lucro:</b> %{y}",
         "legendgroup": "Bahia",
         "line": {
          "color": "#e76f51",
          "dash": "solid"
         },
         "marker": {
          "symbol": "circle"
         },
         "mode": "markers+lines",
         "name": "Bahia",
         "orientation": "v",
         "showlegend": true,
         "type": "scatter",
         "x": [
          "2016-12-31T00:00:00",
          "2017-12-31T00:00:00",
          "2018-12-31T00:00:00",
          "2019-12-31T00:00:00"
         ],
         "xaxis": "x",
         "y": [
          9.98,
          6.89,
          8.59,
          14.09
         ],
         "yaxis": "y"
        },
        {
         "hovertemplate": "<b>Período:</b> %{x} <br> <b>Lucro:</b> %{y}",
         "legendgroup": "Pernambuco",
         "line": {
          "color": "#e9c46a",
          "dash": "solid"
         },
         "marker": {
          "symbol": "circle"
         },
         "mode": "markers+lines",
         "name": "Pernambuco",
         "orientation": "v",
         "showlegend": true,
         "type": "scatter",
         "x": [
          "2016-12-31T00:00:00",
          "2017-12-31T00:00:00",
          "2018-12-31T00:00:00",
          "2019-12-31T00:00:00"
         ],
         "xaxis": "x",
         "y": [
          11.73,
          4.24,
          9.18,
          6.98
         ],
         "yaxis": "y"
        },
        {
         "hovertemplate": "<b>Período:</b> %{x} <br> <b>Lucro:</b> %{y}",
         "legendgroup": "Maranhão",
         "line": {
          "color": "#4c956c",
          "dash": "solid"
         },
         "marker": {
          "symbol": "circle"
         },
         "mode": "markers+lines",
         "name": "Maranhão",
         "orientation": "v",
         "showlegend": true,
         "type": "scatter",
         "x": [
          "2016-12-31T00:00:00",
          "2017-12-31T00:00:00",
          "2018-12-31T00:00:00",
          "2019-12-31T00:00:00"
         ],
         "xaxis": "x",
         "y": [
          1.88,
          1.6,
          2.69,
          5.07
         ],
         "yaxis": "y"
        },
        {
         "hovertemplate": "<b>Período:</b> %{x} <br> <b>Lucro:</b> %{y}",
         "legendgroup": "Alagoas",
         "line": {
          "color": "#adb5bd",
          "dash": "solid"
         },
         "marker": {
          "symbol": "circle"
         },
         "mode": "markers+lines",
         "name": "Alagoas",
         "orientation": "v",
         "showlegend": true,
         "type": "scatter",
         "x": [
          "2016-12-31T00:00:00",
          "2017-12-31T00:00:00",
          "2018-12-31T00:00:00",
          "2019-12-31T00:00:00"
         ],
         "xaxis": "x",
         "y": [
          1.2,
          3.77,
          3.13,
          1.45
         ],
         "yaxis": "y"
        },
        {
         "hovertemplate": "<b>Período:</b> %{x} <br> <b>Lucro:</b> %{y}",
         "legendgroup": "Piauí",
         "line": {
          "color": "#CDDBF3",
          "dash": "solid"
         },
         "marker": {
          "symbol": "circle"
         },
         "mode": "markers+lines",
         "name": "Piauí",
         "orientation": "v",
         "showlegend": true,
         "type": "scatter",
         "x": [
          "2016-12-31T00:00:00",
          "2017-12-31T00:00:00",
          "2018-12-31T00:00:00",
          "2019-12-31T00:00:00"
         ],
         "xaxis": "x",
         "y": [
          0.02,
          1.43,
          5.43,
          1.34
         ],
         "yaxis": "y"
        },
        {
         "hovertemplate": "<b>Período:</b> %{x} <br> <b>Lucro:</b> %{y}",
         "legendgroup": "Rio Grande do Norte",
         "line": {
          "color": "#f4a261",
          "dash": "solid"
         },
         "marker": {
          "symbol": "circle"
         },
         "mode": "markers+lines",
         "name": "Rio Grande do Norte",
         "orientation": "v",
         "showlegend": true,
         "type": "scatter",
         "x": [
          "2016-12-31T00:00:00",
          "2017-12-31T00:00:00",
          "2018-12-31T00:00:00",
          "2019-12-31T00:00:00"
         ],
         "xaxis": "x",
         "y": [
          0.27,
          0.65,
          1.44,
          2.09
         ],
         "yaxis": "y"
        },
        {
         "hovertemplate": "<b>Período:</b> %{x} <br> <b>Lucro:</b> %{y}",
         "legendgroup": "Sergipe",
         "line": {
          "color": "#212529",
          "dash": "solid"
         },
         "marker": {
          "symbol": "circle"
         },
         "mode": "markers+lines",
         "name": "Sergipe",
         "orientation": "v",
         "showlegend": true,
         "type": "scatter",
         "x": [
          "2016-12-31T00:00:00",
          "2017-12-31T00:00:00",
          "2018-12-31T00:00:00",
          "2019-12-31T00:00:00"
         ],
         "xaxis": "x",
         "y": [
          0.89,
          0.98,
          0.55,
          1.95
         ],
         "yaxis": "y"
        },
        {
         "hovertemplate": "<b>Período:</b> %{x} <br> <b>Lucro:</b> %{y}",
         "legendgroup": "Paraíba",
         "line": {
          "color": "#90e0ef",
          "dash": "solid"
         },
         "marker": {
          "symbol": "circle"
         },
         "mode": "markers+lines",
         "name": "Paraíba",
         "orientation": "v",
         "showlegend": true,
         "type": "scatter",
         "x": [
          "2016-12-31T00:00:00",
          "2017-12-31T00:00:00",
          "2018-12-31T00:00:00",
          "2019-12-31T00:00:00"
         ],
         "xaxis": "x",
         "y": [
          -0.27,
          -2.2,
          0.15,
          1.6
         ],
         "yaxis": "y"
        }
       ],
       "layout": {
        "font": {
         "color": "#495057",
         "family": "DejaVu Sans",
         "size": 15
        },
        "height": 600,
        "legend": {
         "title": {
          "text": "Estados"
         },
         "tracegroupgap": 0
        },
        "margin": {
         "t": 60
        },
        "plot_bgcolor": "#f8f9fa",
        "template": {
         "data": {
          "bar": [
           {
            "error_x": {
             "color": "#2a3f5f"
            },
            "error_y": {
             "color": "#2a3f5f"
            },
            "marker": {
             "line": {
              "color": "#E5ECF6",
              "width": 0.5
             },
             "pattern": {
              "fillmode": "overlay",
              "size": 10,
              "solidity": 0.2
             }
            },
            "type": "bar"
           }
          ],
          "barpolar": [
           {
            "marker": {
             "line": {
              "color": "#E5ECF6",
              "width": 0.5
             },
             "pattern": {
              "fillmode": "overlay",
              "size": 10,
              "solidity": 0.2
             }
            },
            "type": "barpolar"
           }
          ],
          "carpet": [
           {
            "aaxis": {
             "endlinecolor": "#2a3f5f",
             "gridcolor": "white",
             "linecolor": "white",
             "minorgridcolor": "white",
             "startlinecolor": "#2a3f5f"
            },
            "baxis": {
             "endlinecolor": "#2a3f5f",
             "gridcolor": "white",
             "linecolor": "white",
             "minorgridcolor": "white",
             "startlinecolor": "#2a3f5f"
            },
            "type": "carpet"
           }
          ],
          "choropleth": [
           {
            "colorbar": {
             "outlinewidth": 0,
             "ticks": ""
            },
            "type": "choropleth"
           }
          ],
          "contour": [
           {
            "colorbar": {
             "outlinewidth": 0,
             "ticks": ""
            },
            "colorscale": [
             [
              0,
              "#0d0887"
             ],
             [
              0.1111111111111111,
              "#46039f"
             ],
             [
              0.2222222222222222,
              "#7201a8"
             ],
             [
              0.3333333333333333,
              "#9c179e"
             ],
             [
              0.4444444444444444,
              "#bd3786"
             ],
             [
              0.5555555555555556,
              "#d8576b"
             ],
             [
              0.6666666666666666,
              "#ed7953"
             ],
             [
              0.7777777777777778,
              "#fb9f3a"
             ],
             [
              0.8888888888888888,
              "#fdca26"
             ],
             [
              1,
              "#f0f921"
             ]
            ],
            "type": "contour"
           }
          ],
          "contourcarpet": [
           {
            "colorbar": {
             "outlinewidth": 0,
             "ticks": ""
            },
            "type": "contourcarpet"
           }
          ],
          "heatmap": [
           {
            "colorbar": {
             "outlinewidth": 0,
             "ticks": ""
            },
            "colorscale": [
             [
              0,
              "#0d0887"
             ],
             [
              0.1111111111111111,
              "#46039f"
             ],
             [
              0.2222222222222222,
              "#7201a8"
             ],
             [
              0.3333333333333333,
              "#9c179e"
             ],
             [
              0.4444444444444444,
              "#bd3786"
             ],
             [
              0.5555555555555556,
              "#d8576b"
             ],
             [
              0.6666666666666666,
              "#ed7953"
             ],
             [
              0.7777777777777778,
              "#fb9f3a"
             ],
             [
              0.8888888888888888,
              "#fdca26"
             ],
             [
              1,
              "#f0f921"
             ]
            ],
            "type": "heatmap"
           }
          ],
          "heatmapgl": [
           {
            "colorbar": {
             "outlinewidth": 0,
             "ticks": ""
            },
            "colorscale": [
             [
              0,
              "#0d0887"
             ],
             [
              0.1111111111111111,
              "#46039f"
             ],
             [
              0.2222222222222222,
              "#7201a8"
             ],
             [
              0.3333333333333333,
              "#9c179e"
             ],
             [
              0.4444444444444444,
              "#bd3786"
             ],
             [
              0.5555555555555556,
              "#d8576b"
             ],
             [
              0.6666666666666666,
              "#ed7953"
             ],
             [
              0.7777777777777778,
              "#fb9f3a"
             ],
             [
              0.8888888888888888,
              "#fdca26"
             ],
             [
              1,
              "#f0f921"
             ]
            ],
            "type": "heatmapgl"
           }
          ],
          "histogram": [
           {
            "marker": {
             "pattern": {
              "fillmode": "overlay",
              "size": 10,
              "solidity": 0.2
             }
            },
            "type": "histogram"
           }
          ],
          "histogram2d": [
           {
            "colorbar": {
             "outlinewidth": 0,
             "ticks": ""
            },
            "colorscale": [
             [
              0,
              "#0d0887"
             ],
             [
              0.1111111111111111,
              "#46039f"
             ],
             [
              0.2222222222222222,
              "#7201a8"
             ],
             [
              0.3333333333333333,
              "#9c179e"
             ],
             [
              0.4444444444444444,
              "#bd3786"
             ],
             [
              0.5555555555555556,
              "#d8576b"
             ],
             [
              0.6666666666666666,
              "#ed7953"
             ],
             [
              0.7777777777777778,
              "#fb9f3a"
             ],
             [
              0.8888888888888888,
              "#fdca26"
             ],
             [
              1,
              "#f0f921"
             ]
            ],
            "type": "histogram2d"
           }
          ],
          "histogram2dcontour": [
           {
            "colorbar": {
             "outlinewidth": 0,
             "ticks": ""
            },
            "colorscale": [
             [
              0,
              "#0d0887"
             ],
             [
              0.1111111111111111,
              "#46039f"
             ],
             [
              0.2222222222222222,
              "#7201a8"
             ],
             [
              0.3333333333333333,
              "#9c179e"
             ],
             [
              0.4444444444444444,
              "#bd3786"
             ],
             [
              0.5555555555555556,
              "#d8576b"
             ],
             [
              0.6666666666666666,
              "#ed7953"
             ],
             [
              0.7777777777777778,
              "#fb9f3a"
             ],
             [
              0.8888888888888888,
              "#fdca26"
             ],
             [
              1,
              "#f0f921"
             ]
            ],
            "type": "histogram2dcontour"
           }
          ],
          "mesh3d": [
           {
            "colorbar": {
             "outlinewidth": 0,
             "ticks": ""
            },
            "type": "mesh3d"
           }
          ],
          "parcoords": [
           {
            "line": {
             "colorbar": {
              "outlinewidth": 0,
              "ticks": ""
             }
            },
            "type": "parcoords"
           }
          ],
          "pie": [
           {
            "automargin": true,
            "type": "pie"
           }
          ],
          "scatter": [
           {
            "fillpattern": {
             "fillmode": "overlay",
             "size": 10,
             "solidity": 0.2
            },
            "type": "scatter"
           }
          ],
          "scatter3d": [
           {
            "line": {
             "colorbar": {
              "outlinewidth": 0,
              "ticks": ""
             }
            },
            "marker": {
             "colorbar": {
              "outlinewidth": 0,
              "ticks": ""
             }
            },
            "type": "scatter3d"
           }
          ],
          "scattercarpet": [
           {
            "marker": {
             "colorbar": {
              "outlinewidth": 0,
              "ticks": ""
             }
            },
            "type": "scattercarpet"
           }
          ],
          "scattergeo": [
           {
            "marker": {
             "colorbar": {
              "outlinewidth": 0,
              "ticks": ""
             }
            },
            "type": "scattergeo"
           }
          ],
          "scattergl": [
           {
            "marker": {
             "colorbar": {
              "outlinewidth": 0,
              "ticks": ""
             }
            },
            "type": "scattergl"
           }
          ],
          "scattermapbox": [
           {
            "marker": {
             "colorbar": {
              "outlinewidth": 0,
              "ticks": ""
             }
            },
            "type": "scattermapbox"
           }
          ],
          "scatterpolar": [
           {
            "marker": {
             "colorbar": {
              "outlinewidth": 0,
              "ticks": ""
             }
            },
            "type": "scatterpolar"
           }
          ],
          "scatterpolargl": [
           {
            "marker": {
             "colorbar": {
              "outlinewidth": 0,
              "ticks": ""
             }
            },
            "type": "scatterpolargl"
           }
          ],
          "scatterternary": [
           {
            "marker": {
             "colorbar": {
              "outlinewidth": 0,
              "ticks": ""
             }
            },
            "type": "scatterternary"
           }
          ],
          "surface": [
           {
            "colorbar": {
             "outlinewidth": 0,
             "ticks": ""
            },
            "colorscale": [
             [
              0,
              "#0d0887"
             ],
             [
              0.1111111111111111,
              "#46039f"
             ],
             [
              0.2222222222222222,
              "#7201a8"
             ],
             [
              0.3333333333333333,
              "#9c179e"
             ],
             [
              0.4444444444444444,
              "#bd3786"
             ],
             [
              0.5555555555555556,
              "#d8576b"
             ],
             [
              0.6666666666666666,
              "#ed7953"
             ],
             [
              0.7777777777777778,
              "#fb9f3a"
             ],
             [
              0.8888888888888888,
              "#fdca26"
             ],
             [
              1,
              "#f0f921"
             ]
            ],
            "type": "surface"
           }
          ],
          "table": [
           {
            "cells": {
             "fill": {
              "color": "#EBF0F8"
             },
             "line": {
              "color": "white"
             }
            },
            "header": {
             "fill": {
              "color": "#C8D4E3"
             },
             "line": {
              "color": "white"
             }
            },
            "type": "table"
           }
          ]
         },
         "layout": {
          "annotationdefaults": {
           "arrowcolor": "#2a3f5f",
           "arrowhead": 0,
           "arrowwidth": 1
          },
          "autotypenumbers": "strict",
          "coloraxis": {
           "colorbar": {
            "outlinewidth": 0,
            "ticks": ""
           }
          },
          "colorscale": {
           "diverging": [
            [
             0,
             "#8e0152"
            ],
            [
             0.1,
             "#c51b7d"
            ],
            [
             0.2,
             "#de77ae"
            ],
            [
             0.3,
             "#f1b6da"
            ],
            [
             0.4,
             "#fde0ef"
            ],
            [
             0.5,
             "#f7f7f7"
            ],
            [
             0.6,
             "#e6f5d0"
            ],
            [
             0.7,
             "#b8e186"
            ],
            [
             0.8,
             "#7fbc41"
            ],
            [
             0.9,
             "#4d9221"
            ],
            [
             1,
             "#276419"
            ]
           ],
           "sequential": [
            [
             0,
             "#0d0887"
            ],
            [
             0.1111111111111111,
             "#46039f"
            ],
            [
             0.2222222222222222,
             "#7201a8"
            ],
            [
             0.3333333333333333,
             "#9c179e"
            ],
            [
             0.4444444444444444,
             "#bd3786"
            ],
            [
             0.5555555555555556,
             "#d8576b"
            ],
            [
             0.6666666666666666,
             "#ed7953"
            ],
            [
             0.7777777777777778,
             "#fb9f3a"
            ],
            [
             0.8888888888888888,
             "#fdca26"
            ],
            [
             1,
             "#f0f921"
            ]
           ],
           "sequentialminus": [
            [
             0,
             "#0d0887"
            ],
            [
             0.1111111111111111,
             "#46039f"
            ],
            [
             0.2222222222222222,
             "#7201a8"
            ],
            [
             0.3333333333333333,
             "#9c179e"
            ],
            [
             0.4444444444444444,
             "#bd3786"
            ],
            [
             0.5555555555555556,
             "#d8576b"
            ],
            [
             0.6666666666666666,
             "#ed7953"
            ],
            [
             0.7777777777777778,
             "#fb9f3a"
            ],
            [
             0.8888888888888888,
             "#fdca26"
            ],
            [
             1,
             "#f0f921"
            ]
           ]
          },
          "colorway": [
           "#636efa",
           "#EF553B",
           "#00cc96",
           "#ab63fa",
           "#FFA15A",
           "#19d3f3",
           "#FF6692",
           "#B6E880",
           "#FF97FF",
           "#FECB52"
          ],
          "font": {
           "color": "#2a3f5f"
          },
          "geo": {
           "bgcolor": "white",
           "lakecolor": "white",
           "landcolor": "#E5ECF6",
           "showlakes": true,
           "showland": true,
           "subunitcolor": "white"
          },
          "hoverlabel": {
           "align": "left"
          },
          "hovermode": "closest",
          "mapbox": {
           "style": "light"
          },
          "paper_bgcolor": "white",
          "plot_bgcolor": "#E5ECF6",
          "polar": {
           "angularaxis": {
            "gridcolor": "white",
            "linecolor": "white",
            "ticks": ""
           },
           "bgcolor": "#E5ECF6",
           "radialaxis": {
            "gridcolor": "white",
            "linecolor": "white",
            "ticks": ""
           }
          },
          "scene": {
           "xaxis": {
            "backgroundcolor": "#E5ECF6",
            "gridcolor": "white",
            "gridwidth": 2,
            "linecolor": "white",
            "showbackground": true,
            "ticks": "",
            "zerolinecolor": "white"
           },
           "yaxis": {
            "backgroundcolor": "#E5ECF6",
            "gridcolor": "white",
            "gridwidth": 2,
            "linecolor": "white",
            "showbackground": true,
            "ticks": "",
            "zerolinecolor": "white"
           },
           "zaxis": {
            "backgroundcolor": "#E5ECF6",
            "gridcolor": "white",
            "gridwidth": 2,
            "linecolor": "white",
            "showbackground": true,
            "ticks": "",
            "zerolinecolor": "white"
           }
          },
          "shapedefaults": {
           "line": {
            "color": "#2a3f5f"
           }
          },
          "ternary": {
           "aaxis": {
            "gridcolor": "white",
            "linecolor": "white",
            "ticks": ""
           },
           "baxis": {
            "gridcolor": "white",
            "linecolor": "white",
            "ticks": ""
           },
           "bgcolor": "#E5ECF6",
           "caxis": {
            "gridcolor": "white",
            "linecolor": "white",
            "ticks": ""
           }
          },
          "title": {
           "x": 0.05
          },
          "xaxis": {
           "automargin": true,
           "gridcolor": "white",
           "linecolor": "white",
           "ticks": "",
           "title": {
            "standoff": 15
           },
           "zerolinecolor": "white",
           "zerolinewidth": 2
          },
          "yaxis": {
           "automargin": true,
           "gridcolor": "white",
           "linecolor": "white",
           "ticks": "",
           "title": {
            "standoff": 15
           },
           "zerolinecolor": "white",
           "zerolinewidth": 2
          }
         }
        },
        "title": {
         "font": {
          "color": "#212529",
          "size": 24
         },
         "text": "Lucros das lojas de departamentos por ano na Região Nordeste<br><sup size=1 style=\"color:#555655\">De 2016 a 2019</sup>"
        },
        "width": 1300,
        "xaxis": {
         "anchor": "y",
         "domain": [
          0,
          1
         ],
         "ticktext": [
          "2016",
          "2017",
          "2018",
          "2019"
         ],
         "tickvals": [
          "2016-12-31T00:00:00",
          "2017-12-31T00:00:00",
          "2018-12-31T00:00:00",
          "2019-12-31T00:00:00"
         ],
         "title": {
          "text": ""
         }
        },
        "yaxis": {
         "anchor": "x",
         "domain": [
          0,
          1
         ],
         "tickprefix": "R$ ",
         "ticksuffix": " mil",
         "title": {
          "text": ""
         }
        }
       }
      }
     },
     "metadata": {},
     "output_type": "display_data"
    }
   ],
   "source": [
    "fig = px.line(lucro_nordeste, x=lucro_nordeste.index, y=lucro_nordeste.columns, markers = True, labels={\"estado\": \"Estados\"},\n",
    "              color_discrete_sequence=[AZUL2, VERMELHO1, AMARELO1 , VERDE1, CINZA3, AZUL5, LARANJA1, CINZA1, AZUL4])\n",
    "\n",
    "fig.update_layout(width=1300, height=600, font_family = 'DejaVu Sans', font_size=15,\n",
    "                  font_color= CINZA2, title_font_color= CINZA1, title_font_size=24,\n",
    "                  title_text='Lucros das lojas de departamentos por ano na Região Nordeste' +\n",
    "                             '<br><sup size=1 style=\"color:#555655\">De 2016 a 2019</sup>',\n",
    "                  xaxis_title='', yaxis_title='', plot_bgcolor= CINZA5)\n",
    "\n",
    "fig.update_yaxes(tickprefix=\"R$ \", ticksuffix=\" mil\")\n",
    "\n",
    "labels = ['2016', '2017', '2018', '2019']\n",
    "fig.update_xaxes(ticktext = labels, tickvals=lucro_nordeste.index)\n",
    "\n",
    "fig.update_traces(mode=\"markers+lines\", hovertemplate = \"<b>Período:</b> %{x} <br> <b>Lucro:</b> %{y}\")\n",
    "\n",
    "fig.show()"
   ]
  },
  {
   "cell_type": "markdown",
   "metadata": {
    "id": "i_X1NcH9_T-u"
   },
   "source": [
    "## Aula 04 - Distribuindo dados"
   ]
  },
  {
   "cell_type": "markdown",
   "metadata": {
    "id": "jQGogqg0_uiR"
   },
   "source": [
    "### Desafio 1"
   ]
  },
  {
   "cell_type": "code",
   "execution_count": 42,
   "metadata": {
    "id": "kHsVLA2b_uiS"
   },
   "outputs": [],
   "source": [
    "idades = pd.read_csv(\n",
    "    r'C:\\Estudos\\alura\\data-science\\10-dataviz\\dados\\pop_idade.csv'\n",
    ")\n",
    "\n",
    "vol_amaciante = pd.read_csv(\n",
    "    r'C:\\Estudos\\alura\\data-science\\10-dataviz\\dados\\volume_amaciante.csv'\n",
    ")"
   ]
  },
  {
   "cell_type": "code",
   "execution_count": 91,
   "metadata": {
    "id": "T1dqk3Al_uiS"
   },
   "outputs": [
    {
     "data": {
      "image/png": "[encoded data removed]",
      "text/plain": [
       "<Figure size 2000x800 with 2 Axes>"
      ]
     },
     "metadata": {},
     "output_type": "display_data"
    }
   ],
   "source": [
    "sns.set_theme(style='white')\n",
    "fig, axs = plt.subplots(1, 2, figsize=(20, 8))\n",
    "\n",
    "plt.suptitle(t='Análise de gráficos de distribuição', fontsize=30,\n",
    "             y=1.05)\n",
    "\n",
    "sns.histplot(data=idades, ax=axs[0], x='idade', kde=True)\n",
    "axs[0].set_title('Distribuição em barras', fontsize=23, y=1.02)\n",
    "axs[0].set_xlabel('Idade', fontsize=17)\n",
    "axs[0].set_ylabel('Densidade', fontsize=17)\n",
    "axs[0].xaxis.set_tick_params(labelsize=15, color=CINZA2)\n",
    "axs[0].yaxis.set_tick_params(labelsize=15, color=CINZA2)\n",
    "\n",
    "\n",
    "sns.kdeplot(data=vol_amaciante, ax=axs[1], x='Volume', color=VERMELHO1, fill=True)\n",
    "axs[1].set_title('Distribuição em linha', fontsize=23, y=1.02)\n",
    "axs[1].set_xlabel('Volume', fontsize=17)\n",
    "axs[1].set_ylabel('Densidade', fontsize=17)\n",
    "axs[1].xaxis.set_tick_params(labelsize=14, color=CINZA2)\n",
    "axs[1].yaxis.set_tick_params(labelsize=14, color=CINZA2)\n",
    "axs[1].set_xlim(vol_amaciante['Volume'].min(), vol_amaciante['Volume'].max())\n",
    "\n",
    "\n",
    "sns.despine()\n",
    "plt.show()"
   ]
  }
 ],
 "metadata": {
  "colab": {
   "provenance": []
  },
  "kernelspec": {
   "display_name": "Python 3",
   "language": "python",
   "name": "python3"
  },
  "language_info": {
   "codemirror_mode": {
    "name": "ipython",
    "version": 3
   },
   "file_extension": ".py",
   "mimetype": "text/x-python",
   "name": "python",
   "nbconvert_exporter": "python",
   "pygments_lexer": "ipython3",
   "version": "3.12.9"
  },
  "orig_nbformat": 4
 },
 "nbformat": 4,
 "nbformat_minor": 0
}
